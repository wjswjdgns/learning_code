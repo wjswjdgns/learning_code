{
 "cells": [
  {
   "cell_type": "markdown",
   "id": "36fdbef2",
   "metadata": {},
   "source": [
    "# 문제"
   ]
  },
  {
   "cell_type": "markdown",
   "id": "10f7e239",
   "metadata": {},
   "source": [
    "한 개의 회의실이 있는데 이를 사용하고자 하는 N개의 회의에 대하여 회의실 사용표를 만들려고 한다. 각 회의 I에 대해 시작시간과 끝나는 시간이 주어져 있고, 각 회의가 겹치지 않게 하면서 회의실을 사용할 수 있는 회의의 최대 개수를 찾아보자. 단, 회의는 한번 시작하면 중간에 중단될 수 없으며 한 회의가 끝나는 것과 동시에 다음 회의가 시작될 수 있다. 회의의 시작시간과 끝나는 시간이 같을 수도 있다. 이 경우에는 시작하자마자 끝나는 것으로 생각하면 된다."
   ]
  },
  {
   "cell_type": "markdown",
   "id": "6244e0b7",
   "metadata": {},
   "source": [
    "# 입력"
   ]
  },
  {
   "cell_type": "markdown",
   "id": "76cb554f",
   "metadata": {},
   "source": [
    "첫째 줄에 회의의 수 N(1 ≤ N ≤ 100,000)이 주어진다. 둘째 줄부터 N+1 줄까지 각 회의의 정보가 주어지는데 이것은 공백을 사이에 두고 회의의 시작시간과 끝나는 시간이 주어진다. 시작 시간과 끝나는 시간은 231-1보다 작거나 같은 자연수 또는 0이다."
   ]
  },
  {
   "cell_type": "markdown",
   "id": "271bd7a0",
   "metadata": {},
   "source": [
    "# 출력 "
   ]
  },
  {
   "cell_type": "markdown",
   "id": "46ecc705",
   "metadata": {},
   "source": [
    "첫째 줄에 최대 사용할 수 있는 회의의 최대 개수를 출력한다."
   ]
  },
  {
   "cell_type": "markdown",
   "id": "8ed8a495",
   "metadata": {},
   "source": [
    "```\n",
    "예제입력\n",
    "11\n",
    "1 4\n",
    "3 5\n",
    "0 6\n",
    "5 7\n",
    "3 8\n",
    "5 9\n",
    "6 10\n",
    "8 11\n",
    "8 12\n",
    "2 13\n",
    "12 14\n",
    "```\n",
    "\n",
    "```\n",
    "예제 출력\n",
    "4\n",
    "```"
   ]
  },
  {
   "cell_type": "markdown",
   "id": "3988797a",
   "metadata": {},
   "source": [
    "# 힌트"
   ]
  },
  {
   "cell_type": "markdown",
   "id": "6aa0ef1e",
   "metadata": {},
   "source": [
    "(1,4), (5,7), (8,11), (12,14) 를 이용할 수 있다."
   ]
  },
  {
   "cell_type": "code",
   "execution_count": null,
   "id": "0b9e83fc",
   "metadata": {},
   "outputs": [],
   "source": [
    "# 고려해야 하는점\n",
    "# 시작과 끝이 너무 길 경우 많은 회의를 할 수 없기 때문에 끝나는 시간 기준으로 오름차순 정렬 필요\n",
    "# 2,2 1,2의 경우 1로 받아들여 질 수 있기 때문에 시작하는 시간의 오름차순 필요"
   ]
  },
  {
   "cell_type": "markdown",
   "id": "fb57baa6",
   "metadata": {},
   "source": [
    "# 코드"
   ]
  },
  {
   "cell_type": "code",
   "execution_count": null,
   "id": "00207937",
   "metadata": {},
   "outputs": [],
   "source": [
    "import sys\n",
    "input = sys.stdin.readline\n",
    "N = int(input())\n",
    "time = sorted([tuple(map(int, input().split())) for _ in range(N)], key=lambda x:(x[1], x[0])) #끝나는 시간 기준을 오름차순 \n",
    "\n",
    "count = 0\n",
    "end = 0\n",
    "for s,e in time:\n",
    "    if s >= end:\n",
    "        count += 1\n",
    "        end = e\n",
    "        \n"
   ]
  },
  {
   "cell_type": "code",
   "execution_count": null,
   "id": "920a8f16",
   "metadata": {},
   "outputs": [],
   "source": []
  }
 ],
 "metadata": {
  "kernelspec": {
   "display_name": "Python 3 (ipykernel)",
   "language": "python",
   "name": "python3"
  },
  "language_info": {
   "codemirror_mode": {
    "name": "ipython",
    "version": 3
   },
   "file_extension": ".py",
   "mimetype": "text/x-python",
   "name": "python",
   "nbconvert_exporter": "python",
   "pygments_lexer": "ipython3",
   "version": "3.9.13"
  }
 },
 "nbformat": 4,
 "nbformat_minor": 5
}
