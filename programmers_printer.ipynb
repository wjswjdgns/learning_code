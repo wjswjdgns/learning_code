{
 "cells": [
  {
   "cell_type": "markdown",
   "id": "d8a71955",
   "metadata": {},
   "source": [
    "# 문제"
   ]
  },
  {
   "cell_type": "markdown",
   "id": "0f53d10e",
   "metadata": {},
   "source": [
    "일반적인 프린터는 인쇄 요청이 들어온 순서대로 인쇄합니다. 그렇기 때문에 중요한 문서가 나중에 인쇄될 수 있습니다. 이런 문제를 보완하기 위해 중요도가 높은 문서를 먼저 인쇄하는 프린터를 개발했습니다. 이 새롭게 개발한 프린터는 아래와 같은 방식으로 인쇄 작업을 수행합니다."
   ]
  },
  {
   "cell_type": "markdown",
   "id": "b30bc174",
   "metadata": {},
   "source": [
    "1. 인쇄 대기목록의 가장 앞에 있는 문서(J)를 대기목록에서 꺼냅니다.\n",
    "2. 나머지 인쇄 대기목록에서 J보다 중요도가 높은 문서가 한 개라도 존재하면 J를 대기목록의 가장 마지막에 넣습니다.\n",
    "3. 그렇지 않으면 J를 인쇄합니다."
   ]
  },
  {
   "cell_type": "markdown",
   "id": "11c81d7f",
   "metadata": {},
   "source": [
    "예를 들어, 4개의 문서(A, B, C, D)가 순서대로 인쇄 대기목록에 있고 중요도가 2 1 3 2 라면 C D A B 순으로 인쇄하게 됩니다.\n",
    "내가 인쇄를 요청한 문서가 몇 번째로 인쇄되는지 알고 싶습니다. 위의 예에서 C는 1번째로, A는 3번째로 인쇄됩니다.\n",
    "현재 대기목록에 있는 문서의 중요도가 순서대로 담긴 배열 priorities와 내가 인쇄를 요청한 문서가 현재 대기목록의 어떤 위치에 있는지를 알려주는 location이 매개변수로 주어질 때, 내가 인쇄를 요청한 문서가 몇 번째로 인쇄되는지 return 하도록 solution 함수를 작성해주세요."
   ]
  },
  {
   "cell_type": "markdown",
   "id": "f69cfa9f",
   "metadata": {},
   "source": [
    "### 입력값 & 출력 값"
   ]
  },
  {
   "cell_type": "code",
   "execution_count": 1,
   "id": "e5753f23",
   "metadata": {},
   "outputs": [],
   "source": [
    "#priorities\tlocation\treturn\n",
    "#[2, 1, 3, 2]\t2\t1\n",
    "#[1, 1, 9, 1, 1, 1]\t0\t5"
   ]
  },
  {
   "cell_type": "markdown",
   "id": "474bb5e5",
   "metadata": {},
   "source": [
    "## 문제 풀이"
   ]
  },
  {
   "cell_type": "code",
   "execution_count": null,
   "id": "8c1b5642",
   "metadata": {},
   "outputs": [],
   "source": [
    "def solution(priorities, location):\n",
    "    answer = 0 #정답 변수\n",
    "    len_value = len(priorities) # 인쇄 문서 총 수 확인 및 저장\n",
    "    max_value = max(priorities) # 중요도가 가장 높은 문서 확인 및 저장\n",
    "    index_Queue = [i for i in range(len_value)] # 문서 위치값 저장\n",
    "\n",
    "    while True: \n",
    "        \n",
    "        #중요도가 가장 높은 문서일 경우 인쇄 시작\n",
    "        if priorities[0] == max_value:\n",
    "            answer += 1 #인쇄 횟수 증가 (출력 값)\n",
    "            \n",
    "            # 탈출문 --> 문서 위치값이 들어 있는 리스트를 확인 했을 때 요청한 문서와 동일한 것이 확인 되면 while문 탈출\n",
    "            if index_Queue[0] == location: \n",
    "                break\n",
    "            \n",
    "            #인쇄 진행\n",
    "            del priorities[0]\n",
    "            del index_Queue[0]\n",
    "            max_value = max(priorities) #최댓값 재설정\n",
    "        \n",
    "        #중요도가 낮은 문서일 경우 뒤로 보낸다\n",
    "        else:\n",
    "            priorities.append(priorities[0])\n",
    "            index_Queue.append(index_Queue[0])\n",
    "            del priorities[0]\n",
    "            del index_Queue[0]\n",
    "            \n",
    "    return answer"
   ]
  }
 ],
 "metadata": {
  "kernelspec": {
   "display_name": "Python 3 (ipykernel)",
   "language": "python",
   "name": "python3"
  },
  "language_info": {
   "codemirror_mode": {
    "name": "ipython",
    "version": 3
   },
   "file_extension": ".py",
   "mimetype": "text/x-python",
   "name": "python",
   "nbconvert_exporter": "python",
   "pygments_lexer": "ipython3",
   "version": "3.9.12"
  }
 },
 "nbformat": 4,
 "nbformat_minor": 5
}
