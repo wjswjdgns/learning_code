{
 "cells": [
  {
   "cell_type": "markdown",
   "id": "f9c48bb2",
   "metadata": {},
   "source": [
    "# 문제"
   ]
  },
  {
   "cell_type": "markdown",
   "id": "393ba6f9",
   "metadata": {},
   "source": [
    "왕비를 피해 일곱 난쟁이들과 함께 평화롭게 생활하고 있던 백설공주에게 위기가 찾아왔다. 일과를 마치고 돌아온 난쟁이가 일곱 명이 아닌 아홉 명이었던 것이다.\n",
    "\n",
    "아홉 명의 난쟁이는 모두 자신이 \"백설 공주와 일곱 난쟁이\"의 주인공이라고 주장했다. 뛰어난 수학적 직관력을 가지고 있던 백설공주는, 다행스럽게도 일곱 난쟁이의 키의 합이 100이 됨을 기억해 냈다.\n",
    "\n",
    "아홉 난쟁이의 키가 주어졌을 때, 백설공주를 도와 일곱 난쟁이를 찾는 프로그램을 작성하시오."
   ]
  },
  {
   "cell_type": "markdown",
   "id": "7a48e13b",
   "metadata": {},
   "source": [
    "# 입력"
   ]
  },
  {
   "cell_type": "markdown",
   "id": "9a76e613",
   "metadata": {},
   "source": [
    "아홉 개의 줄에 걸쳐 난쟁이들의 키가 주어진다. 주어지는 키는 100을 넘지 않는 자연수이며, 아홉 난쟁이의 키는 모두 다르며, 가능한 정답이 여러 가지인 경우에는 아무거나 출력한다."
   ]
  },
  {
   "cell_type": "markdown",
   "id": "a1f78b68",
   "metadata": {},
   "source": [
    "# 출력"
   ]
  },
  {
   "cell_type": "markdown",
   "id": "a59731b2",
   "metadata": {},
   "source": [
    "일곱 난쟁이의 키를 오름차순으로 출력한다. 일곱 난쟁이를 찾을 수 없는 경우는 없다."
   ]
  },
  {
   "cell_type": "markdown",
   "id": "20a5bb07",
   "metadata": {},
   "source": [
    "# 예제"
   ]
  },
  {
   "cell_type": "markdown",
   "id": "ee527a29",
   "metadata": {},
   "source": [
    "```\n",
    "예제 입력\n",
    "20\n",
    "7\n",
    "23\n",
    "19\n",
    "10\n",
    "15\n",
    "25\n",
    "8\n",
    "13\n",
    "```\n",
    "\n",
    "```\n",
    "예제 출력\n",
    "7\n",
    "8\n",
    "10\n",
    "13\n",
    "19\n",
    "20\n",
    "23\n",
    "```"
   ]
  },
  {
   "cell_type": "markdown",
   "id": "c33ec4f9",
   "metadata": {},
   "source": [
    "# 코드"
   ]
  },
  {
   "cell_type": "code",
   "execution_count": 15,
   "id": "6ab04cc3",
   "metadata": {},
   "outputs": [],
   "source": [
    "# 정렬 진행"
   ]
  },
  {
   "cell_type": "code",
   "execution_count": 23,
   "id": "0886756c",
   "metadata": {},
   "outputs": [
    {
     "name": "stdout",
     "output_type": "stream",
     "text": [
      "20\n",
      "7\n",
      "23\n",
      "19\n",
      "10\n",
      "15\n",
      "25\n",
      "8\n",
      "13\n",
      "7\n",
      "8\n",
      "10\n",
      "13\n",
      "19\n",
      "20\n",
      "23\n"
     ]
    }
   ],
   "source": [
    "value_list = []\n",
    "spy = []\n",
    "\n",
    "\n",
    "for _ in range(9):\n",
    "    value_list.append(int(input()))\n",
    "\n",
    "value_list.sort()\n",
    "\n",
    "spy_sum = sum(value_list)-100 #스파이 2명의 합계 \n",
    "check = False #스파이 검출 확인\n",
    "\n",
    "for i in range(len(value_list)):\n",
    "    for j in range(i+1, len(value_list)):\n",
    "        if value_list[i]+value_list[j] == spy_sum:\n",
    "            spy.append(value_list[i])\n",
    "            spy.append(value_list[j])\n",
    "            check = True\n",
    "            break\n",
    "    if check == True:\n",
    "        break\n",
    "        \n",
    "for k in spy:\n",
    "    del value_list[value_list.index(k)]\n",
    "    \n",
    "\n",
    "for result in value_list:\n",
    "    print(result)\n",
    "    \n",
    "\n"
   ]
  },
  {
   "cell_type": "code",
   "execution_count": null,
   "id": "92cedc7c",
   "metadata": {},
   "outputs": [],
   "source": []
  },
  {
   "cell_type": "code",
   "execution_count": null,
   "id": "04eb70bf",
   "metadata": {},
   "outputs": [],
   "source": []
  },
  {
   "cell_type": "code",
   "execution_count": null,
   "id": "c1fdd78d",
   "metadata": {},
   "outputs": [],
   "source": []
  }
 ],
 "metadata": {
  "kernelspec": {
   "display_name": "Python 3 (ipykernel)",
   "language": "python",
   "name": "python3"
  },
  "language_info": {
   "codemirror_mode": {
    "name": "ipython",
    "version": 3
   },
   "file_extension": ".py",
   "mimetype": "text/x-python",
   "name": "python",
   "nbconvert_exporter": "python",
   "pygments_lexer": "ipython3",
   "version": "3.9.12"
  }
 },
 "nbformat": 4,
 "nbformat_minor": 5
}
