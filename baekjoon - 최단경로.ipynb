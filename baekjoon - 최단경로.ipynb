{
 "cells": [
  {
   "cell_type": "markdown",
   "id": "691becf0",
   "metadata": {},
   "source": [
    "# 문제"
   ]
  },
  {
   "cell_type": "markdown",
   "id": "2122d25e",
   "metadata": {},
   "source": [
    "방향그래프가 주어지면 주어진 시작점에서 다른 모든 정점으로의 최단 경로를 구하는 프로그램을 작성하시오. 단, 모든 간선의 가중치는 10 이하의 자연수이다."
   ]
  },
  {
   "cell_type": "markdown",
   "id": "cbea9179",
   "metadata": {},
   "source": [
    "# 입력"
   ]
  },
  {
   "cell_type": "markdown",
   "id": "a7e68f1e",
   "metadata": {},
   "source": [
    "첫째 줄에 정점의 개수 V와 간선의 개수 E가 주어진다. (1 ≤ V ≤ 20,000, 1 ≤ E ≤ 300,000) 모든 정점에는 1부터 V까지 번호가 매겨져 있다고 가정한다. 둘째 줄에는 시작 정점의 번호 K(1 ≤ K ≤ V)가 주어진다. 셋째 줄부터 E개의 줄에 걸쳐 각 간선을 나타내는 세 개의 정수 (u, v, w)가 순서대로 주어진다. 이는 u에서 v로 가는 가중치 w인 간선이 존재한다는 뜻이다. u와 v는 서로 다르며 w는 10 이하의 자연수이다. 서로 다른 두 정점 사이에 여러 개의 간선이 존재할 수도 있음에 유의한다."
   ]
  },
  {
   "cell_type": "markdown",
   "id": "c2a82cab",
   "metadata": {},
   "source": [
    "# 출력"
   ]
  },
  {
   "cell_type": "markdown",
   "id": "e57807e2",
   "metadata": {},
   "source": [
    "첫째 줄부터 V개의 줄에 걸쳐, i번째 줄에 i번 정점으로의 최단 경로의 경로값을 출력한다. 시작점 자신은 0으로 출력하고, 경로가 존재하지 않는 경우에는 INF를 출력하면 된다."
   ]
  },
  {
   "cell_type": "markdown",
   "id": "a05a6a33",
   "metadata": {},
   "source": [
    "```\n",
    "예제 입력\n",
    "5 6\n",
    "1\n",
    "5 1 1\n",
    "1 2 2\n",
    "1 3 3\n",
    "2 3 4\n",
    "2 4 5\n",
    "3 4 6 \n",
    "```\n",
    "```\n",
    "예제 출력\n",
    "0\n",
    "2\n",
    "3\n",
    "7\n",
    "INF\n",
    "```"
   ]
  },
  {
   "cell_type": "markdown",
   "id": "7e63a4dc",
   "metadata": {},
   "source": [
    "# 코드"
   ]
  },
  {
   "cell_type": "code",
   "execution_count": null,
   "id": "2b1cc042",
   "metadata": {},
   "outputs": [],
   "source": [
    "import sys\n",
    "import heapq #최댓값 최솟값을 찾는 연산에 특화된 완전 이진트리 (우선순위 큐 : 최소 힙)\n",
    "input = sys.stdin.readline\n",
    "    \n",
    "INF = int(1e9) # 무한대 값 지정\n",
    "V,E = map(int, input().split()) #정점의 개수, 간선의 개수\n",
    "K = int(input()) # 시작 점\n",
    "value_list = [[] for _ in range(V+1)]\n",
    "distance = [INF] * (V+1)\n",
    "\n",
    "def solution(start):\n",
    "    heap = []\n",
    "    distance[start] = 0 #처음 시작 값을 0으로\n",
    "    heapq.heappush(heap, (0, start))\n",
    "    \n",
    "    while heap: #어느곳으로 갈 수 없는 경우가 나올 경우 루트 탈출\n",
    "        weight, node = heapq.heappop(heap) #가장 짧은 노드 가져오기\n",
    "        \n",
    "        if distance[node] < weight: #등록된 값보다 가중치가 더 클 경우 넘어간다.\n",
    "            continue\n",
    "        \n",
    "        # 연결된 노드를 거쳐 지나가는 최단 경로 만들기\n",
    "        for i in value_list[node]:\n",
    "            cost = weight + i[0] #누적 가중치 // 0부터 시작해서 순차적으로 지나온 가중치를 더한다\n",
    "            \n",
    "            # 현재보다 최단 경로일 경우 갱신\n",
    "            if cost < distance[i[1]]:\n",
    "                distance[i[1]] = cost\n",
    "                heapq.heappush(heap, (cost, i[1]))\n",
    "\n",
    "for _ in range(E):\n",
    "    u,v,w = map(int, input().split())\n",
    "    value_list[u].append((w,v))\n",
    "\n",
    "\n",
    "solution(K)\n",
    " \n",
    "for i in range(1,V+1): #정점의 개수 만큼 출력\n",
    "    if distance[i] == INF:\n",
    "        print(\"INF\")\n",
    "    else:\n",
    "        print(distance[i])"
   ]
  }
 ],
 "metadata": {
  "kernelspec": {
   "display_name": "Python 3 (ipykernel)",
   "language": "python",
   "name": "python3"
  },
  "language_info": {
   "codemirror_mode": {
    "name": "ipython",
    "version": 3
   },
   "file_extension": ".py",
   "mimetype": "text/x-python",
   "name": "python",
   "nbconvert_exporter": "python",
   "pygments_lexer": "ipython3",
   "version": "3.9.12"
  }
 },
 "nbformat": 4,
 "nbformat_minor": 5
}
