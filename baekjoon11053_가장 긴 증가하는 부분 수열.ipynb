{
 "cells": [
  {
   "cell_type": "markdown",
   "id": "0a150d24",
   "metadata": {},
   "source": [
    "# 문제"
   ]
  },
  {
   "cell_type": "markdown",
   "id": "4fc0970f",
   "metadata": {},
   "source": [
    "수열 A가 주어졌을 때, 가장 긴 증가하는 부분 수열을 구하는 프로그램을 작성하시오.\n",
    "\n",
    "예를 들어, 수열 A = {10, 20, 10, 30, 20, 50} 인 경우에 가장 긴 증가하는 부분 수열은 A = {10, 20, 10, 30, 20, 50} 이고, 길이는 4이다."
   ]
  },
  {
   "cell_type": "markdown",
   "id": "b3fe128c",
   "metadata": {},
   "source": [
    "# 입력"
   ]
  },
  {
   "cell_type": "markdown",
   "id": "16e79b31",
   "metadata": {},
   "source": [
    "첫째 줄에 수열 A의 크기 N (1 ≤ N ≤ 1,000)이 주어진다.\n",
    "\n",
    "둘째 줄에는 수열 A를 이루고 있는 Ai가 주어진다. (1 ≤ Ai ≤ 1,000)"
   ]
  },
  {
   "cell_type": "markdown",
   "id": "67a352dc",
   "metadata": {},
   "source": [
    "# 출력"
   ]
  },
  {
   "cell_type": "markdown",
   "id": "383e878e",
   "metadata": {},
   "source": [
    "첫째 줄에 수열 A의 가장 긴 증가하는 부분 수열의 길이를 출력한다."
   ]
  },
  {
   "cell_type": "markdown",
   "id": "b1ae97ac",
   "metadata": {},
   "source": [
    "```\n",
    "예제입력\n",
    "6\n",
    "10 20 10 30 20 50\n",
    "\n",
    "예제 출력\n",
    "4\n",
    "```"
   ]
  },
  {
   "cell_type": "markdown",
   "id": "c9c9d0b0",
   "metadata": {},
   "source": [
    "# 코드"
   ]
  },
  {
   "cell_type": "code",
   "execution_count": 4,
   "id": "4b0eb997",
   "metadata": {},
   "outputs": [
    {
     "name": "stdout",
     "output_type": "stream",
     "text": [
      "6\n",
      "10 20 10 30 20 50\n",
      "4\n"
     ]
    }
   ],
   "source": [
    "N = int(input())\n",
    "value = list(map(int, input().split()))\n",
    "\n",
    "memo = [1] * N\n",
    "\n",
    "for i in range(1,N): \n",
    "    for j in range(i): # 수열이기에 현재 값에서 그 이전까지 전체를 비교해본다. \n",
    "        if value[i] > value[j]: # 예를 들어 30일 경우 (10,20,10)이 비교 대상인데 이중 최댓값 + 1을 메모이제이션 \n",
    "            memo[i] = max(memo[i], memo[j]+1)\n",
    "            \n",
    "print(max(memo)) #제일 긴 수열을 찾는 것이기 때문에 max값 지정\n",
    "            \n"
   ]
  },
  {
   "cell_type": "code",
   "execution_count": null,
   "id": "b99b8885",
   "metadata": {},
   "outputs": [],
   "source": []
  },
  {
   "cell_type": "code",
   "execution_count": null,
   "id": "6aab9a01",
   "metadata": {},
   "outputs": [],
   "source": []
  }
 ],
 "metadata": {
  "kernelspec": {
   "display_name": "Python 3 (ipykernel)",
   "language": "python",
   "name": "python3"
  },
  "language_info": {
   "codemirror_mode": {
    "name": "ipython",
    "version": 3
   },
   "file_extension": ".py",
   "mimetype": "text/x-python",
   "name": "python",
   "nbconvert_exporter": "python",
   "pygments_lexer": "ipython3",
   "version": "3.9.12"
  }
 },
 "nbformat": 4,
 "nbformat_minor": 5
}
