{
 "cells": [
  {
   "cell_type": "markdown",
   "id": "9947c4f3",
   "metadata": {},
   "source": [
    "# 문제"
   ]
  },
  {
   "cell_type": "markdown",
   "id": "d7a06010",
   "metadata": {},
   "source": [
    "루트 없는 트리가 주어진다. 이때, 트리의 루트를 1이라고 정했을 때, 각 노드의 부모를 구하는 프로그램을 작성하시오.\n"
   ]
  },
  {
   "cell_type": "markdown",
   "id": "420432ef",
   "metadata": {},
   "source": [
    "# 입력"
   ]
  },
  {
   "cell_type": "markdown",
   "id": "5f6206a9",
   "metadata": {},
   "source": [
    "첫째 줄에 노드의 개수 N (2 ≤ N ≤ 100,000)이 주어진다. 둘째 줄부터 N-1개의 줄에 트리 상에서 연결된 두 정점이 주어진다."
   ]
  },
  {
   "cell_type": "markdown",
   "id": "7655bf42",
   "metadata": {},
   "source": [
    "# 출력"
   ]
  },
  {
   "cell_type": "markdown",
   "id": "b4df3fc8",
   "metadata": {},
   "source": [
    "첫째 줄부터 N-1개의 줄에 각 노드의 부모 노드 번호를 2번 노드부터 순서대로 출력한다."
   ]
  },
  {
   "cell_type": "markdown",
   "id": "fe3e3b71",
   "metadata": {},
   "source": [
    "<hr>"
   ]
  },
  {
   "cell_type": "markdown",
   "id": "fefcfd6e",
   "metadata": {},
   "source": [
    "## 입력 및 출력 값"
   ]
  },
  {
   "cell_type": "markdown",
   "id": "535ddd34",
   "metadata": {},
   "source": [
    "<div style=\"display:inline-block;\">\n",
    "<p>입력값01</p>\n",
    "<pre>\n",
    "7\n",
    "1 6\n",
    "6 3\n",
    "3 5\n",
    "4 1\n",
    "2 4\n",
    "4 7\n",
    "</pre>\n",
    "<p>출력값01</p>\n",
    "<pre>\n",
    "4\n",
    "6\n",
    "1\n",
    "3\n",
    "1\n",
    "4\n",
    "</pre>\n",
    "</div>\n",
    "<div style=\"display:inline-block;\">\n",
    "<p>입력값02</p>\n",
    "<pre>\n",
    "12\n",
    "1 2\n",
    "1 3\n",
    "2 4\n",
    "3 5\n",
    "3 6\n",
    "4 7\n",
    "4 8\n",
    "5 9\n",
    "5 10\n",
    "6 11\n",
    "6 12\n",
    "</pre>\n",
    "<p>출력값02</p>\n",
    "<pre>\n",
    "1\n",
    "1\n",
    "2\n",
    "3\n",
    "3\n",
    "4\n",
    "4\n",
    "5\n",
    "5\n",
    "6\n",
    "6\n",
    "</pre>\n",
    "</div>\n"
   ]
  },
  {
   "cell_type": "markdown",
   "id": "7181115b",
   "metadata": {},
   "source": [
    "### 확인 해야 할 것"
   ]
  },
  {
   "cell_type": "markdown",
   "id": "58bd5ebd",
   "metadata": {},
   "source": [
    "- 주어지는 두개의 숫자 중 어떤 것이 부모인지 확인 불가능"
   ]
  },
  {
   "cell_type": "code",
   "execution_count": null,
   "id": "40480cde",
   "metadata": {},
   "outputs": [],
   "source": []
  },
  {
   "cell_type": "markdown",
   "id": "9f32f2ac",
   "metadata": {},
   "source": [
    "# 코드"
   ]
  },
  {
   "cell_type": "code",
   "execution_count": null,
   "id": "1d55fd23",
   "metadata": {},
   "outputs": [],
   "source": [
    "\n",
    "from collections import deque\n",
    "\n",
    "\n",
    "parents_dic[1].append(1)\n",
    "parents_dic[2] = [2]\n",
    "\n",
    " \n",
    "N = int(input())\n",
    "child = [[] for _ in range(N+1)]\n",
    "parents = [0 for _ in range(N+1)]\n",
    "\n",
    "for i in range(N-1):\n",
    "    value01, value02 = map(int,input().split())\n",
    "    \n",
    "    child[value01].append(value02)\n",
    "    child[value02].append(value01)\n",
    "    \n",
    "    \n",
    "print(child)"
   ]
  },
  {
   "cell_type": "code",
   "execution_count": null,
   "id": "a0439750",
   "metadata": {},
   "outputs": [],
   "source": []
  },
  {
   "cell_type": "code",
   "execution_count": null,
   "id": "723dd7cd",
   "metadata": {},
   "outputs": [],
   "source": []
  }
 ],
 "metadata": {
  "kernelspec": {
   "display_name": "Python 3 (ipykernel)",
   "language": "python",
   "name": "python3"
  },
  "language_info": {
   "codemirror_mode": {
    "name": "ipython",
    "version": 3
   },
   "file_extension": ".py",
   "mimetype": "text/x-python",
   "name": "python",
   "nbconvert_exporter": "python",
   "pygments_lexer": "ipython3",
   "version": "3.9.12"
  }
 },
 "nbformat": 4,
 "nbformat_minor": 5
}
