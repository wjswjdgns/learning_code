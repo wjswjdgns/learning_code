{
 "cells": [
  {
   "cell_type": "markdown",
   "id": "9947c4f3",
   "metadata": {},
   "source": [
    "# 문제"
   ]
  },
  {
   "cell_type": "markdown",
   "id": "d7a06010",
   "metadata": {},
   "source": [
    "루트 없는 트리가 주어진다. 이때, 트리의 루트를 1이라고 정했을 때, 각 노드의 부모를 구하는 프로그램을 작성하시오.\n"
   ]
  },
  {
   "cell_type": "markdown",
   "id": "420432ef",
   "metadata": {},
   "source": [
    "# 입력"
   ]
  },
  {
   "cell_type": "markdown",
   "id": "5f6206a9",
   "metadata": {},
   "source": [
    "첫째 줄에 노드의 개수 N (2 ≤ N ≤ 100,000)이 주어진다. 둘째 줄부터 N-1개의 줄에 트리 상에서 연결된 두 정점이 주어진다."
   ]
  },
  {
   "cell_type": "markdown",
   "id": "7655bf42",
   "metadata": {},
   "source": [
    "# 출력"
   ]
  },
  {
   "cell_type": "markdown",
   "id": "b4df3fc8",
   "metadata": {},
   "source": [
    "첫째 줄부터 N-1개의 줄에 각 노드의 부모 노드 번호를 2번 노드부터 순서대로 출력한다."
   ]
  },
  {
   "cell_type": "markdown",
   "id": "fe3e3b71",
   "metadata": {},
   "source": [
    "<hr>"
   ]
  },
  {
   "cell_type": "markdown",
   "id": "fefcfd6e",
   "metadata": {},
   "source": [
    "## 입력 및 출력 값"
   ]
  },
  {
   "cell_type": "markdown",
   "id": "535ddd34",
   "metadata": {},
   "source": [
    "<div style=\"display:inline-block;\">\n",
    "<p>입력값01</p>\n",
    "<pre>\n",
    "7\n",
    "1 6\n",
    "6 3\n",
    "3 5\n",
    "4 1\n",
    "2 4\n",
    "4 7\n",
    "</pre>\n",
    "<p>출력값01</p>\n",
    "<pre>\n",
    "4\n",
    "6\n",
    "1\n",
    "3\n",
    "1\n",
    "4\n",
    "</pre>\n",
    "</div>\n",
    "<div style=\"display:inline-block;\">\n",
    "<p>입력값02</p>\n",
    "<pre>\n",
    "12\n",
    "1 2\n",
    "1 3\n",
    "2 4\n",
    "3 5\n",
    "3 6\n",
    "4 7\n",
    "4 8\n",
    "5 9\n",
    "5 10\n",
    "6 11\n",
    "6 12\n",
    "</pre>\n",
    "<p>출력값02</p>\n",
    "<pre>\n",
    "1\n",
    "1\n",
    "2\n",
    "3\n",
    "3\n",
    "4\n",
    "4\n",
    "5\n",
    "5\n",
    "6\n",
    "6\n",
    "</pre>\n",
    "</div>\n"
   ]
  },
  {
   "cell_type": "markdown",
   "id": "7181115b",
   "metadata": {},
   "source": [
    "### 확인 해야 할 것"
   ]
  },
  {
   "cell_type": "markdown",
   "id": "58bd5ebd",
   "metadata": {},
   "source": [
    "- 주어지는 두개의 숫자 중 어떤 것이 부모인지 확인 불가능 (전부 넣고 분류 작업 필요)\n",
    "- 트리 구조임으로 하나의 값에 부모가 두개가 될 수 없다. "
   ]
  },
  {
   "cell_type": "markdown",
   "id": "9f32f2ac",
   "metadata": {},
   "source": [
    "# 1차 코드\n",
    "- 런타임 에러 발생"
   ]
  },
  {
   "cell_type": "code",
   "execution_count": 2,
   "id": "1d55fd23",
   "metadata": {},
   "outputs": [
    {
     "name": "stdout",
     "output_type": "stream",
     "text": [
      "1\n",
      "1\n",
      "2\n",
      "3\n",
      "3\n",
      "4\n",
      "4\n",
      "5\n",
      "5\n",
      "6\n",
      "6\n"
     ]
    }
   ],
   "source": [
    "N = int(input())\n",
    "\n",
    "tree = [[] for _ in range(N)] # 자식 + 부모를 담은  리스트 생성 (부모를 걸러내는 작업 필요)\n",
    "parents = [0 for _ in range(N)] # 부모를 기억하는 리스트\n",
    "\n",
    "for i in range(N-1):\n",
    "    value01, value02 = map(int, input().split())\n",
    "    \n",
    "    # 주어진 value01과 value02 중 어떤 것이 부모인지 알 수 없기 때문에 전부 넣고 추후 분류 진행\n",
    "    tree[value01-1].append(value02)\n",
    "    tree[value02-1].append(value01)\n",
    "\n",
    "def search_parents(target, target_values):\n",
    "    #tree에 담겨진 정보를 바탕으로 서칭 진행\n",
    "    for z in target_values:\n",
    "        if parents[z-1] == 0: # 해당 번호의 등록된 부모 값이 없을 경우\n",
    "            parents[z-1] = target #부모값 등록\n",
    "            search_parents(z, tree[z-1]) #해방 번호의 자식 + 부모 값으로 넘어가서 재확인\n",
    "        \n",
    "        #이미 부모 값이 있다면 더 이상 부모를 등록하지 않고 넘어가게 된다 (tree에서 섞여 있는 데이터 걸러내기)\n",
    "\n",
    "#부모를 확인하는 함수 진행 (루트는 1이라고 했기 때문에 1로 진행)\n",
    "search_parents(1, tree[0])\n",
    "\n",
    "for result in parents[1:]:\n",
    "    print(result)"
   ]
  },
  {
   "cell_type": "markdown",
   "id": "e0e53f9d",
   "metadata": {},
   "source": [
    "tree에 입력되는 값 : [[6,4][4][6,5][1,2,7][3][1,3][4]] <br>\n",
    "parents에 입력되는 값 : [6,4,6,1,3,1,4]\n",
    "\n",
    "\n",
    "### 함수 진행 과정\n",
    "#### 1. search_parents(1, [6,4])\n",
    "--> for문 6 진행 --> parents[5] 값이 0이므로 if문 실행 --> parents[5]에 1을 등록 --> 두번재 함수 진행 <br>\n",
    "\n",
    "#### 2. search_parents(6, [1,3])\n",
    "--> for문 1 진행 --> parents[0] 값이 0이므로 if문 실행 --> parents[0]에 6을 등록 --> 세번째 함수 진행 <br>\n",
    "\n",
    "#### 3. search_parents(1, [6,4])\n",
    "--> for문 6 진행 --> parents[5]값이 0이 아니므로 넘어감 <br>\n",
    "--> for문 4 진행 --> parents[3]값이 0이므로 if문 실행 --> parents[3]에 1을 등록 --> 네번째 함수 진행 <br>\n",
    "\n",
    "#### 4. search_parents(4, [1,2,7])\n",
    "--> for문 1 진행 --> parents[0]값이 0이 아니므로 넘어감 <br>\n",
    "--> for문 2 진행 --> parents[1]값이 0이므로 if문 실행 --> parents[1]에 4를 등록 --> 다섯번째 함수 진행 <br>\n",
    "\n",
    "#### 5. search_parents(2, [4])\n",
    "--> for문 4 진행 --> parents[3]값이 0이 아니므로 넘어감 <br>\n",
    "--> for문 종료 --> 이전 함수로 돌아감<br>\n",
    "\n",
    "#### 4. search_parents(4, [1,2,7])\n",
    "--> for문 7진행 --> parents[6]값이 0이므로 if문 실행 --> parents[6]에 4를 등록 --> 여섯번째 함수 진행<br>\n",
    "\n",
    "#### 6. search_parents(7, [4])\n",
    "--> for문 4진행 --> parents[3]값이 0이 아니므로 넘어감 <br>\n",
    "--> for문 종료 --> 이전 함수로 돌아감\n",
    "\n",
    "#### 4. search_parents(4,[1,2,7])\n",
    "--> for문 종료 --> 이전 함수로 돌아감<br>\n",
    "\n",
    "#### 3. search_parents(1, [6,4])\n",
    "--> for문 종료 --> 이전 함수로 돌아감<br>\n",
    "\n",
    "#### 2.search_parents(6, [1,3])\n",
    "--> for문 3진행 --> parents[2]값이 0이므로 if문 실행 --> parents[2]에 6을 등록 --> 일곱번째 함수 진행 <br>\n",
    "\n",
    "#### 7. search_parents(3, [6,5])\n",
    "--> for문 6 진행 --> parents[5]값이 0이 아니므로 넘어감 <br>\n",
    "--> for문 5 진행 --> parents[4]값이 0이므로 if문 실행 --> parents[4]에 3을 등록 --> 여덣번째 함수 진행 <br>\n",
    "\n",
    "#### 8. search_parents(5, [3])\n",
    "--> for문 3 진행 --> parents[2]값이 0이 아니므로 넘어감<br>\n",
    "--> for문 종료 --> 이전함수로 돌아감<br>\n",
    "\n",
    "#### 7.search_parents(3,[6,5])\n",
    "--> for문 종료 --> 이전함수로 돌아감<br>\n",
    "\n",
    "#### 2.search_parents(6,[1,3]) \n",
    "--> for문 종료 --> 이전함수로 돌아감<br>\n",
    "\n",
    "#### 1.search_parents(1, [6,4])\n",
    "--> for문 4진행 --> parents[3]값이 0이 아니므로 넘어감 <br>\n",
    "--> for문 종료 --> 함수 종료\n"
   ]
  },
  {
   "cell_type": "markdown",
   "id": "830d7f51",
   "metadata": {},
   "source": [
    "# 2차 코드 (sys.stdin.readline 사용)\n",
    "- 런타임 에러 발생\n",
    "- 재귀 함수를 사용해서 문제 발생 : Python3 기준 재귀 깊이는 1000이라고 함"
   ]
  },
  {
   "cell_type": "code",
   "execution_count": 1,
   "id": "723dd7cd",
   "metadata": {},
   "outputs": [],
   "source": [
    "import sys\n",
    "N = int(sys.stdin.readline())\n",
    "\n",
    "tree = [[] for _ in range(N)] # 자식 + 부모를 담은  리스트 생성 (부모를 걸러내는 작업 필요)\n",
    "parents = [0 for _ in range(N)] # 부모를 기억하는 리스트\n",
    "\n",
    "for i in range(N-1):\n",
    "    value01, value02 = map(int, sys.stdin.readline().split())\n",
    "    \n",
    "    # 주어진 value01과 value02 중 어떤 것이 부모인지 알 수 없기 때문에 전부 넣고 추후 분류 진행\n",
    "    tree[value01-1].append(value02)\n",
    "    tree[value02-1].append(value01)\n",
    "\n",
    "def search_parents(target, target_values):\n",
    "    #tree에 담겨진 정보를 바탕으로 서칭 진행\n",
    "    for z in target_values:\n",
    "        if parents[z-1] == 0: # 해당 번호의 등록된 부모 값이 없을 경우\n",
    "            parents[z-1] = target #부모값 등록\n",
    "            search_parents(z, tree[z-1]) #해방 번호의 자식 + 부모 값으로 넘어가서 재확인\n",
    "        \n",
    "        #이미 부모 값이 있다면 더 이상 부모를 등록하지 않고 넘어가게 된다 (tree에서 섞여 있는 데이터 걸러내기)\n",
    "\n",
    "#부모를 확인하는 함수 진행 (루트는 1이라고 했기 때문에 1로 진행)\n",
    "search_parents(1, tree[0])\n",
    "\n",
    "for result in parents[1:]:\n",
    "    print(result)"
   ]
  },
  {
   "cell_type": "markdown",
   "id": "7f67e43b",
   "metadata": {},
   "source": [
    "# 3차 코드 (sys.setrecursionlimit(10**6) 사용) \n",
    "- 코드 통과\n",
    "- 처음에 sys.setrecursionlimit(10**5) 100000 정도로 진행했지만 여전히 런타임 에러 발생\n",
    "- sys.setrecursionlimit(10**6)으로 늘려서 진행"
   ]
  },
  {
   "cell_type": "code",
   "execution_count": null,
   "id": "2ec77ce8",
   "metadata": {},
   "outputs": [],
   "source": [
    "import sys\n",
    "sys.setrecursionlimit(10**6)\n",
    "N = int(sys.stdin.readline())\n",
    "\n",
    "tree = [[] for _ in range(N)] # 자식 + 부모를 담은  리스트 생성 (부모를 걸러내는 작업 필요)\n",
    "parents = [0 for _ in range(N)] # 부모를 기억하는 리스트\n",
    "\n",
    "for i in range(N-1):\n",
    "    value01, value02 = map(int, sys.stdin.readline().split())\n",
    "    \n",
    "    # 주어진 value01과 value02 중 어떤 것이 부모인지 알 수 없기 때문에 전부 넣고 추후 분류 진행\n",
    "    tree[value01-1].append(value02)\n",
    "    tree[value02-1].append(value01)\n",
    "\n",
    "def search_parents(target, target_values):\n",
    "    #tree에 담겨진 정보를 바탕으로 서칭 진행\n",
    "    for z in target_values:\n",
    "        if parents[z-1] == 0: # 해당 번호의 등록된 부모 값이 없을 경우\n",
    "            parents[z-1] = target #부모값 등록\n",
    "            search_parents(z, tree[z-1]) #해방 번호의 자식 + 부모 값으로 넘어가서 재확인\n",
    "        \n",
    "        #이미 부모 값이 있다면 더 이상 부모를 등록하지 않고 넘어가게 된다 (tree에서 섞여 있는 데이터 걸러내기)\n",
    "\n",
    "#부모를 확인하는 함수 진행 (루트는 1이라고 했기 때문에 1로 진행)\n",
    "search_parents(1, tree[0])\n",
    "\n",
    "for result in parents[1:]:\n",
    "    print(result)"
   ]
  }
 ],
 "metadata": {
  "kernelspec": {
   "display_name": "Python 3.10.6 ('crolling': venv)",
   "language": "python",
   "name": "python3"
  },
  "language_info": {
   "codemirror_mode": {
    "name": "ipython",
    "version": 3
   },
   "file_extension": ".py",
   "mimetype": "text/x-python",
   "name": "python",
   "nbconvert_exporter": "python",
   "pygments_lexer": "ipython3",
   "version": "3.10.6"
  },
  "vscode": {
   "interpreter": {
    "hash": "59aee6c7ff0c99865ab0138826e5eaae7f7531709688aced78df2ebdf31c5fa8"
   }
  }
 },
 "nbformat": 4,
 "nbformat_minor": 5
}
