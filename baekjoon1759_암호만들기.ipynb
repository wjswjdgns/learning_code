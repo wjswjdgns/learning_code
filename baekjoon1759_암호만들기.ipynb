{
 "cells": [
  {
   "cell_type": "markdown",
   "id": "9756c6ad",
   "metadata": {},
   "source": [
    "### 문제"
   ]
  },
  {
   "cell_type": "markdown",
   "id": "568345b7",
   "metadata": {},
   "source": [
    "바로 어제 최백준 조교가 방 열쇠를 주머니에 넣은 채 깜빡하고 서울로 가 버리는 황당한 상황에 직면한 조교들은, 702호에 새로운 보안 시스템을 설치하기로 하였다. 이 보안 시스템은 열쇠가 아닌 암호로 동작하게 되어 있는 시스템이다.\n",
    "\n",
    "암호는 서로 다른 L개의 알파벳 소문자들로 구성되며 최소 한 개의 모음(a, e, i, o, u)과 최소 두 개의 자음으로 구성되어 있다고 알려져 있다. 또한 정렬된 문자열을 선호하는 조교들의 성향으로 미루어 보아 암호를 이루는 알파벳이 암호에서 증가하는 순서로 배열되었을 것이라고 추측된다. 즉, abc는 가능성이 있는 암호이지만 bac는 그렇지 않다.\n",
    "\n",
    "새 보안 시스템에서 조교들이 암호로 사용했을 법한 문자의 종류는 C가지가 있다고 한다. 이 알파벳을 입수한 민식, 영식 형제는 조교들의 방에 침투하기 위해 암호를 추측해 보려고 한다. C개의 문자들이 모두 주어졌을 때, 가능성 있는 암호들을 모두 구하는 프로그램을 작성하시오."
   ]
  },
  {
   "cell_type": "markdown",
   "id": "678066fb",
   "metadata": {},
   "source": [
    "### 입력"
   ]
  },
  {
   "cell_type": "markdown",
   "id": "de226bfb",
   "metadata": {},
   "source": [
    "첫째 줄에 두 정수 L, C가 주어진다. (3 ≤ L ≤ C ≤ 15) 다음 줄에는 C개의 문자들이 공백으로 구분되어 주어진다. 주어지는 문자들은 알파벳 소문자이며, 중복되는 것은 없다."
   ]
  },
  {
   "cell_type": "markdown",
   "id": "cab420cc",
   "metadata": {},
   "source": [
    "### 출력"
   ]
  },
  {
   "cell_type": "markdown",
   "id": "337937c6",
   "metadata": {},
   "source": [
    "각 줄에 하나씩, 사전식으로 가능성 있는 암호를 모두 출력한다."
   ]
  },
  {
   "cell_type": "markdown",
   "id": "eb72e266",
   "metadata": {},
   "source": [
    "<pre>\n",
    "예제 입력\n",
    "4 6\n",
    "a t c i s w\n",
    "</pre>\n",
    "<pre>\n",
    "예제 출력\n",
    "acis\n",
    "acit\n",
    "aciw\n",
    "acst\n",
    "acsw\n",
    "actw\n",
    "aist\n",
    "aisw\n",
    "aitw\n",
    "astw\n",
    "cist\n",
    "cisw\n",
    "citw\n",
    "istw\n",
    "</pre>"
   ]
  },
  {
   "cell_type": "markdown",
   "id": "6b603ccb",
   "metadata": {},
   "source": [
    "### 코드"
   ]
  },
  {
   "cell_type": "code",
   "execution_count": null,
   "id": "0806b962",
   "metadata": {},
   "outputs": [],
   "source": [
    "from collections import deque\n",
    "def solution(word, depth, idx, L, C):\n",
    "\n",
    "    if depth == L:\n",
    "        result_list.append(word)\n",
    "        return\n",
    "\n",
    "    for i in range(idx, C): #움직이는 인덱스부터 value_list의 끝까지 진행\n",
    "        solution(word+value_list[i], depth+1, i+1, L, C)\n",
    "        \n",
    "L,C = map(int, input().split()) # L개의 알파벳 C만큼의 \n",
    "value_list = input().split() #\n",
    "value_list.sort()\n",
    "\n",
    "# 변수 설정\n",
    "depth = 0 #총 길이\n",
    "idx = 0 # 움직이는 인덱스\n",
    "result_list = deque()\n",
    "word = ''\n",
    "check_list = ['a', 'e', 'i', 'o', 'u'] #체크 리스트\n",
    "\n",
    "solution(word ,depth, idx, L,C)\n",
    "\n",
    "#패스워드 확인\n",
    "for password in result_list:\n",
    "    collection = 0 #모음확인\n",
    "    consonant = 0 #자음확인\n",
    "    \n",
    "    for p_word in password:\n",
    "        if p_word in check_list:\n",
    "            collection+=1\n",
    "        else:\n",
    "            consonant+=1\n",
    "    \n",
    "    if collection >= 1 and consonant >= 2:\n",
    "        print(password)"
   ]
  },
  {
   "cell_type": "code",
   "execution_count": null,
   "id": "ce8e01c1",
   "metadata": {},
   "outputs": [],
   "source": []
  },
  {
   "cell_type": "code",
   "execution_count": null,
   "id": "a89fd3be",
   "metadata": {},
   "outputs": [],
   "source": []
  }
 ],
 "metadata": {
  "kernelspec": {
   "display_name": "Python 3 (ipykernel)",
   "language": "python",
   "name": "python3"
  },
  "language_info": {
   "codemirror_mode": {
    "name": "ipython",
    "version": 3
   },
   "file_extension": ".py",
   "mimetype": "text/x-python",
   "name": "python",
   "nbconvert_exporter": "python",
   "pygments_lexer": "ipython3",
   "version": "3.9.12"
  }
 },
 "nbformat": 4,
 "nbformat_minor": 5
}
