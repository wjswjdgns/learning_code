{
 "cells": [
  {
   "cell_type": "markdown",
   "id": "c5ea8c36",
   "metadata": {},
   "source": [
    "# 문제"
   ]
  },
  {
   "cell_type": "markdown",
   "id": "d39d2aa2",
   "metadata": {},
   "source": [
    "n개의 노드가 있는 그래프가 있습니다. 각 노드는 1부터 n까지 번호가 적혀있습니다. 1번 노드에서 가장 멀리 떨어진 노드의 갯수를 구하려고 합니다. 가장 멀리 떨어진 노드란 최단경로로 이동했을 때 간선의 개수가 가장 많은 노드들을 의미합니다.\n",
    "노드의 개수 n, 간선에 대한 정보가 담긴 2차원 배열 vertex가 매개변수로 주어질 때, 1번 노드로부터 가장 멀리 떨어진 노드가 몇 개인지를 return 하도록 solution 함수를 작성해주세요."
   ]
  },
  {
   "cell_type": "markdown",
   "id": "87745811",
   "metadata": {},
   "source": [
    "# 제한사항"
   ]
  },
  {
   "cell_type": "markdown",
   "id": "0ac327d2",
   "metadata": {},
   "source": [
    "노드의 개수 n은 2 이상 20,000 이하입니다.\n",
    "간선은 양방향이며 총 1개 이상 50,000개 이하의 간선이 있습니다.\n",
    "vertex 배열 각 행 [a, b]는 a번 노드와 b번 노드 사이에 간선이 있다는 의미입니다."
   ]
  },
  {
   "cell_type": "markdown",
   "id": "d3663ce7",
   "metadata": {},
   "source": [
    "# 입출력 예"
   ]
  },
  {
   "cell_type": "markdown",
   "id": "763263a2",
   "metadata": {},
   "source": [
    "<pre>\n",
    "n\t                    vertex\t                             return\n",
    "6\t[[3, 6], [4, 3], [3, 2], [1, 3], [1, 2], [2, 4], [5, 2]]\t3\n",
    "\n",
    "</pre>"
   ]
  },
  {
   "cell_type": "markdown",
   "id": "a932e2af",
   "metadata": {},
   "source": [
    "## 입출력 예 설명"
   ]
  },
  {
   "cell_type": "markdown",
   "id": "c85539a1",
   "metadata": {},
   "source": [
    "예제의 그래프를 표현하면 아래 그림과 같고, 1번 노드에서 가장 멀리 떨어진 노드는 4,5,6번 노드입니다."
   ]
  },
  {
   "attachments": {},
   "cell_type": "markdown",
   "id": "7b09d1a9",
   "metadata": {},
   "source": [
    "https://grepp-programmers.s3.amazonaws.com/files/ybm/fadbae38bb/dec85ab5-0273-47b3-ba73-fc0b5f6be28a.png"
   ]
  },
  {
   "cell_type": "markdown",
   "id": "beb00a49",
   "metadata": {},
   "source": [
    "# 1차 코드"
   ]
  },
  {
   "cell_type": "markdown",
   "id": "2d9f7147",
   "metadata": {},
   "source": [
    "- 성공"
   ]
  },
  {
   "cell_type": "code",
   "execution_count": null,
   "id": "4d5f6523",
   "metadata": {},
   "outputs": [],
   "source": [
    "from collections import deque\n",
    "\n",
    "def solution(n, edge):\n",
    "    answer = 0\n",
    "    value_list = [[] for _ in range(n)] #그래프를 위한 리스트\n",
    "    visited = [False for _ in range(n)] #방문 기록\n",
    "    node_count = [0 for _ in range(n)]  #BFS 단계 등록을 위한 리스트\n",
    "    \n",
    "    BFS_queue = deque() #BFS를 위한 큐 선언\n",
    "    BFS_queue.append(1) #1로 초기 등록\n",
    "    level =  1 # 1 이후는 거리가 1이여서 1부터 시작\n",
    "    \n",
    "    #그래프 만들기\n",
    "    for a,b in edge:\n",
    "        value_list[a-1].append(b)\n",
    "        value_list[b-1].append(a)\n",
    "        \n",
    "    #BFS\n",
    "    while BFS_queue:\n",
    "        for _ in range(len(BFS_queue)): #BFS 단계가 끝나는 순간을 확인하는 for 문\n",
    "            value = BFS_queue.popleft()\n",
    "            for pop_value in value_list[value-1]:\n",
    "                if visited[pop_value-1] == False:\n",
    "                    visited[pop_value-1] = True\n",
    "                    BFS_queue.append(pop_value)\n",
    "                    node_count[pop_value-1] = level\n",
    "        level += 1 \n",
    "        \n",
    "    answer = node_count[1:].count(max(node_count)) #1부터 시작하기 때문에 1을 제외하고 가장 멀리떨어진 노드들을 count로 확인\n",
    "    return answer\n"
   ]
  }
 ],
 "metadata": {
  "kernelspec": {
   "display_name": "Python 3.10.6 64-bit (microsoft store)",
   "language": "python",
   "name": "python3"
  },
  "language_info": {
   "codemirror_mode": {
    "name": "ipython",
    "version": 3
   },
   "file_extension": ".py",
   "mimetype": "text/x-python",
   "name": "python",
   "nbconvert_exporter": "python",
   "pygments_lexer": "ipython3",
   "version": "3.10.6"
  },
  "vscode": {
   "interpreter": {
    "hash": "b0bd7d48037818f9c7b0ee1b331b5865dd1eb993a2e0ea9b40f76d1100a48fb5"
   }
  }
 },
 "nbformat": 4,
 "nbformat_minor": 5
}
