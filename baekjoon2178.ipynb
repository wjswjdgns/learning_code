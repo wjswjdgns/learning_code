{
 "cells": [
  {
   "cell_type": "markdown",
   "id": "92630c30",
   "metadata": {},
   "source": [
    "# 문제"
   ]
  },
  {
   "cell_type": "markdown",
   "id": "f8cef393",
   "metadata": {},
   "source": [
    "N×M크기의 배열로 표현되는 미로가 있다.\n",
    "<pre>\n",
    "1\t0\t1\t1\t1\t1\n",
    "1\t0\t1\t0\t1\t0\n",
    "1\t0\t1\t0\t1\t1\n",
    "1\t1\t1\t0\t1\t1\n",
    "</pre>\n",
    "미로에서 1은 이동할 수 있는 칸을 나타내고, 0은 이동할 수 없는 칸을 나타낸다. 이러한 미로가 주어졌을 때, (1, 1)에서 출발하여 (N, M)의 위치로 이동할 때 지나야 하는 최소의 칸 수를 구하는 프로그램을 작성하시오. 한 칸에서 다른 칸으로 이동할 때, 서로 인접한 칸으로만 이동할 수 있다.\n",
    "\n",
    "위의 예에서는 15칸을 지나야 (N, M)의 위치로 이동할 수 있다. 칸을 셀 때에는 시작 위치와 도착 위치도 포함한다,"
   ]
  },
  {
   "cell_type": "markdown",
   "id": "a8985d19",
   "metadata": {},
   "source": [
    "# 입력"
   ]
  },
  {
   "cell_type": "markdown",
   "id": "998780c7",
   "metadata": {},
   "source": [
    "첫째 줄에 두 정수 N, M(2 ≤ N, M ≤ 100)이 주어진다. 다음 N개의 줄에는 M개의 정수로 미로가 주어진다. 각각의 수들은 붙어서 입력으로 주어진다.\n",
    "\n"
   ]
  },
  {
   "cell_type": "markdown",
   "id": "52f27042",
   "metadata": {},
   "source": [
    "# 출력"
   ]
  },
  {
   "cell_type": "markdown",
   "id": "77ae6601",
   "metadata": {},
   "source": [
    "첫째 줄에 지나야 하는 최소의 칸 수를 출력한다. 항상 도착위치로 이동할 수 있는 경우만 입력으로 주어진다.\n",
    "\n"
   ]
  },
  {
   "cell_type": "markdown",
   "id": "ce026bfc",
   "metadata": {},
   "source": [
    "# 1차코드"
   ]
  },
  {
   "cell_type": "code",
   "execution_count": 2,
   "id": "c5add35c",
   "metadata": {},
   "outputs": [
    {
     "name": "stdout",
     "output_type": "stream",
     "text": [
      "4 6\n",
      "101111\n",
      "101010\n",
      "101011\n",
      "111011\n"
     ]
    },
    {
     "ename": "TypeError",
     "evalue": "cannot unpack non-iterable int object",
     "output_type": "error",
     "traceback": [
      "\u001b[0;31m---------------------------------------------------------------------------\u001b[0m",
      "\u001b[0;31mTypeError\u001b[0m                                 Traceback (most recent call last)",
      "Input \u001b[0;32mIn [2]\u001b[0m, in \u001b[0;36m<cell line: 12>\u001b[0;34m()\u001b[0m\n\u001b[1;32m     12\u001b[0m \u001b[38;5;28;01mwhile\u001b[39;00m roop: \u001b[38;5;66;03m#스택이 끝날때까지 진행 ~ 수정 필요 최단거리로 진행하고 있기 때문에 종료 조건을 바꿔야 한다.!\u001b[39;00m\n\u001b[1;32m     14\u001b[0m     \u001b[38;5;28;01mfor\u001b[39;00m _ \u001b[38;5;129;01min\u001b[39;00m \u001b[38;5;28mrange\u001b[39m(\u001b[38;5;28mlen\u001b[39m(road_queue)): \u001b[38;5;66;03m#현재 road_queue 길이 만큼 반복\u001b[39;00m\n\u001b[0;32m---> 15\u001b[0m         x,y \u001b[38;5;241m=\u001b[39m road_queue\u001b[38;5;241m.\u001b[39mpopleft()\n\u001b[1;32m     16\u001b[0m         \u001b[38;5;28;01mfor\u001b[39;00m a,b \u001b[38;5;129;01min\u001b[39;00m move:\n\u001b[1;32m     17\u001b[0m             move_x \u001b[38;5;241m=\u001b[39m x\u001b[38;5;241m+\u001b[39ma\n",
      "\u001b[0;31mTypeError\u001b[0m: cannot unpack non-iterable int object"
     ]
    }
   ],
   "source": [
    "from collections import deque\n",
    "N,M = map(int,input().split())\n",
    "value_list = []\n",
    "for _ in range(N):\n",
    "    value_list.append(list(map(int, input().split())))\n",
    "\n",
    "road_queue = deque([0,0]) # 스택\n",
    "move = [(-1,0),(1,0),(0,-1),(0,1)] # 상하좌우 좌표 설정\n",
    "level = 0 #몇번의 길을 거치게 되었는지 (결과값)\n",
    "roop = True\n",
    "\n",
    "while roop: #스택이 끝날때까지 진행 ~ 수정 필요 최단거리로 진행하고 있기 때문에 종료 조건을 바꿔야 한다.!\n",
    "    \n",
    "    for _ in range(len(road_queue)): #현재 road_queue 길이 만큼 반복\n",
    "        x,y = road_queue.popleft()\n",
    "        for a,b in move:\n",
    "            move_x = x+a\n",
    "            move_y = y+b\n",
    "\n",
    "            # 범위를 벗어나지 않고, 갈 수 있는 길이였을 때 추가\n",
    "            if 0 <= move_x <= M-1 and 0 <= move_y < N-1 and value_list[move_x][move_y] == 1:\n",
    "                road_queue.append(value_list[move_x][move_y]) #갈 수 있는 길을 큐에 넣는다.\n",
    "                value_list[move_x][move_y] += 1 #지나갔다는 것을 표시\n",
    "                \n",
    "                if value_list[move_x][move_y] == value_list[N][M]:\n",
    "                    roop = False\n",
    "    level+=1\n",
    "    \n",
    "print(level)\n",
    "\n",
    "#한번의 루트가 완료가 되면 리셋         \n",
    "\n",
    "#좌우상하 확인 (1인 구간 찾기)\n",
    "\n",
    "#스택에 담기 \n",
    "\n",
    "#[N,M]이 체크 했을 떄 종료\n",
    "\n"
   ]
  },
  {
   "cell_type": "code",
   "execution_count": null,
   "id": "14e6e8bb",
   "metadata": {},
   "outputs": [],
   "source": []
  }
 ],
 "metadata": {
  "kernelspec": {
   "display_name": "Python 3 (ipykernel)",
   "language": "python",
   "name": "python3"
  },
  "language_info": {
   "codemirror_mode": {
    "name": "ipython",
    "version": 3
   },
   "file_extension": ".py",
   "mimetype": "text/x-python",
   "name": "python",
   "nbconvert_exporter": "python",
   "pygments_lexer": "ipython3",
   "version": "3.9.12"
  }
 },
 "nbformat": 4,
 "nbformat_minor": 5
}
