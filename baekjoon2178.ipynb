{
 "cells": [
  {
   "cell_type": "markdown",
   "id": "92630c30",
   "metadata": {},
   "source": [
    "# 문제"
   ]
  },
  {
   "cell_type": "markdown",
   "id": "f8cef393",
   "metadata": {},
   "source": [
    "N×M크기의 배열로 표현되는 미로가 있다.\n",
    "<pre>\n",
    "1\t0\t1\t1\t1\t1\n",
    "1\t0\t1\t0\t1\t0\n",
    "1\t0\t1\t0\t1\t1\n",
    "1\t1\t1\t0\t1\t1\n",
    "</pre>\n",
    "미로에서 1은 이동할 수 있는 칸을 나타내고, 0은 이동할 수 없는 칸을 나타낸다. 이러한 미로가 주어졌을 때, (1, 1)에서 출발하여 (N, M)의 위치로 이동할 때 지나야 하는 최소의 칸 수를 구하는 프로그램을 작성하시오. 한 칸에서 다른 칸으로 이동할 때, 서로 인접한 칸으로만 이동할 수 있다.\n",
    "\n",
    "위의 예에서는 15칸을 지나야 (N, M)의 위치로 이동할 수 있다. 칸을 셀 때에는 시작 위치와 도착 위치도 포함한다,"
   ]
  },
  {
   "cell_type": "markdown",
   "id": "a8985d19",
   "metadata": {},
   "source": [
    "# 입력"
   ]
  },
  {
   "cell_type": "markdown",
   "id": "998780c7",
   "metadata": {},
   "source": [
    "첫째 줄에 두 정수 N, M(2 ≤ N, M ≤ 100)이 주어진다. 다음 N개의 줄에는 M개의 정수로 미로가 주어진다. 각각의 수들은 붙어서 입력으로 주어진다.\n",
    "\n"
   ]
  },
  {
   "cell_type": "markdown",
   "id": "52f27042",
   "metadata": {},
   "source": [
    "# 출력"
   ]
  },
  {
   "cell_type": "markdown",
   "id": "77ae6601",
   "metadata": {},
   "source": [
    "첫째 줄에 지나야 하는 최소의 칸 수를 출력한다. 항상 도착위치로 이동할 수 있는 경우만 입력으로 주어진다.\n",
    "\n"
   ]
  },
  {
   "cell_type": "markdown",
   "id": "ce026bfc",
   "metadata": {},
   "source": [
    "# 1차코드"
   ]
  },
  {
   "cell_type": "code",
   "execution_count": null,
   "id": "c5add35c",
   "metadata": {},
   "outputs": [],
   "source": [
    "from collections import deque\n",
    "N,M = map(int,input().split())\n",
    "value_list = []\n",
    "for _ in range(N):\n",
    "    value_list.append(list(map(int, input().split())))\n",
    "\n",
    "stack = deque([0,0]) # 스택\n",
    "min_value = 10000\n",
    "move = [(-1,0),(1,0),(0,-1),(0,1)] # 상하좌우 좌표 설정\n",
    "\n",
    "while stack: #스택이 끝날때까지 진행\n",
    "    x,y = stack.popleft()\n",
    "    for a,b in move:\n",
    "        move_x = x+a\n",
    "        move_y = y+b\n",
    "        \n",
    "        \n",
    "\n",
    "#좌우상하 확인 (1인 구간 찾기)\n",
    "\n",
    "#스택에 담기 \n",
    "\n",
    "#[N,M]이 체크 했을 떄 종료\n",
    "\n"
   ]
  }
 ],
 "metadata": {
  "kernelspec": {
   "display_name": "Python 3 (ipykernel)",
   "language": "python",
   "name": "python3"
  },
  "language_info": {
   "codemirror_mode": {
    "name": "ipython",
    "version": 3
   },
   "file_extension": ".py",
   "mimetype": "text/x-python",
   "name": "python",
   "nbconvert_exporter": "python",
   "pygments_lexer": "ipython3",
   "version": "3.9.12"
  }
 },
 "nbformat": 4,
 "nbformat_minor": 5
}
