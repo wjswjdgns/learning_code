{
 "cells": [
  {
   "cell_type": "markdown",
   "id": "92630c30",
   "metadata": {},
   "source": [
    "# 문제"
   ]
  },
  {
   "cell_type": "markdown",
   "id": "f8cef393",
   "metadata": {},
   "source": [
    "N×M크기의 배열로 표현되는 미로가 있다.\n",
    "<pre>\n",
    "1\t0\t1\t1\t1\t1\n",
    "1\t0\t1\t0\t1\t0\n",
    "1\t0\t1\t0\t1\t1\n",
    "1\t1\t1\t0\t1\t1\n",
    "</pre>\n",
    "미로에서 1은 이동할 수 있는 칸을 나타내고, 0은 이동할 수 없는 칸을 나타낸다. 이러한 미로가 주어졌을 때, (1, 1)에서 출발하여 (N, M)의 위치로 이동할 때 지나야 하는 최소의 칸 수를 구하는 프로그램을 작성하시오. 한 칸에서 다른 칸으로 이동할 때, 서로 인접한 칸으로만 이동할 수 있다.\n",
    "\n",
    "위의 예에서는 15칸을 지나야 (N, M)의 위치로 이동할 수 있다. 칸을 셀 때에는 시작 위치와 도착 위치도 포함한다,"
   ]
  },
  {
   "cell_type": "markdown",
   "id": "a8985d19",
   "metadata": {},
   "source": [
    "# 입력"
   ]
  },
  {
   "cell_type": "markdown",
   "id": "998780c7",
   "metadata": {},
   "source": [
    "첫째 줄에 두 정수 N, M(2 ≤ N, M ≤ 100)이 주어진다. 다음 N개의 줄에는 M개의 정수로 미로가 주어진다. 각각의 수들은 붙어서 입력으로 주어진다.\n",
    "\n"
   ]
  },
  {
   "cell_type": "markdown",
   "id": "52f27042",
   "metadata": {},
   "source": [
    "# 출력"
   ]
  },
  {
   "cell_type": "markdown",
   "id": "77ae6601",
   "metadata": {},
   "source": [
    "첫째 줄에 지나야 하는 최소의 칸 수를 출력한다. 항상 도착위치로 이동할 수 있는 경우만 입력으로 주어진다.\n",
    "\n"
   ]
  },
  {
   "cell_type": "markdown",
   "id": "ce026bfc",
   "metadata": {},
   "source": [
    "# 1차코드 (시간 초과)"
   ]
  },
  {
   "cell_type": "code",
   "execution_count": 1,
   "id": "c5add35c",
   "metadata": {},
   "outputs": [
    {
     "name": "stdout",
     "output_type": "stream",
     "text": [
      "4 6\n",
      "101111\n",
      "101010\n",
      "101011\n",
      "111011\n",
      "15\n"
     ]
    }
   ],
   "source": [
    "from collections import deque\n",
    "N,M = map(int,input().split())\n",
    "value_list = []\n",
    "for _ in range(N):\n",
    "    value_list.append(list(map(int, input())))\n",
    "\n",
    "road_queue = deque() # 스택\n",
    "road_queue.append([0,0])\n",
    "move = [(-1,0),(1,0),(0,-1),(0,1)] # 상하좌우 좌표 설정\n",
    "level = 0 #몇번의 길을 거치게 되었는지 (결과값)\n",
    "roop = True\n",
    "\n",
    "while roop:\n",
    "    for _ in range(len(road_queue)): #현재 road_queue 길이 만큼 반복\n",
    "        y,x = road_queue.popleft()\n",
    "        if y == N-1 and x == M-1: #경로 도착시 roop 종료\n",
    "            roop = False\n",
    "            break\n",
    "\n",
    "        for a,b in move:\n",
    "            move_y = y+a\n",
    "            move_x = x+b\n",
    "            # 범위를 벗어나지 않고, 갈 수 있는 길이였을 때 추가\n",
    "            if 0 <= move_x < M and 0 <= move_y < N:\n",
    "                if value_list[move_y][move_x] == 1:\n",
    "                    road_queue.append((move_y,move_x)) #갈 수 있는 길을 큐에 넣는다.\n",
    "                    value_list[y][x] +=1 #지나갔다는 것을 표시\n",
    "    level+=1\n",
    "    \n",
    "print(level)\n"
   ]
  },
  {
   "cell_type": "markdown",
   "id": "469682a0",
   "metadata": {},
   "source": [
    "# 2차 코드 (실패)"
   ]
  },
  {
   "cell_type": "code",
   "execution_count": 27,
   "id": "69574841",
   "metadata": {},
   "outputs": [
    {
     "name": "stdout",
     "output_type": "stream",
     "text": [
      "2 25\n",
      "1011101110111011101110111\n",
      "1110111011101110111011101\n",
      "38\n"
     ]
    }
   ],
   "source": [
    "from collections import deque\n",
    "N,M = map(int,input().split())\n",
    "value_list = []\n",
    "for _ in range(N):\n",
    "    value_list.append(list(map(int, input())))\n",
    "\n",
    "move = [(-1,0),(1,0),(0,-1),(0,1)] # 상하좌우 좌표 설정\n",
    "\n",
    "road_queue = deque() # 스택\n",
    "road_queue.append((0,0))\n",
    "\n",
    "while road_queue:\n",
    "    \n",
    "    y,x = road_queue.popleft()\n",
    "    \n",
    "    for a,b in move:\n",
    "        move_y = y+a\n",
    "        move_x = x+b\n",
    "        # 범위를 벗어나지 않고, 갈 수 있는 길이였을 때 추가\n",
    "        if 0 <= move_x < M and 0 <= move_y < N:\n",
    "            if value_list[move_y][move_x] == 1:\n",
    "                value_list[move_y][move_x] = value_list[y][x]+1 #지나갔다는 것을 표시\n",
    "                road_queue.append((move_y,move_x)) #갈 수 있는 길을 큐에 넣는다.\n",
    "print(value_list[y][x])"
   ]
  },
  {
   "cell_type": "markdown",
   "id": "12f6e66a",
   "metadata": {},
   "source": [
    "# 3차 코드 (성공)"
   ]
  },
  {
   "cell_type": "markdown",
   "id": "cb18764a",
   "metadata": {},
   "source": [
    "- 2차 코드와 동일한 코드인데 결과값만 다르게 했을 뿐인데 통과..."
   ]
  },
  {
   "cell_type": "code",
   "execution_count": null,
   "id": "e7c1d58a",
   "metadata": {},
   "outputs": [],
   "source": [
    "from collections import deque\n",
    "N,M = map(int,input().split())\n",
    "value_list = []\n",
    "for _ in range(N):\n",
    "    value_list.append(list(map(int, input())))\n",
    "\n",
    "road_queue = deque() # 스택\n",
    "road_queue.append((0,0))\n",
    "move = [(-1,0),(1,0),(0,-1),(0,1)] # 상하좌우 좌표 설정\n",
    "\n",
    "while road_queue:\n",
    "    y,x = road_queue.popleft()\n",
    "\n",
    "    for a,b in move:\n",
    "        move_y = y+a\n",
    "        move_x = x+b\n",
    "        # 범위를 벗어나지 않고, 갈 수 있는 길이였을 때 추가\n",
    "        if 0 <= move_x < M and 0 <= move_y < N:\n",
    "            if value_list[move_y][move_x] == 1:\n",
    "                value_list[move_y][move_x] = value_list[y][x] + 1 #지나갔다는 것을 표시\n",
    "                road_queue.append((move_y,move_x)) #갈 수 있는 길을 큐에 넣는다.\n",
    "                \n",
    "print(value_list[N-1][M-1])"
   ]
  }
 ],
 "metadata": {
  "kernelspec": {
   "display_name": "Python 3.10.6 64-bit (microsoft store)",
   "language": "python",
   "name": "python3"
  },
  "language_info": {
   "codemirror_mode": {
    "name": "ipython",
    "version": 3
   },
   "file_extension": ".py",
   "mimetype": "text/x-python",
   "name": "python",
   "nbconvert_exporter": "python",
   "pygments_lexer": "ipython3",
   "version": "3.10.6"
  },
  "vscode": {
   "interpreter": {
    "hash": "b0bd7d48037818f9c7b0ee1b331b5865dd1eb993a2e0ea9b40f76d1100a48fb5"
   }
  }
 },
 "nbformat": 4,
 "nbformat_minor": 5
}
