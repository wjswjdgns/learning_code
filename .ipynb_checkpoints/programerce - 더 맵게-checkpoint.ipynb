{
 "cells": [
  {
   "cell_type": "markdown",
   "id": "e4c52d80",
   "metadata": {},
   "source": [
    "# 문제 설명"
   ]
  },
  {
   "cell_type": "markdown",
   "id": "39d705c9",
   "metadata": {},
   "source": [
    "매운 것을 좋아하는 Leo는 모든 음식의 스코빌 지수를 K 이상으로 만들고 싶습니다. 모든 음식의 스코빌 지수를 K 이상으로 만들기 위해 Leo는 스코빌 지수가 가장 낮은 두 개의 음식을 아래와 같이 특별한 방법으로 섞어 새로운 음식을 만듭니다."
   ]
  },
  {
   "cell_type": "markdown",
   "id": "b0e3e39a",
   "metadata": {},
   "source": [
    "```\n",
    "섞은 음식의 스코빌 지수 = 가장 맵지 않은 음식의 스코빌 지수 + (두 번째로 맵지 않은 음식의 스코빌 지수 * 2)\n",
    "```"
   ]
  },
  {
   "cell_type": "markdown",
   "id": "83e7cae0",
   "metadata": {},
   "source": [
    "Leo는 모든 음식의 스코빌 지수가 K 이상이 될 때까지 반복하여 섞습니다.\n",
    "Leo가 가진 음식의 스코빌 지수를 담은 배열 scoville과 원하는 스코빌 지수 K가 주어질 때, 모든 음식의 스코빌 지수를 K 이상으로 만들기 위해 섞어야 하는 최소 횟수를 return 하도록 solution 함수를 작성해주세요."
   ]
  },
  {
   "cell_type": "markdown",
   "id": "05dd6386",
   "metadata": {},
   "source": [
    "# 제한 사항"
   ]
  },
  {
   "cell_type": "markdown",
   "id": "7118ad09",
   "metadata": {},
   "source": [
    "- scoville의 길이는 2 이상 1,000,000 이하입니다.\n",
    "- K는 0 이상 1,000,000,000 이하입니다.\n",
    "- scoville의 원소는 각각 0 이상 1,000,000 이하입니다.\n",
    "- 모든 음식의 스코빌 지수를 K 이상으로 만들 수 없는 경우에는 -1을 return 합니다."
   ]
  },
  {
   "cell_type": "markdown",
   "id": "8f08023d",
   "metadata": {},
   "source": [
    "```\n",
    "scoville\tK\treturn\n",
    "[1, 2, 3, 9, 10, 12]\t7\t2\n",
    "```"
   ]
  },
  {
   "cell_type": "markdown",
   "id": "2661571f",
   "metadata": {},
   "source": [
    "# 입출력 예 설명"
   ]
  },
  {
   "cell_type": "markdown",
   "id": "dd2dde5c",
   "metadata": {},
   "source": [
    "```\n",
    "1. 스코빌 지수가 1인 음식과 2인 음식을 섞으면 음식의 스코빌 지수가 아래와 같이 됩니다.\n",
    "새로운 음식의 스코빌 지수 = 1 + (2 * 2) = 5\n",
    "가진 음식의 스코빌 지수 = [5, 3, 9, 10, 12]\n",
    "2. 스코빌 지수가 3인 음식과 5인 음식을 섞으면 음식의 스코빌 지수가 아래와 같이 됩니다.\n",
    "새로운 음식의 스코빌 지수 = 3 + (5 * 2) = 13\n",
    "가진 음식의 스코빌 지수 = [13, 9, 10, 12]\n",
    "```\n",
    "모든 음식의 스코빌 지수가 7 이상이 되었고 이때 섞은 횟수는 2회입니다."
   ]
  },
  {
   "cell_type": "markdown",
   "id": "a10d67f7",
   "metadata": {},
   "source": [
    "### 핵심"
   ]
  },
  {
   "cell_type": "markdown",
   "id": "30b5148b",
   "metadata": {},
   "source": [
    "### heapq로 해결\n",
    "```\n",
    "매번 오름차순으로 정렬해줄 필요가 있다.\n",
    "추가 할 때도 정렬 필요\n",
    "```\n",
    "### 모든 음식의 스코빌 지수를 K이상으로 만들 수 없는 케이스는 -1을 리턴\n",
    "```\n",
    "1개만 남았을 경우 계산식 활용 불가능\n",
    "해당 1개만 남았을 때 해당 것을 확인 시 스코빌 이하 일 경우 실패 케이스\n",
    "```"
   ]
  },
  {
   "cell_type": "markdown",
   "id": "44f8042e",
   "metadata": {},
   "source": [
    "# 코드"
   ]
  },
  {
   "cell_type": "code",
   "execution_count": 3,
   "id": "a5f7db56",
   "metadata": {},
   "outputs": [],
   "source": [
    "# 예시\n",
    "scoville = [1,2,3,9,10,12]\n",
    "K = 7"
   ]
  },
  {
   "cell_type": "code",
   "execution_count": 5,
   "id": "d3a372e1",
   "metadata": {},
   "outputs": [],
   "source": [
    "import heapq\n",
    "def solution(scoville, k):\n",
    "    answer = 0\n",
    "    heapq.heapify(scoville) # 주어진 리스트를 힙 구조로 변경\n",
    "    \n",
    "    while scoville[0] < k and len(scoville) != 1:\n",
    "        min_one = heapq.heappop(scoville)\n",
    "        min_two = heapq.heappop(scoville)\n",
    "\n",
    "        # 계산진행\n",
    "        new_scov = min_one + (min_two * 2)\n",
    "        heapq.heappush(scoville, new_scov) #추가\n",
    "\n",
    "        answer +=1\n",
    "    \n",
    "    if scoville[0] < k:\n",
    "        return -1\n",
    "    else:\n",
    "        return answer"
   ]
  },
  {
   "cell_type": "code",
   "execution_count": 6,
   "id": "1b07d25d",
   "metadata": {},
   "outputs": [
    {
     "name": "stdout",
     "output_type": "stream",
     "text": [
      "2\n"
     ]
    }
   ],
   "source": [
    "# 출력\n",
    "print(solution(scoville,K))"
   ]
  },
  {
   "cell_type": "code",
   "execution_count": null,
   "id": "3ac15223",
   "metadata": {},
   "outputs": [],
   "source": []
  }
 ],
 "metadata": {
  "kernelspec": {
   "display_name": "Python 3 (ipykernel)",
   "language": "python",
   "name": "python3"
  },
  "language_info": {
   "codemirror_mode": {
    "name": "ipython",
    "version": 3
   },
   "file_extension": ".py",
   "mimetype": "text/x-python",
   "name": "python",
   "nbconvert_exporter": "python",
   "pygments_lexer": "ipython3",
   "version": "3.9.13"
  }
 },
 "nbformat": 4,
 "nbformat_minor": 5
}
