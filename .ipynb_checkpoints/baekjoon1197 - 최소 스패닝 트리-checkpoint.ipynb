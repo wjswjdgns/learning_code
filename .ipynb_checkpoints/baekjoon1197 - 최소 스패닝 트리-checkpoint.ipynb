{
 "cells": [
  {
   "cell_type": "markdown",
   "id": "27825fc3",
   "metadata": {},
   "source": [
    "# 문제"
   ]
  },
  {
   "cell_type": "markdown",
   "id": "114f2e76",
   "metadata": {},
   "source": [
    "그래프가 주어졌을 때, 그 그래프의 최소 스패닝 트리를 구하는 프로그램을 작성하시오.\n",
    "\n",
    "최소 스패닝 트리는, 주어진 그래프의 모든 정점들을 연결하는 부분 그래프 중에서 그 가중치의 합이 최소인 트리를 말한다."
   ]
  },
  {
   "cell_type": "markdown",
   "id": "23bf0abd",
   "metadata": {},
   "source": [
    "# 입력"
   ]
  },
  {
   "cell_type": "markdown",
   "id": "d942b6ce",
   "metadata": {},
   "source": [
    "첫째 줄에 정점의 개수 V(1 ≤ V ≤ 10,000)와 간선의 개수 E(1 ≤ E ≤ 100,000)가 주어진다. 다음 E개의 줄에는 각 간선에 대한 정보를 나타내는 세 정수 A, B, C가 주어진다. 이는 A번 정점과 B번 정점이 가중치 C인 간선으로 연결되어 있다는 의미이다. C는 음수일 수도 있으며, 절댓값이 1,000,000을 넘지 않는다.\n",
    "\n",
    "그래프의 정점은 1번부터 V번까지 번호가 매겨져 있고, 임의의 두 정점 사이에 경로가 있다. 최소 스패닝 트리의 가중치가 -2,147,483,648보다 크거나 같고, 2,147,483,647보다 작거나 같은 데이터만 입력으로 주어진다."
   ]
  },
  {
   "cell_type": "markdown",
   "id": "26b4076e",
   "metadata": {},
   "source": [
    "# 출력"
   ]
  },
  {
   "cell_type": "markdown",
   "id": "e4ae3224",
   "metadata": {},
   "source": [
    "첫째 줄에 최소 스패닝 트리의 가중치를 출력한다."
   ]
  },
  {
   "cell_type": "markdown",
   "id": "1c19d044",
   "metadata": {},
   "source": [
    "```\n",
    "예제입력\n",
    "3 3\n",
    "1 2 1\n",
    "2 3 2\n",
    "1 3 3\n",
    "```\n",
    "```\n",
    "예제출력\n",
    "3\n",
    "```"
   ]
  },
  {
   "cell_type": "markdown",
   "id": "934c7852",
   "metadata": {},
   "source": [
    "# 코드"
   ]
  },
  {
   "cell_type": "code",
   "execution_count": null,
   "id": "2e3d2a64",
   "metadata": {},
   "outputs": [],
   "source": [
    "import sys\n",
    "input = sys.stdin.readline\n",
    "\n",
    "def find(value):\n",
    "    if value == parent[value]: # 노드 번호와 parent 값이 같다면\n",
    "        return value # 루트 값 확인\n",
    "    parent[value] = find(parent[value]) # 같지 않을 경우 부모를 찾아서 이동\n",
    "    return parent[value]\n",
    "\n",
    "def union(a,b):\n",
    "    rootA = find(a) # a의 루트 노드를 찾기\n",
    "    rootB = find(b) # b의 루트 노드를 찾기\n",
    "\n",
    "    if rootA != rootB:\n",
    "        parent[rootB] = rootA #a의 루트 노드를 b의 루트 노드에 붙인다.\n",
    "    \n",
    "    \n",
    "V,E = map(int, input().split()) # V 정점의 개수,  E 간선의 개수\n",
    "Edge = []\n",
    "\n",
    "for _ in range(E):\n",
    "    A,B,C = map(int, input().split()) #A번 정점과 B번 정점이 가중치 C로 연결\n",
    "    Edge.append((C,A,B))\n",
    "\n",
    "Edge.sort(key=lambda x: x[0]) # 가중치 기준으로 정렬\n",
    "parent = list(range(V+1))\n",
    "\n",
    "sum = 0\n",
    "for c,a,b in Edge:\n",
    "    if find(a) != find(b):\n",
    "        union(a,b)\n",
    "        sum+= c\n",
    "\n",
    "print(sum)"
   ]
  }
 ],
 "metadata": {
  "kernelspec": {
   "display_name": "Python 3 (ipykernel)",
   "language": "python",
   "name": "python3"
  },
  "language_info": {
   "codemirror_mode": {
    "name": "ipython",
    "version": 3
   },
   "file_extension": ".py",
   "mimetype": "text/x-python",
   "name": "python",
   "nbconvert_exporter": "python",
   "pygments_lexer": "ipython3",
   "version": "3.9.12"
  }
 },
 "nbformat": 4,
 "nbformat_minor": 5
}
