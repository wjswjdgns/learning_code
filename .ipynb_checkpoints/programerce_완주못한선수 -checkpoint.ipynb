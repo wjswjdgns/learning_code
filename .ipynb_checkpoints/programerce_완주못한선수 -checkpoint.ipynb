{
 "cells": [
  {
   "cell_type": "markdown",
   "id": "804966ba",
   "metadata": {},
   "source": [
    "https://school.programmers.co.kr/learn/courses/30/lessons/42576"
   ]
  },
  {
   "cell_type": "code",
   "execution_count": null,
   "id": "2583c0fe",
   "metadata": {},
   "outputs": [],
   "source": [
    "def solution(participant, completion):\n",
    "    hash_dic = {}\n",
    "    sum_value = 0\n",
    "    \n",
    "    for p in participant:\n",
    "        dic_num = hash(p)\n",
    "        hash_dic[dic_num] = p\n",
    "        sum_value+=dic_num\n",
    "        \n",
    "    for p in completion:\n",
    "        sum_value -= hash(p)\n",
    "    \n",
    "    answer = hash_dic[sum_value]\n",
    "    return answer"
   ]
  }
 ],
 "metadata": {
  "kernelspec": {
   "display_name": "Python 3 (ipykernel)",
   "language": "python",
   "name": "python3"
  },
  "language_info": {
   "codemirror_mode": {
    "name": "ipython",
    "version": 3
   },
   "file_extension": ".py",
   "mimetype": "text/x-python",
   "name": "python",
   "nbconvert_exporter": "python",
   "pygments_lexer": "ipython3",
   "version": "3.9.12"
  }
 },
 "nbformat": 4,
 "nbformat_minor": 5
}
