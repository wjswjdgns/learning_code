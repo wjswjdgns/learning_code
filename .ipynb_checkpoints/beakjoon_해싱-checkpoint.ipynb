{
 "cells": [
  {
   "cell_type": "markdown",
   "id": "d8cb9a4a",
   "metadata": {},
   "source": [
    "https://www.acmicpc.net/problem/15829"
   ]
  },
  {
   "cell_type": "code",
   "execution_count": null,
   "id": "472415ee",
   "metadata": {},
   "outputs": [],
   "source": [
    "# 입력값 설정\n",
    "L = int(input()) # 문자 길이\n",
    "word = input() #주어진 문자\n",
    "\n",
    "#변수 설정\n",
    "check_dic = {i:idx+1 for idx, i in enumerate('abcdefghijklmnopqrstuvwxyz')}\n",
    "r = 31\n",
    "M = 1234567891\n",
    "\n",
    "result = 0\n",
    "for idx,w in enumerate(word):\n",
    "    word_number = check_dic[w]\n",
    "    result += word_number * (r**idx)\n",
    "\n",
    "print(result%M)"
   ]
  }
 ],
 "metadata": {
  "kernelspec": {
   "display_name": "Python 3 (ipykernel)",
   "language": "python",
   "name": "python3"
  },
  "language_info": {
   "codemirror_mode": {
    "name": "ipython",
    "version": 3
   },
   "file_extension": ".py",
   "mimetype": "text/x-python",
   "name": "python",
   "nbconvert_exporter": "python",
   "pygments_lexer": "ipython3",
   "version": "3.9.12"
  }
 },
 "nbformat": 4,
 "nbformat_minor": 5
}
