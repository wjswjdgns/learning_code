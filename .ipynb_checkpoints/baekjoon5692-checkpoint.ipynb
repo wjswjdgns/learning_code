{
 "cells": [
  {
   "cell_type": "markdown",
   "id": "47054bff",
   "metadata": {},
   "source": [
    "### 문제"
   ]
  },
  {
   "cell_type": "markdown",
   "id": "195d3811",
   "metadata": {},
   "source": [
    "상근이는 보통 사람들이 사는 것과는 조금 다른 삶을 사는 사람이다. 상근이는 이런 사람들의 시선이 부담스럽기 때문에, 자신만의 숫자를 개발하기로 했다. 바로 그 이름은 팩토리얼 진법이다. 팩토리얼 진법은 각 자리에 올 수 있는 숫자는 0부터 9까지로 10진법과 거의 비슷하다. 하지만, 읽는 법은 조금 다르다. 팩토리얼 진법에서는 i번 자리의 값을 ai×i!로 계산한다. 즉, 팩토리얼 진법에서 719는 10진법에서 53과 같다. 그 이유는 7×3! + 1×2! + 9×1! = 53이기 때문이다.\n",
    "\n",
    "팩토리얼 진법으로 작성한 숫자가 주어졌을 때, 10진법으로 읽은 값을 구하는 프로그램을 작성하시오. "
   ]
  },
  {
   "cell_type": "markdown",
   "id": "a4c88a6d",
   "metadata": {},
   "source": [
    "### 입력"
   ]
  },
  {
   "cell_type": "markdown",
   "id": "6af49775",
   "metadata": {},
   "source": [
    "입력은 여러 개의 테스트 케이스로 이루어져 있다. 각 테스트 케이스는 한 줄로 이루어져 있고, 길이가 최대 5자리인 팩토리얼 진법 숫자가 주어진다. 입력의 마지막 줄에는 0이 하나 주어진다."
   ]
  },
  {
   "cell_type": "markdown",
   "id": "bd5cc5d8",
   "metadata": {},
   "source": [
    "### 출력"
   ]
  },
  {
   "cell_type": "markdown",
   "id": "7f536e3e",
   "metadata": {},
   "source": [
    "각 테스트 케이스에 대해서, 입력으로 주어진 팩토리얼 진법 숫자를 10진법으로 읽은 값을 출력한다.\n",
    "\n"
   ]
  },
  {
   "cell_type": "markdown",
   "id": "76300cbd",
   "metadata": {},
   "source": [
    "### 예제 입력"
   ]
  },
  {
   "cell_type": "markdown",
   "id": "ff93d3ee",
   "metadata": {},
   "source": [
    "<pre>\n",
    "719\n",
    "1\n",
    "15\n",
    "110\n",
    "102\n",
    "0\n",
    "</pre>"
   ]
  },
  {
   "cell_type": "markdown",
   "id": "84588258",
   "metadata": {},
   "source": [
    "### 예제 출력"
   ]
  },
  {
   "cell_type": "markdown",
   "id": "7c5d5b1b",
   "metadata": {},
   "source": [
    "<pre>\n",
    "53\n",
    "1\n",
    "7\n",
    "8\n",
    "8\n",
    "</pre>"
   ]
  },
  {
   "cell_type": "markdown",
   "id": "bfa31e9c",
   "metadata": {},
   "source": [
    "### 고려할 점"
   ]
  },
  {
   "cell_type": "markdown",
   "id": "1d99796c",
   "metadata": {},
   "source": [
    "- 단순 사칙연산 문제\n",
    "- 주어지는 테스트 케이스가 반복적으로 제공된다. 0이 나올 경우 테스트 케이스 종료 (while 문 활용)"
   ]
  },
  {
   "cell_type": "markdown",
   "id": "c84a7ad3",
   "metadata": {},
   "source": [
    "### 1차 코드"
   ]
  },
  {
   "cell_type": "markdown",
   "id": "5302b93b",
   "metadata": {},
   "source": [
    "- 시간초과\n",
    "- 입력 값을 input()으로 받아서 된 것으로 생각되므로 sys.stdin.readline() 활용"
   ]
  },
  {
   "cell_type": "code",
   "execution_count": null,
   "id": "a3036273",
   "metadata": {},
   "outputs": [],
   "source": [
    "fectorial_dic = {1:1, 2:2, 3:6, 4:24, 5:120} #최대 5자리 팩토리얼 진법 -> 5!까지만 나온다.\n",
    "while True:\n",
    "    value_list = list(map(int, input())) #리스트를 통해 정수 자리수를 나눈다.\n",
    "    if value_list[0] == 0: # 0이 나왔을 경우 테스트 종료\n",
    "        break\n",
    "    \n",
    "    N = len(value_list) #list의 길이를 통해 해당 숫자의 총 자릿수 확인\n",
    "    result = 0\n",
    "    \n",
    "    for i in range(N): #0, 1 ,2\n",
    "        value = value_list[i] # 321이 들어 왔을때 value_list[0] == 3 \n",
    "        idx = N-i # == (총자리수 - i) 321이 들어 왔을때 3-0 = 3\n",
    "        result = result + (value * fectorial_dic[idx]) # 계산\n",
    "\n",
    "    if result != 0:\n",
    "        print(result) "
   ]
  },
  {
   "cell_type": "markdown",
   "id": "d22ac97b",
   "metadata": {},
   "source": [
    "### 2차 코드"
   ]
  },
  {
   "cell_type": "markdown",
   "id": "3c5bc4e2",
   "metadata": {},
   "source": [
    "- 성공"
   ]
  },
  {
   "cell_type": "code",
   "execution_count": null,
   "id": "b0bcba42",
   "metadata": {},
   "outputs": [],
   "source": [
    "import sys\n",
    "fectorial_dic = {1:1, 2:2, 3:6, 4:24, 5:120} #최대 5자리 팩토리얼 진법 -> 5!까지만 나온다.\n",
    "while True:\n",
    "    value_list = list(map(int, sys.stdin.readline().rstrip())) #리스트를 통해 정수 자리수를 나눈다.\n",
    "    if value_list[0] == 0: # 0이 나왔을 경우 테스트 종료\n",
    "        break\n",
    "    \n",
    "    N = len(value_list) #list의 길이를 통해 해당 숫자의 총 자릿수 확인\n",
    "    result = 0\n",
    "    \n",
    "    for i in range(N): # 0, 1, 2\n",
    "        value = value_list[i] # 321이 들어 왔을때 value_list[0] == 3 \n",
    "        idx = N-i # == (총자리수 - i) 321이 들어 왔을때 3-0 = 3\n",
    "        result = result + (value * fectorial_dic[idx]) # 계산\n",
    "\n",
    "    print(result)"
   ]
  }
 ],
 "metadata": {
  "kernelspec": {
   "display_name": "Python 3 (ipykernel)",
   "language": "python",
   "name": "python3"
  },
  "language_info": {
   "codemirror_mode": {
    "name": "ipython",
    "version": 3
   },
   "file_extension": ".py",
   "mimetype": "text/x-python",
   "name": "python",
   "nbconvert_exporter": "python",
   "pygments_lexer": "ipython3",
   "version": "3.9.12"
  }
 },
 "nbformat": 4,
 "nbformat_minor": 5
}
