{
 "cells": [
  {
   "cell_type": "markdown",
   "id": "7b1c22b9",
   "metadata": {},
   "source": [
    "### 문제"
   ]
  },
  {
   "cell_type": "markdown",
   "id": "101541f4",
   "metadata": {},
   "source": [
    "자연수 N이 주어진다. N을 이진수로 바꿔서 출력하는 프로그램을 작성하시오."
   ]
  },
  {
   "cell_type": "markdown",
   "id": "85ef9ec3",
   "metadata": {},
   "source": [
    "### 입력"
   ]
  },
  {
   "cell_type": "markdown",
   "id": "e7d9d7dd",
   "metadata": {},
   "source": [
    "첫째 줄에 자연수 N이 주어진다. (1 ≤ N ≤ 100,000,000,000,000)"
   ]
  },
  {
   "cell_type": "markdown",
   "id": "1384e5be",
   "metadata": {},
   "source": [
    "### 출력"
   ]
  },
  {
   "cell_type": "markdown",
   "id": "a4c663a0",
   "metadata": {},
   "source": [
    "N을 이진수로 바꿔서 출력한다. 이진수는 0으로 시작하면 안 된다."
   ]
  },
  {
   "cell_type": "markdown",
   "id": "4e7041db",
   "metadata": {},
   "source": [
    "<pre>\n",
    "예제 입력\n",
    "53\n",
    "</pre>\n",
    "<pre>\n",
    "예제 출력\n",
    "110101\n",
    "</pre>"
   ]
  },
  {
   "cell_type": "markdown",
   "id": "94784458",
   "metadata": {},
   "source": [
    "### 코드"
   ]
  },
  {
   "cell_type": "markdown",
   "id": "cf5d6da1",
   "metadata": {},
   "source": [
    "- 성공"
   ]
  },
  {
   "cell_type": "code",
   "execution_count": null,
   "id": "039d317d",
   "metadata": {},
   "outputs": [],
   "source": [
    "def solution(base):\n",
    "    if base <= 1:\n",
    "        result_list.insert(0, str(base))\n",
    "        return\n",
    "    result_list.insert(0, str(base%2))\n",
    "    solution(base//2)\n",
    "    return\n",
    "\n",
    "N = int(input())\n",
    "result_list = []\n",
    "solution(N)\n",
    "\n",
    "if result_list[0] == '0': #제일 앞자리가 0이였을 경우 해당 부분을 제외하고 나머지 부분만 join\n",
    "    result_list = result_list[1:]\n",
    "    print(int(''.join(result_list)))\n",
    "\n",
    "else:\n",
    "    print(int(''.join(result_list)))"
   ]
  }
 ],
 "metadata": {
  "kernelspec": {
   "display_name": "Python 3 (ipykernel)",
   "language": "python",
   "name": "python3"
  },
  "language_info": {
   "codemirror_mode": {
    "name": "ipython",
    "version": 3
   },
   "file_extension": ".py",
   "mimetype": "text/x-python",
   "name": "python",
   "nbconvert_exporter": "python",
   "pygments_lexer": "ipython3",
   "version": "3.9.12"
  }
 },
 "nbformat": 4,
 "nbformat_minor": 5
}
