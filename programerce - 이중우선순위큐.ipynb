{
 "cells": [
  {
   "cell_type": "markdown",
   "id": "f46bcaf8",
   "metadata": {},
   "source": [
    "# 문제설명"
   ]
  },
  {
   "cell_type": "markdown",
   "id": "6cd966aa",
   "metadata": {},
   "source": [
    "이중 우선순위 큐는 다음 연산을 할 수 있는 자료구조를 말합니다."
   ]
  },
  {
   "cell_type": "markdown",
   "id": "4ca1e9e2",
   "metadata": {},
   "source": [
    "```\n",
    "명령어\t수신 탑(높이)\n",
    "I 숫자\t큐에 주어진 숫자를 삽입합니다.\n",
    "D 1\t큐에서 최댓값을 삭제합니다.\n",
    "D -1\t큐에서 최솟값을 삭제합니다.\n",
    "```"
   ]
  },
  {
   "cell_type": "markdown",
   "id": "3f3c82c8",
   "metadata": {},
   "source": [
    "이중 우선순위 큐가 할 연산 operations가 매개변수로 주어질 때, 모든 연산을 처리한 후 큐가 비어있으면 [0,0] 비어있지 않으면 [최댓값, 최솟값]을 return 하도록 solution 함수를 구현해주세요."
   ]
  },
  {
   "cell_type": "markdown",
   "id": "5b1d27da",
   "metadata": {},
   "source": [
    "# 제한사항"
   ]
  },
  {
   "cell_type": "markdown",
   "id": "c3ed2222",
   "metadata": {},
   "source": [
    "- operations는 길이가 1 이상 1,000,000 이하인 문자열 배열입니다.\n",
    "- operations의 원소는 큐가 수행할 연산을 나타냅니다.\n",
    "- 원소는 “명령어 데이터” 형식으로 주어집니다.- 최댓값/최솟값을 삭제하는 연산에서 최댓값/최솟값이 둘 이상인 경우, 하나만 삭제합니다.\n",
    "- 빈 큐에 데이터를 삭제하라는 연산이 주어질 경우, 해당 연산은 무시합니다."
   ]
  },
  {
   "cell_type": "markdown",
   "id": "aac05655",
   "metadata": {},
   "source": [
    "# 입출력 예"
   ]
  },
  {
   "cell_type": "markdown",
   "id": "6bccc85f",
   "metadata": {},
   "source": [
    "```\n",
    "operations\treturn\n",
    "[\"I 16\", \"I -5643\", \"D -1\", \"D 1\", \"D 1\", \"I 123\", \"D -1\"]\t[0,0]\n",
    "[\"I -45\", \"I 653\", \"D 1\", \"I -642\", \"I 45\", \"I 97\", \"D 1\", \"D -1\", \"I 333\"]\t[333, -45]\n",
    "```"
   ]
  },
  {
   "cell_type": "markdown",
   "id": "3dde74a0",
   "metadata": {},
   "source": [
    "# 입출력 예 설명"
   ]
  },
  {
   "cell_type": "markdown",
   "id": "fe78bf9b",
   "metadata": {},
   "source": [
    "```\n",
    "입출력 예 #1\n",
    "\n",
    "16과 -5643을 삽입합니다.\n",
    "최솟값을 삭제합니다. -5643이 삭제되고 16이 남아있습니다.\n",
    "최댓값을 삭제합니다. 16이 삭제되고 이중 우선순위 큐는 비어있습니다.\n",
    "우선순위 큐가 비어있으므로 최댓값 삭제 연산이 무시됩니다.\n",
    "123을 삽입합니다.\n",
    "최솟값을 삭제합니다. 123이 삭제되고 이중 우선순위 큐는 비어있습니다.\n",
    "따라서 [0, 0]을 반환합니다.\n",
    "\n",
    "입출력 예 #2\n",
    "\n",
    "-45와 653을 삽입후 최댓값(653)을 삭제합니다. -45가 남아있습니다.\n",
    "-642, 45, 97을 삽입 후 최댓값(97), 최솟값(-642)을 삭제합니다. -45와 45가 남아있습니다.\n",
    "333을 삽입합니다.\n",
    "이중 우선순위 큐에 -45, 45, 333이 남아있으므로, [333, -45]를 반환합니다.\n",
    "```"
   ]
  },
  {
   "cell_type": "code",
   "execution_count": 2,
   "id": "fc96d435",
   "metadata": {},
   "outputs": [],
   "source": [
    "# 코드"
   ]
  },
  {
   "cell_type": "code",
   "execution_count": 3,
   "id": "ad4c9277",
   "metadata": {},
   "outputs": [],
   "source": [
    "operations = [\"I 16\", \"I -5643\", \"D -1\", \"D 1\", \"D 1\", \"I 123\", \"D -1\"]\n",
    "#operations = [\"I -45\", \"I 653\", \"D 1\", \"I -642\", \"I 45\", \"I 97\", \"D 1\", \"D -1\", \"I 333\"]\t"
   ]
  },
  {
   "cell_type": "code",
   "execution_count": 4,
   "id": "501105a3",
   "metadata": {},
   "outputs": [],
   "source": [
    "import heapq\n",
    "def solution(operations):\n",
    "    # [최댓값, 최솟값]\n",
    "    answer = []\n",
    "    heap = []\n",
    "    for command in operations:\n",
    "        if command[0] == 'I': #삽입\n",
    "            heapq.heappush(heap,int(command[2:]))\n",
    "        else:\n",
    "            if bool(heap) == False:\n",
    "                continue\n",
    "            if int(command[2:]) == -1: # 최솟값\n",
    "                heapq.heappop(heap)\n",
    "            else: # 최댓갑\n",
    "                heap.remove(heapq.nlargest(1, heap)[0])\n",
    "    if bool(heap) == False:\n",
    "        answer = [0,0]\n",
    "    else:\n",
    "        min = heapq.nsmallest(1, heap)[0]\n",
    "        max = heapq.nlargest(1, heap)[0]\n",
    "        answer = [max, min]\n",
    "        pass\n",
    "    return answer"
   ]
  },
  {
   "cell_type": "code",
   "execution_count": 5,
   "id": "8b47b638",
   "metadata": {},
   "outputs": [
    {
     "name": "stdout",
     "output_type": "stream",
     "text": [
      "[0, 0]\n"
     ]
    }
   ],
   "source": [
    "print(solution(operations))"
   ]
  },
  {
   "cell_type": "code",
   "execution_count": null,
   "id": "e81d21be",
   "metadata": {},
   "outputs": [],
   "source": []
  }
 ],
 "metadata": {
  "kernelspec": {
   "display_name": "Python 3 (ipykernel)",
   "language": "python",
   "name": "python3"
  },
  "language_info": {
   "codemirror_mode": {
    "name": "ipython",
    "version": 3
   },
   "file_extension": ".py",
   "mimetype": "text/x-python",
   "name": "python",
   "nbconvert_exporter": "python",
   "pygments_lexer": "ipython3",
   "version": "3.9.13"
  }
 },
 "nbformat": 4,
 "nbformat_minor": 5
}
