{
 "cells": [
  {
   "cell_type": "markdown",
   "id": "fda20806",
   "metadata": {},
   "source": [
    "# 문제"
   ]
  },
  {
   "cell_type": "markdown",
   "id": "f75fb372",
   "metadata": {},
   "source": [
    "타로는 자주 JOI잡화점에서 물건을 산다. JOI잡화점에는 잔돈으로 500엔, 100엔, 50엔, 10엔, 5엔, 1엔이 충분히 있고, 언제나 거스름돈 개수가 가장 적게 잔돈을 준다. 타로가 JOI잡화점에서 물건을 사고 카운터에서 1000엔 지폐를 한장 냈을 때, 받을 잔돈에 포함된 잔돈의 개수를 구하는 프로그램을 작성하시오."
   ]
  },
  {
   "cell_type": "markdown",
   "id": "f9a4e214",
   "metadata": {},
   "source": [
    "# 입력"
   ]
  },
  {
   "cell_type": "markdown",
   "id": "70c30976",
   "metadata": {},
   "source": [
    "입력은 한줄로 이루어져있고, 타로가 지불할 돈(1 이상 1000미만의 정수) 1개가 쓰여져있다.\n",
    "\n"
   ]
  },
  {
   "cell_type": "markdown",
   "id": "9eded5c1",
   "metadata": {},
   "source": [
    "# 출력"
   ]
  },
  {
   "cell_type": "markdown",
   "id": "539681ee",
   "metadata": {},
   "source": [
    "제출할 출력 파일은 1행으로만 되어 있다. 잔돈에 포함된 매수를 출력하시오.\n",
    "\n"
   ]
  },
  {
   "cell_type": "markdown",
   "id": "6772dbf0",
   "metadata": {},
   "source": [
    "```\n",
    "예제입력\n",
    "380\n",
    "예제출력\n",
    "4\n",
    "\n",
    "예제입력\n",
    "1\n",
    "예제출력\n",
    "15\n",
    "```"
   ]
  },
  {
   "cell_type": "markdown",
   "id": "20b2a7b5",
   "metadata": {},
   "source": [
    "# 코드"
   ]
  },
  {
   "cell_type": "code",
   "execution_count": 4,
   "id": "10b2b717",
   "metadata": {},
   "outputs": [
    {
     "name": "stdout",
     "output_type": "stream",
     "text": [
      "380\n",
      "4\n"
     ]
    }
   ],
   "source": [
    "# 탐욕법 거스름돈\n",
    "\n",
    "N = int(input())\n",
    "\n",
    "return_value = 1000 - N\n",
    "count = 0\n",
    "while return_value:\n",
    "\n",
    "    #500원\n",
    "    if return_value >=500:\n",
    "        count+= return_value//500\n",
    "        return_value = return_value - (500 *(return_value//500))\n",
    "    elif return_value >= 100:\n",
    "        count += return_value//100\n",
    "        return_value = return_value - (100*(return_value//100))\n",
    "    elif return_value >= 50:\n",
    "        count+= return_value//50\n",
    "        return_value =return_value - (50*(return_value//50))\n",
    "    elif return_value >= 10:\n",
    "        count+= return_value //10\n",
    "        return_value = return_value - (10*(return_value//10))\n",
    "    elif return_value >= 5:\n",
    "        count+=return_value//5\n",
    "        return_value = return_value - (5*(return_value//5))\n",
    "    else:\n",
    "        count+=return_value\n",
    "        tmp = return_value\n",
    "        return_value = return_value - tmp\n",
    "        \n",
    "    \n",
    "print(count)        "
   ]
  }
 ],
 "metadata": {
  "kernelspec": {
   "display_name": "Python 3 (ipykernel)",
   "language": "python",
   "name": "python3"
  },
  "language_info": {
   "codemirror_mode": {
    "name": "ipython",
    "version": 3
   },
   "file_extension": ".py",
   "mimetype": "text/x-python",
   "name": "python",
   "nbconvert_exporter": "python",
   "pygments_lexer": "ipython3",
   "version": "3.9.12"
  }
 },
 "nbformat": 4,
 "nbformat_minor": 5
}
