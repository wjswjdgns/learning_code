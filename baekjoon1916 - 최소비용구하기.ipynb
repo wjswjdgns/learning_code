{
 "cells": [
  {
   "cell_type": "markdown",
   "id": "ccc233b3",
   "metadata": {},
   "source": [
    "# 문제"
   ]
  },
  {
   "cell_type": "markdown",
   "id": "207265be",
   "metadata": {},
   "source": [
    "N개의 도시가 있다. 그리고 한 도시에서 출발하여 다른 도시에 도착하는 M개의 버스가 있다. 우리는 A번째 도시에서 B번째 도시까지 가는데 드는 버스 비용을 최소화 시키려고 한다. A번째 도시에서 B번째 도시까지 가는데 드는 최소비용을 출력하여라. 도시의 번호는 1부터 N까지이다."
   ]
  },
  {
   "cell_type": "markdown",
   "id": "e5faae38",
   "metadata": {},
   "source": [
    "# 입력"
   ]
  },
  {
   "cell_type": "markdown",
   "id": "027fc3a6",
   "metadata": {},
   "source": [
    "첫째 줄에 도시의 개수 N(1 ≤ N ≤ 1,000)이 주어지고 둘째 줄에는 버스의 개수 M(1 ≤ M ≤ 100,000)이 주어진다. 그리고 셋째 줄부터 M+2줄까지 다음과 같은 버스의 정보가 주어진다. 먼저 처음에는 그 버스의 출발 도시의 번호가 주어진다. 그리고 그 다음에는 도착지의 도시 번호가 주어지고 또 그 버스 비용이 주어진다. 버스 비용은 0보다 크거나 같고, 100,000보다 작은 정수이다.\n",
    "\n",
    "그리고 M+3째 줄에는 우리가 구하고자 하는 구간 출발점의 도시번호와 도착점의 도시번호가 주어진다. 출발점에서 도착점을 갈 수 있는 경우만 입력으로 주어진다."
   ]
  },
  {
   "cell_type": "markdown",
   "id": "8ac89d18",
   "metadata": {},
   "source": [
    "# 출력"
   ]
  },
  {
   "cell_type": "markdown",
   "id": "ebffa41b",
   "metadata": {},
   "source": [
    "첫째 줄에 출발 도시에서 도착 도시까지 가는데 드는 최소 비용을 출력한다."
   ]
  },
  {
   "cell_type": "markdown",
   "id": "fee0bc77",
   "metadata": {},
   "source": [
    "```\n",
    "예제입력\n",
    "5\n",
    "8\n",
    "1 2 2\n",
    "1 3 3\n",
    "1 4 1\n",
    "1 5 10\n",
    "2 4 2\n",
    "3 4 1\n",
    "3 5 1\n",
    "4 5 3\n",
    "1 5\n",
    "```\n",
    "\n",
    "```\n",
    "예제출력\n",
    "4\n",
    "```"
   ]
  },
  {
   "cell_type": "markdown",
   "id": "f06d68d4",
   "metadata": {},
   "source": [
    "# 코드"
   ]
  },
  {
   "cell_type": "code",
   "execution_count": null,
   "id": "c33b95c7",
   "metadata": {},
   "outputs": [],
   "source": [
    "import sys\n",
    "import heapq #최댓값 최솟값을 찾는 연산에 특화된 완전 이진트리 (우선순위 큐 : 최소 힙)\n",
    "input = sys.stdin.readline\n",
    "\n",
    "def solution(start, end):\n",
    "    heap = []\n",
    "    heapq.heappush(heap, (0, start)) #시작지점을 힙에 저장\n",
    "    distance[start] = 0 #첫 시작 지점 0으로 시작\n",
    "    \n",
    "    while heap: #더 이상 갈 곳이 없을 때 while 문 탈출\n",
    "        h_cost, h_start = heapq.heappop(heap)\n",
    "       \n",
    "        if distance[h_start] < h_cost: #등록된 값보다 가중치가 더 클 경우 넘어간다.\n",
    "            continue\n",
    "        \n",
    "        for i in graph[h_start]:\n",
    "            sum_cost = h_cost + i[1] #가중치 합산\n",
    "           \n",
    "            if sum_cost < distance[i[0]]:\n",
    "                distance[i[0]] = sum_cost\n",
    "                heapq.heappush(heap, (sum_cost, i[0]))\n",
    "               \n",
    "    return distance[end]\n",
    "    \n",
    "INF = int(1e9) # 무한대 값 지정\n",
    "N = int(input()) #도시\n",
    "M = int(input()) #버스\n",
    "\n",
    "graph = [[] for _ in range(N+1)]\n",
    "distance = [INF] * (N+1)\n",
    "\n",
    "for _ in range(M):\n",
    "    a, b, cost = map(int, input().split())\n",
    "    graph[a].append((b, cost))\n",
    "    \n",
    "start, end = map(int, input().split())\n",
    "\n",
    "print(solution(start, end))"
   ]
  }
 ],
 "metadata": {
  "kernelspec": {
   "display_name": "Python 3 (ipykernel)",
   "language": "python",
   "name": "python3"
  },
  "language_info": {
   "codemirror_mode": {
    "name": "ipython",
    "version": 3
   },
   "file_extension": ".py",
   "mimetype": "text/x-python",
   "name": "python",
   "nbconvert_exporter": "python",
   "pygments_lexer": "ipython3",
   "version": "3.9.12"
  }
 },
 "nbformat": 4,
 "nbformat_minor": 5
}
