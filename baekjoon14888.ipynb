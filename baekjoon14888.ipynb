{
 "cells": [
  {
   "cell_type": "markdown",
   "id": "21cf296c",
   "metadata": {},
   "source": [
    "# 시간초과"
   ]
  },
  {
   "cell_type": "code",
   "execution_count": 10,
   "id": "df2f351a",
   "metadata": {},
   "outputs": [
    {
     "name": "stdout",
     "output_type": "stream",
     "text": [
      "6\n",
      "1 2 3 4 5 6\n",
      "2 1 1. \n"
     ]
    },
    {
     "ename": "ValueError",
     "evalue": "invalid literal for int() with base 10: '1.'",
     "output_type": "error",
     "traceback": [
      "\u001b[0;31m---------------------------------------------------------------------------\u001b[0m",
      "\u001b[0;31mValueError\u001b[0m                                Traceback (most recent call last)",
      "Input \u001b[0;32mIn [10]\u001b[0m, in \u001b[0;36m<cell line: 7>\u001b[0;34m()\u001b[0m\n\u001b[1;32m      5\u001b[0m N \u001b[38;5;241m=\u001b[39m \u001b[38;5;28mint\u001b[39m(\u001b[38;5;28minput\u001b[39m())\n\u001b[1;32m      6\u001b[0m value_list \u001b[38;5;241m=\u001b[39m \u001b[38;5;28mlist\u001b[39m(\u001b[38;5;28mmap\u001b[39m(\u001b[38;5;28mint\u001b[39m, \u001b[38;5;28minput\u001b[39m()\u001b[38;5;241m.\u001b[39msplit()))\n\u001b[0;32m----> 7\u001b[0m cal \u001b[38;5;241m=\u001b[39m \u001b[38;5;28;43mlist\u001b[39;49m\u001b[43m(\u001b[49m\u001b[38;5;28;43mmap\u001b[39;49m\u001b[43m(\u001b[49m\u001b[38;5;28;43mint\u001b[39;49m\u001b[43m,\u001b[49m\u001b[43m \u001b[49m\u001b[38;5;28;43minput\u001b[39;49m\u001b[43m(\u001b[49m\u001b[43m)\u001b[49m\u001b[38;5;241;43m.\u001b[39;49m\u001b[43msplit\u001b[49m\u001b[43m(\u001b[49m\u001b[43m)\u001b[49m\u001b[43m)\u001b[49m\u001b[43m)\u001b[49m\n\u001b[1;32m      9\u001b[0m \u001b[38;5;66;03m#필요 변수 정의\u001b[39;00m\n\u001b[1;32m     10\u001b[0m dic \u001b[38;5;241m=\u001b[39m {\u001b[38;5;241m0\u001b[39m : \u001b[38;5;124m'\u001b[39m\u001b[38;5;124m+\u001b[39m\u001b[38;5;124m'\u001b[39m, \u001b[38;5;241m1\u001b[39m: \u001b[38;5;124m'\u001b[39m\u001b[38;5;124m-\u001b[39m\u001b[38;5;124m'\u001b[39m, \u001b[38;5;241m2\u001b[39m: \u001b[38;5;124m'\u001b[39m\u001b[38;5;124m*\u001b[39m\u001b[38;5;124m'\u001b[39m, \u001b[38;5;241m3\u001b[39m: \u001b[38;5;124m'\u001b[39m\u001b[38;5;124m/\u001b[39m\u001b[38;5;124m'\u001b[39m} \u001b[38;5;66;03m#연산식\u001b[39;00m\n",
      "\u001b[0;31mValueError\u001b[0m: invalid literal for int() with base 10: '1.'"
     ]
    }
   ],
   "source": [
    "import itertools\n",
    "#깊이 우선 탐색\n",
    "\n",
    "#입력 받기\n",
    "N = int(input())\n",
    "value_list = list(map(int, input().split()))\n",
    "cal = list(map(int, input().split()))\n",
    "\n",
    "#필요 변수 정의\n",
    "dic = {0 : '+', 1: '-', 2: '*', 3: '/'} #연산식\n",
    "min_result = 1000000000\n",
    "max_result = -1000000000\n",
    "\n",
    "#연산식 리스트 만들기\n",
    "cal_list = []\n",
    "for i in range(4):\n",
    "    for j in range(cal[i]):\n",
    "        cal_list.append(dic[i])\n",
    "        \n",
    "#모든 경우의 연산식 리스트 만들기 -- 이 부분이 제일 어려움 길이값\n",
    "data = itertools.permutations(cal_list, N-1) # 컴비네이션\n",
    "check = []\n",
    "#완전 탐색\n",
    "for cycle in data: #나올 수 있는 모든 경우의 수만큼 반복 횟수만큼\n",
    "    result = value_list[0] #맨처음 값을 result값으로\n",
    "    for idx ,cycle_value in enumerate(cycle):\n",
    "        if cycle_value == '+':\n",
    "            result = result + value_list[idx+1]\n",
    "        elif cycle_value == '-':\n",
    "            result = result - value_list[idx+1]\n",
    "        elif cycle_value == '*':\n",
    "            result = result * value_list[idx+1]\n",
    "        elif cycle_value == '/':\n",
    "            result = int(result / value_list[idx+1])\n",
    "\n",
    "    check.append(result)\n",
    "    #최솟값 구하기    \n",
    "    if result < min_result:\n",
    "        min_result = result\n",
    "    #최댓값 구하기\n",
    "    if result > max_result: \n",
    "        max_result = result\n",
    "\n",
    "print(max_result)\n",
    "print(min_result)"
   ]
  },
  {
   "cell_type": "markdown",
   "id": "28045e52",
   "metadata": {},
   "source": [
    "# 두번째 코드"
   ]
  },
  {
   "cell_type": "code",
   "execution_count": 7,
   "id": "80d02331",
   "metadata": {},
   "outputs": [
    {
     "name": "stdout",
     "output_type": "stream",
     "text": [
      "6\n",
      "1 2 3 4 5 6\n",
      "2 1 1 1\n",
      "54\n",
      "-24\n",
      "60\n"
     ]
    }
   ],
   "source": [
    "### 함수\n",
    "def solution(depth, value, add, sub, multi, divi):\n",
    "    global max_result\n",
    "    global min_result\n",
    "    if depth == N: #탈출문\n",
    "        max_result = max(value, max_result)\n",
    "        min_result = min(value, min_result)\n",
    "        return\n",
    "    \n",
    "    if add: solution(depth+1, value+value_list[depth], add-1, sub, multi, divi) \n",
    "    if sub: solution(depth+1, value-value_list[depth], add, sub-1, multi, divi)\n",
    "    if multi: solution(depth+1, value*value_list[depth], add, sub, multi-1, divi)\n",
    "    if divi: solution(depth+1, int(value/value_list[depth]), add, sub, multi, divi-1)\n",
    "    # 음수를 양수로 나눌 때 C++14 기준 : 양수로 바꾼 뒤 몫을 취하고, 그 몫을 음수로 바꾼 것\n",
    "    # 이를 value/(value_list[depth])\n",
    "            \n",
    "# 입력받기 & 필요 변수 설정\n",
    "N = int(input())\n",
    "count = 0\n",
    "max_result = -1000000000\n",
    "min_result = 1000000000\n",
    "value_list = list(map(int, input().split()))\n",
    "cal_list = list(map(int, input().split())) \n",
    "temp = value_list[0]\n",
    "\n",
    "# 함수 실행\n",
    "solution(1, temp, cal_list[0], cal_list[1], cal_list[2], cal_list[3])\n",
    "\n",
    "# 최댓값 최솟값 실행\n",
    "print(max_result)\n",
    "print(min_result)"
   ]
  }
 ],
 "metadata": {
  "kernelspec": {
   "display_name": "Python 3 (ipykernel)",
   "language": "python",
   "name": "python3"
  },
  "language_info": {
   "codemirror_mode": {
    "name": "ipython",
    "version": 3
   },
   "file_extension": ".py",
   "mimetype": "text/x-python",
   "name": "python",
   "nbconvert_exporter": "python",
   "pygments_lexer": "ipython3",
   "version": "3.9.12"
  }
 },
 "nbformat": 4,
 "nbformat_minor": 5
}
