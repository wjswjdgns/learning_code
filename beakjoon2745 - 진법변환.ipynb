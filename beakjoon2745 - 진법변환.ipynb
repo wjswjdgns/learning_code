{
 "cells": [
  {
   "cell_type": "markdown",
   "id": "f8809d73",
   "metadata": {},
   "source": [
    "# 문제"
   ]
  },
  {
   "cell_type": "markdown",
   "id": "60d3b224",
   "metadata": {},
   "source": [
    "B진법 수 N이 주어진다. 이 수를 10진법으로 바꿔 출력하는 프로그램을 작성하시오.\n",
    "\n",
    "10진법을 넘어가는 진법은 숫자로 표시할 수 없는 자리가 있다. 이런 경우에는 다음과 같이 알파벳 대문자를 사용한다.\n",
    "\n",
    "A: 10, B: 11, ..., F: 15, ..., Y: 34, Z: 35"
   ]
  },
  {
   "cell_type": "markdown",
   "id": "f2b4aada",
   "metadata": {},
   "source": [
    "# 입력"
   ]
  },
  {
   "cell_type": "markdown",
   "id": "be2e02a3",
   "metadata": {},
   "source": [
    "첫째 줄에 N과 B가 주어진다. (2 ≤ B ≤ 36)\n",
    "\n",
    "B진법 수 N을 10진법으로 바꾸면, 항상 10억보다 작거나 같다."
   ]
  },
  {
   "cell_type": "markdown",
   "id": "3d6f340e",
   "metadata": {},
   "source": [
    "# 출력"
   ]
  },
  {
   "cell_type": "markdown",
   "id": "38d70476",
   "metadata": {},
   "source": [
    "첫째 줄에 B진법 수 N을 10진법으로 출력한다."
   ]
  },
  {
   "cell_type": "markdown",
   "id": "701a2840",
   "metadata": {},
   "source": [
    "# 예제 입력"
   ]
  },
  {
   "cell_type": "markdown",
   "id": "92924d59",
   "metadata": {},
   "source": [
    "<pre>\n",
    "ZZZZZ 36\n",
    "</pre>"
   ]
  },
  {
   "cell_type": "markdown",
   "id": "ad18f624",
   "metadata": {},
   "source": [
    "### 예제 출력"
   ]
  },
  {
   "cell_type": "markdown",
   "id": "e2410c40",
   "metadata": {},
   "source": [
    "<pre>\n",
    "60466175\n",
    "</pre>"
   ]
  },
  {
   "cell_type": "markdown",
   "id": "dc993280",
   "metadata": {},
   "source": [
    "# 1차코드"
   ]
  },
  {
   "cell_type": "markdown",
   "id": "f4a600ec",
   "metadata": {},
   "source": [
    "- 성공"
   ]
  },
  {
   "cell_type": "code",
   "execution_count": null,
   "id": "004faf64",
   "metadata": {},
   "outputs": [],
   "source": [
    "import sys\n",
    "N,B = sys.stdin.readline().split()\n",
    "\n",
    "N = N[::-1] #역순으로 변경\n",
    "B = int(B)\n",
    " \n",
    "result = 0\n",
    "number = '0123456789ABCDEFGHIJKLMNOPQRSTUVWXYZ' #index를 통해서 숫자 색인\n",
    "\n",
    "for i in range(len(N)):\n",
    "    result+=number.index(N[i]) * (B**i)\n",
    "    \n",
    "print(result)"
   ]
  }
 ],
 "metadata": {
  "kernelspec": {
   "display_name": "Python 3 (ipykernel)",
   "language": "python",
   "name": "python3"
  },
  "language_info": {
   "codemirror_mode": {
    "name": "ipython",
    "version": 3
   },
   "file_extension": ".py",
   "mimetype": "text/x-python",
   "name": "python",
   "nbconvert_exporter": "python",
   "pygments_lexer": "ipython3",
   "version": "3.9.12"
  }
 },
 "nbformat": 4,
 "nbformat_minor": 5
}
