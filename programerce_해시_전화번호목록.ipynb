{
 "cells": [
  {
   "cell_type": "markdown",
   "id": "b6569707",
   "metadata": {},
   "source": [
    "### 문제 설명"
   ]
  },
  {
   "cell_type": "markdown",
   "id": "effd8beb",
   "metadata": {},
   "source": [
    "전화번호부에 적힌 전화번호 중, 한 번호가 다른 번호의 접두어인 경우가 있는지 확인하려 합니다.\n",
    "전화번호가 다음과 같을 경우, 구조대 전화번호는 영석이의 전화번호의 접두사입니다.\n",
    "<pre>\n",
    "구조대 : 119\n",
    "박준영 : 97 674 223\n",
    "지영석 : 11 9552 4421\n",
    "</pre>\n",
    "전화번호부에 적힌 전화번호를 담은 배열 phone_book 이 solution 함수의 매개변수로 주어질 때, 어떤 번호가 다른 번호의 접두어인 경우가 있으면 false를 그렇지 않으면 true를 return 하도록 solution 함수를 작성해주세요."
   ]
  },
  {
   "cell_type": "markdown",
   "id": "92b530b7",
   "metadata": {},
   "source": [
    "### 제한 상황"
   ]
  },
  {
   "cell_type": "markdown",
   "id": "b944fd58",
   "metadata": {},
   "source": [
    "phone_book의 길이는 1 이상 1,000,000 이하입니다.\n",
    "각 전화번호의 길이는 1 이상 20 이하입니다.\n",
    "같은 전화번호가 중복해서 들어있지 않습니다."
   ]
  },
  {
   "cell_type": "markdown",
   "id": "5c5084b3",
   "metadata": {},
   "source": [
    "입출력 예제\n",
    "<pre>\n",
    "phone_book\treturn\n",
    "[\"119\", \"97674223\", \"1195524421\"]\tfalse\n",
    "[\"123\",\"456\",\"789\"]\ttrue\n",
    "[\"12\",\"123\",\"1235\",\"567\",\"88\"]\tfalse\n",
    "</pre>"
   ]
  },
  {
   "cell_type": "markdown",
   "id": "26549646",
   "metadata": {},
   "source": [
    "### 입출력 예 설명\n"
   ]
  },
  {
   "cell_type": "markdown",
   "id": "678e897d",
   "metadata": {},
   "source": [
    "입출력 예 #1 <br>\n",
    "앞에서 설명한 예와 같습니다.<br>\n",
    "입출력 예 #2 <br>\n",
    "한 번호가 다른 번호의 접두사인 경우가 없으므로, 답은 true입니다. <br>\n",
    "입출력 예 #3 <br>\n",
    "첫 번째 전화번호, “12”가 두 번째 전화번호 “123”의 접두사입니다. 따라서 답은 false입니다. <br>"
   ]
  },
  {
   "cell_type": "markdown",
   "id": "52467415",
   "metadata": {},
   "source": [
    "### 1차 코드\n",
    "- 정확도 테스트 통과\n",
    "- 효율성 테스트 불통과\n",
    "- 이중 for문과 거쳐가는 리스트 목록을 자신 이후 전부로 했기 때문에 시간초과가 난 것으로 생각 됨"
   ]
  },
  {
   "cell_type": "code",
   "execution_count": 2,
   "id": "4ac15de5",
   "metadata": {},
   "outputs": [],
   "source": [
    "def solution(phone_book):\n",
    "    answer = True\n",
    "    phone_book.sort()\n",
    "    \n",
    "    for idx,i in enumerate(phone_book):\n",
    "        base = i\n",
    "        length = len(base)\n",
    "        \n",
    "        for i in phone_book[idx+1:]:\n",
    "            if i[:length] == base:\n",
    "                answer = False\n",
    "                break\n",
    "        if answer == False:\n",
    "            break   \n",
    "    return answer"
   ]
  },
  {
   "cell_type": "markdown",
   "id": "08df55d2",
   "metadata": {},
   "source": [
    "### 2차 코드"
   ]
  },
  {
   "cell_type": "markdown",
   "id": "4bb49386",
   "metadata": {},
   "source": [
    "- 자신 이후 전부를 할 필요 없이 한번만 확인하도록 변경 (sort를 진행을 했기 때문에 접두사로 오게 되는 것은 같이 묶이게 된다.)\n",
    "- 정확도 통과\n",
    "- 효율성 통과"
   ]
  },
  {
   "cell_type": "code",
   "execution_count": null,
   "id": "b84cb227",
   "metadata": {},
   "outputs": [],
   "source": [
    "def solution(phone_book):\n",
    "    answer = True\n",
    "    phone_book.sort()\n",
    "    \n",
    "    for i in range(len(phone_book)-1):\n",
    "        if phone_book[i] == phone_book[i+1][:len((phone_book[i]))]:\n",
    "            answer = False\n",
    "            break\n",
    "    return answer"
   ]
  }
 ],
 "metadata": {
  "kernelspec": {
   "display_name": "Python 3 (ipykernel)",
   "language": "python",
   "name": "python3"
  },
  "language_info": {
   "codemirror_mode": {
    "name": "ipython",
    "version": 3
   },
   "file_extension": ".py",
   "mimetype": "text/x-python",
   "name": "python",
   "nbconvert_exporter": "python",
   "pygments_lexer": "ipython3",
   "version": "3.9.12"
  }
 },
 "nbformat": 4,
 "nbformat_minor": 5
}
