{
 "cells": [
  {
   "cell_type": "markdown",
   "id": "4b3e7f9e",
   "metadata": {},
   "source": [
    "# 문제 설명"
   ]
  },
  {
   "cell_type": "markdown",
   "id": "1d2891df",
   "metadata": {},
   "source": [
    "점심시간에 도둑이 들어, 일부 학생이 체육복을 도난당했습니다. 다행히 여벌 체육복이 있는 학생이 이들에게 체육복을 빌려주려 합니다. 학생들의 번호는 체격 순으로 매겨져 있어, 바로 앞번호의 학생이나 바로 뒷번호의 학생에게만 체육복을 빌려줄 수 있습니다. 예를 들어, 4번 학생은 3번 학생이나 5번 학생에게만 체육복을 빌려줄 수 있습니다. 체육복이 없으면 수업을 들을 수 없기 때문에 체육복을 적절히 빌려 최대한 많은 학생이 체육수업을 들어야 합니다.\n",
    "\n",
    "전체 학생의 수 n, 체육복을 도난당한 학생들의 번호가 담긴 배열 lost, 여벌의 체육복을 가져온 학생들의 번호가 담긴 배열 reserve가 매개변수로 주어질 때, 체육수업을 들을 수 있는 학생의 최댓값을 return 하도록 solution 함수를 작성해주세요."
   ]
  },
  {
   "cell_type": "markdown",
   "id": "06b5a6de",
   "metadata": {},
   "source": [
    "# 제한 사항"
   ]
  },
  {
   "cell_type": "markdown",
   "id": "7809ca83",
   "metadata": {},
   "source": [
    "전체 학생의 수는 2명 이상 30명 이하입니다.\n",
    "체육복을 도난당한 학생의 수는 1명 이상 n명 이하이고 중복되는 번호는 없습니다.\n",
    "여벌의 체육복을 가져온 학생의 수는 1명 이상 n명 이하이고 중복되는 번호는 없습니다.\n",
    "여벌 체육복이 있는 학생만 다른 학생에게 체육복을 빌려줄 수 있습니다.\n",
    "여벌 체육복을 가져온 학생이 체육복을 도난당했을 수 있습니다. 이때 이 학생은 체육복을 하나만 도난당했다고 가정하며, 남은 체육복이 하나이기에 다른 학생에게는 체육복을 빌려줄 수 없습니다."
   ]
  },
  {
   "cell_type": "markdown",
   "id": "67388048",
   "metadata": {},
   "source": [
    "```\n",
    "입출력 예\n",
    "n\tlost\treserve\treturn\n",
    "5\t[2, 4]\t[1, 3, 5]\t5\n",
    "5\t[2, 4]\t[3]\t4\n",
    "3\t[3]\t[1]\t2\n",
    "```"
   ]
  },
  {
   "cell_type": "markdown",
   "id": "a093a4db",
   "metadata": {},
   "source": [
    "# 입출력 예 설명"
   ]
  },
  {
   "cell_type": "markdown",
   "id": "2482a65b",
   "metadata": {},
   "source": [
    "입출력 예 설명\n",
    "예제 #1\n",
    "1번 학생이 2번 학생에게 체육복을 빌려주고, 3번 학생이나 5번 학생이 4번 학생에게 체육복을 빌려주면 학생 5명이 체육수업을 들을 수 있습니다.\n",
    "\n",
    "예제 #2\n",
    "3번 학생이 2번 학생이나 4번 학생에게 체육복을 빌려주면 학생 4명이 체육수업을 들을 수 있습니다."
   ]
  },
  {
   "cell_type": "code",
   "execution_count": null,
   "id": "f9145b24",
   "metadata": {},
   "outputs": [],
   "source": [
    "# 임시 예제\n",
    "n = 13\n",
    "lost = [1, 2, 5, 6, 10, 12, 13]\n",
    "reserve = [2, 3, 4, 5, 7, 8, 9, 10, 11, 12]"
   ]
  },
  {
   "cell_type": "code",
   "execution_count": null,
   "id": "9fe19123",
   "metadata": {},
   "outputs": [],
   "source": [
    "def solution(n,lost, reserve):\n",
    "    answer = 0\n",
    "    remains = [1] * n\n",
    "    \n",
    "    # 순차적으로 진행 + 잃어버린 사람부터 체크를 했기 때문에 여분용을 가지고 있지만\n",
    "    # 가지고 있지 않다고 코드상으로 판단되어 넘겨주게 되고 이후 해당되는 번호가 왔을때\n",
    "    # 하나를 추가 해줌으로써 여분용이 없지만 여분용이 있다고 판단하게 되고\n",
    "    # 이후부터는 코드가 꼬이기 시작\n",
    "    \n",
    "    # 여벌용은 가지고 있는데 도난당한 사람 체크\n",
    "    reserve_l = list(set(reserve) - set(lost))\n",
    "    lost_l = list(set(lost) - set(reserve))\n",
    "    \n",
    "    # 잊어버린 사람 체크\n",
    "    for i in lost_l:\n",
    "        remains[i-1] -= 1\n",
    "    \n",
    "    # 여분용 체크 및 양 옆 빌려주기\n",
    "    for i in reserve_l:\n",
    "        remains_person = i-1\n",
    "        remains[remains_person] += 1\n",
    "        f_lost_person = remains_person - 1\n",
    "        e_lost_person = remains_person + 1\n",
    "        \n",
    "        if f_lost_person >= 0:\n",
    "            if remains[f_lost_person] == 0 and remains[remains_person] > 1:\n",
    "                remains[f_lost_person] += 1\n",
    "                remains[remains_person] -= 1\n",
    "                \n",
    "        if e_lost_person <= n-1:\n",
    "            if remains[e_lost_person] == 0 and remains[remains_person] > 1:\n",
    "                remains[e_lost_person] += 1\n",
    "                remains[remains_person] -= 1\n",
    "    # count    \n",
    "    for i in remains:\n",
    "        if i >= 1:\n",
    "            answer += 1\n",
    "        \n",
    "    return answer"
   ]
  },
  {
   "cell_type": "code",
   "execution_count": null,
   "id": "df9be8b5",
   "metadata": {},
   "outputs": [],
   "source": [
    "print(solution(n,lost, reserve))"
   ]
  },
  {
   "cell_type": "code",
   "execution_count": null,
   "id": "a272ff83",
   "metadata": {},
   "outputs": [],
   "source": []
  }
 ],
 "metadata": {
  "kernelspec": {
   "display_name": "Python 3 (ipykernel)",
   "language": "python",
   "name": "python3"
  },
  "language_info": {
   "codemirror_mode": {
    "name": "ipython",
    "version": 3
   },
   "file_extension": ".py",
   "mimetype": "text/x-python",
   "name": "python",
   "nbconvert_exporter": "python",
   "pygments_lexer": "ipython3",
   "version": "3.9.13"
  }
 },
 "nbformat": 4,
 "nbformat_minor": 5
}
