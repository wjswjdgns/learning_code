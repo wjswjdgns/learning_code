{
 "cells": [
  {
   "cell_type": "markdown",
   "id": "f43e3f25",
   "metadata": {},
   "source": [
    "### 문제"
   ]
  },
  {
   "attachments": {},
   "cell_type": "markdown",
   "id": "ed401c39",
   "metadata": {},
   "source": [
    "게임개발자인 \"죠르디\"는 크레인 인형뽑기 기계를 모바일 게임으로 만들려고 합니다.\n",
    "\"죠르디\"는 게임의 재미를 높이기 위해 화면 구성과 규칙을 다음과 같이 게임 로직에 반영하려고 합니다.\n"
   ]
  },
  {
   "cell_type": "markdown",
   "id": "80b1627e",
   "metadata": {},
   "source": [
    "![python image1](https://grepp-programmers.s3.ap-northeast-2.amazonaws.com/files/production/69f1cd36-09f4-4435-8363-b71a650f7448/crane_game_101.png)"
   ]
  },
  {
   "cell_type": "markdown",
   "id": "20de693e",
   "metadata": {},
   "source": [
    "게임 화면은 \"1 x 1\" 크기의 칸들로 이루어진 \"N x N\" 크기의 정사각 격자이며 위쪽에는 크레인이 있고 오른쪽에는 바구니가 있습니다. (위 그림은 \"5 x 5\" 크기의 예시입니다). 각 격자 칸에는 다양한 인형이 들어 있으며 인형이 없는 칸은 빈칸입니다. 모든 인형은 \"1 x 1\" 크기의 격자 한 칸을 차지하며 격자의 가장 아래 칸부터 차곡차곡 쌓여 있습니다. 게임 사용자는 크레인을 좌우로 움직여서 멈춘 위치에서 가장 위에 있는 인형을 집어 올릴 수 있습니다. 집어 올린 인형은 바구니에 쌓이게 되는 데, 이때 바구니의 가장 아래 칸부터 인형이 순서대로 쌓이게 됩니다. 다음 그림은 [1번, 5번, 3번] 위치에서 순서대로 인형을 집어 올려 바구니에 담은 모습입니다."
   ]
  },
  {
   "cell_type": "markdown",
   "id": "02003df1",
   "metadata": {},
   "source": [
    "![python image1](https://grepp-programmers.s3.ap-northeast-2.amazonaws.com/files/production/638e2162-b1e4-4bbb-b0d7-62d31e97d75c/crane_game_102.png)"
   ]
  },
  {
   "cell_type": "markdown",
   "id": "7f699b30",
   "metadata": {},
   "source": [
    "만약 같은 모양의 인형 두 개가 바구니에 연속해서 쌓이게 되면 두 인형은 터뜨려지면서 바구니에서 사라지게 됩니다. 위 상태에서 이어서 [5번] 위치에서 인형을 집어 바구니에 쌓으면 같은 모양 인형 두 개가 없어집니다."
   ]
  },
  {
   "cell_type": "markdown",
   "id": "f62e6166",
   "metadata": {},
   "source": [
    "![python image1](https://grepp-programmers.s3.ap-northeast-2.amazonaws.com/files/production/8569d736-091e-4771-b2d3-7a6e95a20c22/crane_game_103.gif)"
   ]
  },
  {
   "cell_type": "markdown",
   "id": "dbe0197a",
   "metadata": {},
   "source": [
    "크레인 작동 시 인형이 집어지지 않는 경우는 없으나 만약 인형이 없는 곳에서 크레인을 작동시키는 경우에는 아무런 일도 일어나지 않습니다. 또한 바구니는 모든 인형이 들어갈 수 있을 만큼 충분히 크다고 가정합니다. (그림에서는 화면표시 제약으로 5칸만으로 표현하였음)\n",
    "게임 화면의 격자의 상태가 담긴 2차원 배열 board와 인형을 집기 위해 크레인을 작동시킨 위치가 담긴 배열 moves가 매개변수로 주어질 때, 크레인을 모두 작동시킨 후 터트려져 사라진 인형의 개수를 return 하도록 solution 함수를 완성해주세요."
   ]
  },
  {
   "cell_type": "code",
   "execution_count": 14,
   "id": "0c20c958",
   "metadata": {},
   "outputs": [],
   "source": [
    "def solution(board, moves):\n",
    "    answer = 0\n",
    "    play_count = len(moves)\n",
    "    stack_list = [None] * play_count #빈 스택 완성\n",
    "    stack_count = 0\n",
    "\n",
    "    for i in range(play_count): #게임 시작\n",
    "        check_count = 0 #세로줄 확인 변수\n",
    "        check = True #빈공간일경우 False, 꺼낼 물건이 있을 경우 True\n",
    "        \n",
    "        #빈칸 확인 & 물건 꺼내기 \n",
    "        while check:\n",
    "            if check_count > len(board)-1: #check_count가 전체 길이보다 커지는 경우는 없으니 해당 경우는 모든 열이 비워져 있다.\n",
    "                    check = False #아무것도 꺼내지 않았음을 표시\n",
    "                    break\n",
    "\n",
    "            if board[check_count][moves[i]-1] == 0: #해당 구역이 0(빈칸) 이였을 경우 더 깊이 내려간다\n",
    "                check_count +=1\n",
    "                \n",
    "            else: \n",
    "                value = board[check_count][moves[i]-1]\n",
    "                board[check_count][moves[i]-1] = 0 #꺼내기\n",
    "                break #서칭 종료\n",
    "                \n",
    "        # 예외 케이스 (앞에서 꺼낸 것이 아무것도 없는 경우)\n",
    "        if check == False: #해당 구역에는 빈공간으로 아무것도 하지 않고 넘어간다\n",
    "            continue\n",
    "        \n",
    "        # POP이 일어났을 경우 추가 없이 answer 2개 추가 후 POP 과정 진행\n",
    "        else:    \n",
    "            if stack_list[stack_count-1] == value: #꺼내온 값이 이전 값과 동일 할 경우 (pop)\n",
    "                answer +=2 \n",
    "                stack_count -= 1 #스택내리고\n",
    "                stack_list[stack_count] = None #이전값을 None으로 설정\n",
    "                continue \n",
    "            \n",
    "            #POP이 일어나지 않았을 경우 단순 추가\n",
    "            stack_list[stack_count] = value #push\n",
    "            stack_count+=1\n",
    "\n",
    "    return answer"
   ]
  }
 ],
 "metadata": {
  "kernelspec": {
   "display_name": "Python 3 (ipykernel)",
   "language": "python",
   "name": "python3"
  },
  "language_info": {
   "codemirror_mode": {
    "name": "ipython",
    "version": 3
   },
   "file_extension": ".py",
   "mimetype": "text/x-python",
   "name": "python",
   "nbconvert_exporter": "python",
   "pygments_lexer": "ipython3",
   "version": "3.9.12"
  }
 },
 "nbformat": 4,
 "nbformat_minor": 5
}
