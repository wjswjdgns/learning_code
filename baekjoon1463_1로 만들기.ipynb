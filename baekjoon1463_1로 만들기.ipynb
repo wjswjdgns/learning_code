{
 "cells": [
  {
   "cell_type": "markdown",
   "id": "0efba01b",
   "metadata": {},
   "source": [
    "# 문제 "
   ]
  },
  {
   "cell_type": "markdown",
   "id": "9aee0d04",
   "metadata": {},
   "source": [
    "정수 X에 사용할 수 있는 연산은 다음과 같이 세 가지 이다.\n",
    "\n",
    "X가 3으로 나누어 떨어지면, 3으로 나눈다.\n",
    "X가 2로 나누어 떨어지면, 2로 나눈다.\n",
    "1을 뺀다.\n",
    "정수 N이 주어졌을 때, 위와 같은 연산 세 개를 적절히 사용해서 1을 만들려고 한다. 연산을 사용하는 횟수의 최솟값을 출력하시오."
   ]
  },
  {
   "cell_type": "markdown",
   "id": "452c8421",
   "metadata": {},
   "source": [
    "# 입력"
   ]
  },
  {
   "cell_type": "markdown",
   "id": "a535d9c1",
   "metadata": {},
   "source": [
    "첫째 줄에 1보다 크거나 같고, 10**6보다 작거나 같은 정수 N이 주어진다."
   ]
  },
  {
   "cell_type": "markdown",
   "id": "720ce14f",
   "metadata": {},
   "source": [
    "# 출력"
   ]
  },
  {
   "cell_type": "markdown",
   "id": "51166a86",
   "metadata": {},
   "source": [
    "첫째 줄에 연산을 하는 횟수의 최솟값을 출력한다."
   ]
  },
  {
   "cell_type": "markdown",
   "id": "fa9cbee8",
   "metadata": {},
   "source": [
    "# 예제입력"
   ]
  },
  {
   "cell_type": "markdown",
   "id": "a6fb5a47",
   "metadata": {},
   "source": [
    "<pre>\n",
    "예제 입력    예제 출력\n",
    "   2          1\n",
    "</pre>"
   ]
  },
  {
   "cell_type": "markdown",
   "id": "af41ae7f",
   "metadata": {},
   "source": [
    "<pre>\n",
    "예제 입력    예제 출력\n",
    "  10          3\n",
    "</pre>"
   ]
  },
  {
   "cell_type": "markdown",
   "id": "4ab4c618",
   "metadata": {},
   "source": [
    "## 1차 코드"
   ]
  },
  {
   "cell_type": "markdown",
   "id": "01115825",
   "metadata": {},
   "source": [
    "- 실패"
   ]
  },
  {
   "cell_type": "code",
   "execution_count": null,
   "id": "4ad009d1",
   "metadata": {},
   "outputs": [],
   "source": [
    "def solution(N):\n",
    "    count = 0\n",
    "    value = N\n",
    "    while value-1: # value 값이 1이 되면 루프를 종료한다.\n",
    "        if (value-1)%3 == 0:\n",
    "            value -= 1\n",
    "            count+=1\n",
    "        elif value%3 == 0:\n",
    "            value = value//3\n",
    "            count+=1\n",
    "        elif value%2 == 0:\n",
    "            value = value//2\n",
    "            count+=1\n",
    "        else:\n",
    "            value -= 1\n",
    "            count+=1\n",
    "    return count\n",
    "\n",
    "N = int(input())\n",
    "print(solution(N))"
   ]
  },
  {
   "cell_type": "markdown",
   "id": "d0277936",
   "metadata": {},
   "source": [
    "## 2차 코드\n",
    "- 메모리 초과\n",
    "- 중복 계산이 있으므로 해당 부분을 생략 필요\n",
    "- 최솟값을 찾는 문제이기 때문에 전체의 경우의 수를 찾을 필요는 없다."
   ]
  },
  {
   "cell_type": "code",
   "execution_count": null,
   "id": "905c432e",
   "metadata": {},
   "outputs": [],
   "source": [
    "def solution(N):\n",
    "    global result\n",
    "    count = 1\n",
    "\n",
    "    result.append([])\n",
    "\n",
    "    if N%3 == 0:\n",
    "        result[0].append(N//3)\n",
    "    if N%2 == 0:\n",
    "        result[0].append(N//2)\n",
    "    if N-1 != 0:\n",
    "        result[0].append(N-1)\n",
    "        \n",
    "    while True:\n",
    "        if 1 in result[count-1]:\n",
    "            break\n",
    "        result.append([])\n",
    "        for value in result[count-1]:\n",
    "            if value%3 == 0:\n",
    "                result[count].append(value//3)\n",
    "            if value%2 == 0:\n",
    "                result[count].append(value//2)\n",
    "            if value-1 != 0:\n",
    "                result[count].append(value-1)\n",
    "        count+=1\n",
    "    return count\n",
    "\n",
    "N = int(input())\n",
    "result = []\n",
    "print(solution(N))"
   ]
  },
  {
   "cell_type": "markdown",
   "id": "ecc4d03c",
   "metadata": {},
   "source": [
    "## 3차 코드\n",
    "- 낮은 숫자부터 주어진 규칙을 적용하여 나올 수 있는 경우의 수를 확인\n",
    "- 각 숫자의 최단으로 갈 수 있는 방법을 memo에 작성"
   ]
  },
  {
   "cell_type": "markdown",
   "id": "36e9594c",
   "metadata": {},
   "source": [
    "```\n",
    "1. 2일 경우 (1,1)              --- 1     [ f(2) ]\n",
    "2. 3일 경우 (f(2)+1 ,1)        --- 1     [ f(3) ]\n",
    "3. 4일 경우 (f(3)+1 ,f(2)+1 )  --- 2     [ f(4) ]\n",
    "4. 5일 경우 (f(4)+1)           --- 3     [ f(5) ]\n",
    "5. 6일 경우 (f(5)+1 ,f(3)+1)   --- 2     [ f(6) ]\n",
    "6. 7일 경우 (f(6)+1 )          --- 3     [ f(7) ]\n",
    "7. 8일 경우 (f(7)+1 ,f(4)+1)   --- 3     [ f(8) ]\n",
    "8. 9일 경우 (f(8)+1 ,f(3)+1)   --- 2     [ f(9) ]\n",
    "9. 10일 경우 (f(9)+1 ,f(5)+1)  --- 3     [ f(10) ]\n",
    "```\n"
   ]
  },
  {
   "cell_type": "markdown",
   "id": "fffd45c3",
   "metadata": {},
   "source": [
    "---"
   ]
  },
  {
   "cell_type": "markdown",
   "id": "ec789ff2",
   "metadata": {},
   "source": [
    "위의 방법을 적용하여 10이 나누어 질 수 있는 방법은\n",
    "- 9(1로 뺀 숫자)에 대한 최소 횟수 확인  + 1(1을 뺀 것을 카운트)\n",
    "- 5(10을 2로 나눈 숫자)에 대한 최소 횟수 확인  +1(2로 나눈 것을 카운트)\n",
    "\n",
    "두 가지 케이스 중 최소 수치가 나온 것이 10이 1로 갈 수 있는 최소 횟수 이다."
   ]
  },
  {
   "cell_type": "code",
   "execution_count": 7,
   "id": "8f88d3a1",
   "metadata": {},
   "outputs": [
    {
     "name": "stdout",
     "output_type": "stream",
     "text": [
      "10\n",
      "3\n"
     ]
    }
   ],
   "source": [
    "N = int(input())\n",
    "memo = [0] * (N+1) # N의 까지의 결과를 메모 진행할 리스트\n",
    "\n",
    "for i in range(2, N+1): #작은 숫자 0과 1은 해당 규칙을 적용할 수 없기에 제외\n",
    "    memo[i] = memo[i-1] + 1 #이전 결과에 한번의 count 추가 (2와 3을 나눌 수 없는 경우)\n",
    "\n",
    "    # 2로 나누어 질 경우 (단순히 빼었을 때와 2와 나누었을때 두가지 케이스를 가지 수 확인) --> 최솟값 적용\n",
    "    if i%2 == 0:\n",
    "        memo[i] = min(memo[i], memo[i//2]+1) \n",
    "\n",
    "    # 3로 나누어 질 경우 (단순히 빼었을 때와 3와 나누었을때 두가지 케이스를 가지 수 확인) --> 최솟값 적용\n",
    "    if i%3 == 0:\n",
    "        memo[i] = min(memo[i], memo[i//3]+1) \n",
    "    \n",
    "print(memo[N])"
   ]
  },
  {
   "cell_type": "code",
   "execution_count": null,
   "id": "4bfc0741",
   "metadata": {},
   "outputs": [],
   "source": []
  }
 ],
 "metadata": {
  "kernelspec": {
   "display_name": "Python 3 (ipykernel)",
   "language": "python",
   "name": "python3"
  },
  "language_info": {
   "codemirror_mode": {
    "name": "ipython",
    "version": 3
   },
   "file_extension": ".py",
   "mimetype": "text/x-python",
   "name": "python",
   "nbconvert_exporter": "python",
   "pygments_lexer": "ipython3",
   "version": "3.9.12"
  }
 },
 "nbformat": 4,
 "nbformat_minor": 5
}
