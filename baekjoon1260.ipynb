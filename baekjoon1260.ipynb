{
 "cells": [
  {
   "cell_type": "markdown",
   "id": "857bff0e",
   "metadata": {},
   "source": [
    "# 1차 시도"
   ]
  },
  {
   "cell_type": "code",
   "execution_count": null,
   "id": "a653babc",
   "metadata": {},
   "outputs": [],
   "source": [
    "from collections import deque\n",
    "def DFS(start):\n",
    "    visited01[start] = True\n",
    "    print(start+1, end=\" \")\n",
    "    for i in value_list[start]:\n",
    "        if visited01[i-1] != True:\n",
    "            DFS(i-1)\n",
    "            \n",
    "def BFS(start):\n",
    "    child = deque()\n",
    "    child.append(start+1) #값이기에 +1\n",
    "    road = child.popleft()\n",
    "    \n",
    "    while road <= N: #이후 큐에 있는 값으로 BFS 방문 시작\n",
    "        road = child.popleft()\n",
    "        print(road, end=\" \")\n",
    "        for j in value_list[road-1]:\n",
    "            child.append(j)\n",
    "\n",
    "N,M,V = map(int,input().split())\n",
    "value_list = [[] for _ in range(N)]\n",
    "visited01 = [False for _ in range(N)]\n",
    "\n",
    "for _ in range(M):\n",
    "    a,b = map(int, input().split())\n",
    "    value_list[a-1].append(b)\n",
    "    value_list[b-1].append(a)\n",
    "\n",
    "for i in range(N): #정렬\n",
    "    value_list[i].sort() #작은 숫자부터 가져오기 위해 정렬\n",
    "\n",
    "DFS(V-1)\n",
    "print()\n",
    "BFS(V-1)"
   ]
  },
  {
   "cell_type": "code",
   "execution_count": null,
   "id": "6fc15b3a",
   "metadata": {},
   "outputs": [],
   "source": []
  },
  {
   "cell_type": "code",
   "execution_count": null,
   "id": "f69e5ae0",
   "metadata": {},
   "outputs": [],
   "source": []
  },
  {
   "cell_type": "code",
   "execution_count": null,
   "id": "178fa4f1",
   "metadata": {},
   "outputs": [],
   "source": []
  }
 ],
 "metadata": {
  "kernelspec": {
   "display_name": "Python 3 (ipykernel)",
   "language": "python",
   "name": "python3"
  },
  "language_info": {
   "codemirror_mode": {
    "name": "ipython",
    "version": 3
   },
   "file_extension": ".py",
   "mimetype": "text/x-python",
   "name": "python",
   "nbconvert_exporter": "python",
   "pygments_lexer": "ipython3",
   "version": "3.9.12"
  }
 },
 "nbformat": 4,
 "nbformat_minor": 5
}
