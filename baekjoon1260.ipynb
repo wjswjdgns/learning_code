{
 "cells": [
  {
   "cell_type": "markdown",
   "id": "9fd00d72",
   "metadata": {},
   "source": [
    "# 문제"
   ]
  },
  {
   "cell_type": "markdown",
   "id": "077251c4",
   "metadata": {},
   "source": [
    "그래프를 DFS로 탐색한 결과와 BFS로 탐색한 결과를 출력하는 프로그램을 작성하시오. 단, 방문할 수 있는 정점이 여러 개인 경우에는 정점 번호가 작은 것을 먼저 방문하고, 더 이상 방문할 수 있는 점이 없는 경우 종료한다. 정점 번호는 1번부터 N번까지이다."
   ]
  },
  {
   "cell_type": "markdown",
   "id": "2266a6e8",
   "metadata": {},
   "source": [
    "# 입력"
   ]
  },
  {
   "cell_type": "markdown",
   "id": "fc3a9148",
   "metadata": {},
   "source": [
    "첫째 줄에 정점의 개수 N(1 ≤ N ≤ 1,000), 간선의 개수 M(1 ≤ M ≤ 10,000), 탐색을 시작할 정점의 번호 V가 주어진다. 다음 M개의 줄에는 간선이 연결하는 두 정점의 번호가 주어진다. 어떤 두 정점 사이에 여러 개의 간선이 있을 수 있다. 입력으로 주어지는 간선은 양방향이다."
   ]
  },
  {
   "cell_type": "markdown",
   "id": "858d9544",
   "metadata": {},
   "source": [
    "# 출력"
   ]
  },
  {
   "cell_type": "markdown",
   "id": "2eb4768a",
   "metadata": {},
   "source": [
    "첫째 줄에 DFS를 수행한 결과를, 그 다음 줄에는 BFS를 수행한 결과를 출력한다. V부터 방문된 점을 순서대로 출력하면 된다."
   ]
  },
  {
   "cell_type": "markdown",
   "id": "5d72b332",
   "metadata": {},
   "source": [
    "<p>예제입력1</p>\n",
    "<pre>\n",
    "4 5 1\n",
    "1 2\n",
    "1 3\n",
    "1 4\n",
    "2 4\n",
    "3 4\n",
    "</pre>"
   ]
  },
  {
   "cell_type": "markdown",
   "id": "fa477ea9",
   "metadata": {},
   "source": [
    "<p>예제 출력1</p>\n",
    "<pre>\n",
    "1 2 4 3\n",
    "1 2 3 4\n",
    "</pre>"
   ]
  },
  {
   "cell_type": "markdown",
   "id": "7ef941d7",
   "metadata": {},
   "source": [
    "<p>예제입력2</p>\n",
    "<pre>\n",
    "5 5 3\n",
    "5 4\n",
    "5 2\n",
    "1 2\n",
    "3 4\n",
    "3 1\n",
    "</pre>"
   ]
  },
  {
   "cell_type": "markdown",
   "id": "ac717196",
   "metadata": {},
   "source": [
    "<p>예제출력2</p>\n",
    "<pre>\n",
    "3 1 2 5 4\n",
    "3 1 4 2 5\n",
    "</pre>"
   ]
  },
  {
   "cell_type": "markdown",
   "id": "857bff0e",
   "metadata": {},
   "source": [
    "# 1차 시도\n",
    "- 성공"
   ]
  },
  {
   "cell_type": "code",
   "execution_count": null,
   "id": "a653babc",
   "metadata": {},
   "outputs": [],
   "source": [
    "from collections import deque\n",
    "def DFS(start):\n",
    "    visited01[start] = True\n",
    "    print(start+1, end=\" \")\n",
    "    for i in value_list[start]:\n",
    "        if visited01[i-1] != True:\n",
    "            DFS(i-1)\n",
    "            \n",
    "def BFS(start):\n",
    "    child = deque()\n",
    "    child.append(start+1) #값이기에 +1\n",
    "    visited02[start] = True #맨 처음 값을 추가하면서 visited를 True 값으로 지정\n",
    "    \n",
    "    while child:\n",
    "        road = child.popleft() #\n",
    "        print(road, end=\" \")\n",
    "        for child_value in value_list[road-1]:\n",
    "            if visited02[child_value-1] == False: #deque(child)에 한번도 담겨있지 않았다면 False, 한번이라도 담겼다면 True\n",
    "                child.append(child_value)\n",
    "                visited02[child_value-1] = True\n",
    "\n",
    "N,M,V = map(int,input().split())\n",
    "value_list = [[] for _ in range(N)]\n",
    "visited01 = [False for _ in range(N)]\n",
    "visited02 = [False for _ in range(N)]\n",
    "\n",
    "for _ in range(M):\n",
    "    a,b = map(int, input().split())\n",
    "    value_list[a-1].append(b)\n",
    "    value_list[b-1].append(a)\n",
    "\n",
    "for i in range(N):\n",
    "    value_list[i].sort() #정점이 여러 개인 경우에는 정점 번호가 작은 것을 먼저 방문 --> 정렬 진행\n",
    "\n",
    "DFS(V-1)\n",
    "print()\n",
    "BFS(V-1)"
   ]
  }
 ],
 "metadata": {
  "kernelspec": {
   "display_name": "Python 3.10.6 ('crolling': venv)",
   "language": "python",
   "name": "python3"
  },
  "language_info": {
   "codemirror_mode": {
    "name": "ipython",
    "version": 3
   },
   "file_extension": ".py",
   "mimetype": "text/x-python",
   "name": "python",
   "nbconvert_exporter": "python",
   "pygments_lexer": "ipython3",
   "version": "3.10.6"
  },
  "vscode": {
   "interpreter": {
    "hash": "59aee6c7ff0c99865ab0138826e5eaae7f7531709688aced78df2ebdf31c5fa8"
   }
  }
 },
 "nbformat": 4,
 "nbformat_minor": 5
}
