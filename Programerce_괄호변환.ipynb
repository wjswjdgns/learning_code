{
 "cells": [
  {
   "cell_type": "markdown",
   "id": "d6c14259",
   "metadata": {},
   "source": [
    "https://school.programmers.co.kr/learn/courses/30/lessons/60058"
   ]
  },
  {
   "cell_type": "markdown",
   "id": "6b85eed6",
   "metadata": {},
   "source": [
    "# 문제"
   ]
  },
  {
   "cell_type": "markdown",
   "id": "66048c43",
   "metadata": {},
   "source": [
    "카카오에 신입 개발자로 입사한 \"콘\"은 선배 개발자로부터 개발역량 강화를 위해 다른 개발자가 작성한 소스 코드를 분석하여 문제점을 발견하고 수정하라는 업무 과제를 받았습니다. 소스를 컴파일하여 로그를 보니 대부분 소스 코드 내 작성된 괄호가 개수는 맞지만 짝이 맞지 않은 형태로 작성되어 오류가 나는 것을 알게 되었습니다.\n",
    "수정해야 할 소스 파일이 너무 많아서 고민하던 \"콘\"은 소스 코드에 작성된 모든 괄호를 뽑아서 올바른 순서대로 배치된 괄호 문자열을 알려주는 프로그램을 다음과 같이 개발하려고 합니다."
   ]
  },
  {
   "cell_type": "code",
   "execution_count": null,
   "id": "fa453714",
   "metadata": {},
   "outputs": [],
   "source": [
    "\"\"\"\n",
    "1. 입력이 빈 문자열인 경우, 빈 문자열을 반환합니다. \n",
    "\n",
    "2. 문자열 w를 두 \"균형잡힌 괄호 문자열\" u, v로 분리합니다. 단, u는 \"균형잡힌 괄호 문자열\"로 더 이상 분리할 수 없어야 하며, v는 빈 문자열이 될 수 있습니다. \n",
    "\n",
    "3. 문자열 u가 \"올바른 괄호 문자열\" 이라면 문자열 v에 대해 1단계부터 다시 수행합니다. \n",
    "  3-1. 수행한 결과 문자열을 u에 이어 붙인 후 반환합니다. \n",
    "  \n",
    "4. 문자열 u가 \"올바른 괄호 문자열\"이 아니라면 아래 과정을 수행합니다. \n",
    "  4-1. 빈 문자열에 첫 번째 문자로 '('를 붙입니다. \n",
    "  4-2. 문자열 v에 대해 1단계부터 재귀적으로 수행한 결과 문자열을 이어 붙입니다. \n",
    "  4-3. ')'를 다시 붙입니다. \n",
    "  4-4. u의 첫 번째와 마지막 문자를 제거하고, 나머지 문자열의 괄호 방향을 뒤집어서 뒤에 붙입니다. \n",
    "  4-5. 생성된 문자열을 반환합니다.\n",
    "  \n",
    "\"\"\""
   ]
  },
  {
   "cell_type": "code",
   "execution_count": null,
   "id": "f7199165",
   "metadata": {},
   "outputs": [],
   "source": [
    "from collections import deque\n",
    "\n",
    "def divide(p):\n",
    "    #p의 괄호 카운트 변수\n",
    "    u_count = 0 # '('\n",
    "    v_count = 0 # ')'\n",
    "\n",
    "    # 스캔을 진행하면서 u와 v를 분리 (v_count, u_count 두개가 같아 지는 순간)\n",
    "    for idx in range(len(p)):\n",
    "        if p[idx] == '(':\n",
    "            u_count+=1\n",
    "        else:\n",
    "            v_count+=1\n",
    "        \n",
    "        if u_count == v_count:\n",
    "            return p[:idx+1], p[idx+1:]\n",
    "           \n",
    "def check(u):\n",
    "    # u가 '올바른 괄호 문자열'인지 확인\n",
    "    check_stack = deque()\n",
    "    for u_value in u:\n",
    "        if u_value == '(':\n",
    "            check_stack.append(u_value)\n",
    "        else:\n",
    "            if '(' in check_stack:\n",
    "                check_stack.pop()\n",
    "            else:\n",
    "                return False\n",
    "    return True\n",
    "\n",
    "def solution(p):\n",
    "    # 1단계 : 입력이 빈 문자열인 경우, 빈 문자열을 반환합니다. \n",
    "    if p == '':\n",
    "        return ''\n",
    "\n",
    "    # 2단계 : 문자열 w를 두 \"균형잡힌 괄호 문자열\" u, v로 분리합니다. 단, u는 \"균형잡힌 괄호 문자열\"로 더 이상 분리할 수 없어야 하며, v는 빈 문자열이 될 수 있습니다. \n",
    "    u, v = divide(p) # u와 v값으로 나누기\n",
    "\n",
    "    # 3단계 : 문자열 u가 \"올바른 괄호 문자열\" 이라면 문자열 v에 대해 1단계부터 다시 수행합니다. \n",
    "    # 3-1. 수행한 결과 문자열을 u에 이어 붙인 후 반환합니다. \n",
    "\n",
    "    if check(u): # u 값이 '올바른 괄호 문자열' 일 경우\n",
    "        return u + solution(v) #u를 붙이고 1단계부터 시작 3\n",
    "\n",
    "    # 4단계 : 문자열 u가 \"올바른 괄호 문자열\"이 아니라면 아래 과정을 수행합니다. \n",
    "    else:\n",
    "        answer = '(' # 빈 문자열에 첫 번째 문자로 '('를 붙입니다.\n",
    "        answer += solution(v) #문자열 v에 대해 1단계부터 재귀적으로 수행한 결과 문자열을 이어 붙입니다. \n",
    "        answer += ')'         #')'를 다시 붙입니다. \n",
    "        \n",
    "        \n",
    "        #u의 첫 번째와 마지막 문자를 제거하고, 나머지 문자열의 괄호 방향을 뒤집어서 뒤에 붙입니다. \n",
    "        for u_value in u[1:len(u)-1]:\n",
    "            if u_value == '(':\n",
    "                answer += ')'\n",
    "            else:\n",
    "                answer += '('\n",
    "                \n",
    "    return answer #생성된 문자열을 반환합니다."
   ]
  },
  {
   "cell_type": "code",
   "execution_count": null,
   "id": "0b388b96",
   "metadata": {},
   "outputs": [],
   "source": []
  }
 ],
 "metadata": {
  "kernelspec": {
   "display_name": "Python 3 (ipykernel)",
   "language": "python",
   "name": "python3"
  },
  "language_info": {
   "codemirror_mode": {
    "name": "ipython",
    "version": 3
   },
   "file_extension": ".py",
   "mimetype": "text/x-python",
   "name": "python",
   "nbconvert_exporter": "python",
   "pygments_lexer": "ipython3",
   "version": "3.9.12"
  }
 },
 "nbformat": 4,
 "nbformat_minor": 5
}
