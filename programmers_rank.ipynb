{
 "cells": [
  {
   "cell_type": "markdown",
   "id": "c5ea8c36",
   "metadata": {},
   "source": [
    "# 문제"
   ]
  },
  {
   "cell_type": "markdown",
   "id": "d39d2aa2",
   "metadata": {},
   "source": [
    "n명의 권투선수가 권투 대회에 참여했고 각각 1번부터 n번까지 번호를 받았습니다. 권투 경기는 1대1 방식으로 진행이 되고, 만약 A 선수가 B 선수보다 실력이 좋다면 A 선수는 B 선수를 항상 이깁니다. 심판은 주어진 경기 결과를 가지고 선수들의 순위를 매기려 합니다. 하지만 몇몇 경기 결과를 분실하여 정확하게 순위를 매길 수 없습니다.\n",
    "선수의 수 n, 경기 결과를 담은 2차원 배열 results가 매개변수로 주어질 때 정확하게 순위를 매길 수 있는 선수의 수를 return 하도록 solution 함수를 작성해주세요."
   ]
  },
  {
   "cell_type": "markdown",
   "id": "87745811",
   "metadata": {},
   "source": [
    "# 제한사항"
   ]
  },
  {
   "cell_type": "markdown",
   "id": "0ac327d2",
   "metadata": {},
   "source": [
    "선수의 수는 1명 이상 100명 이하입니다. <br>\n",
    "경기 결과는 1개 이상 4,500개 이하입니다. <br>\n",
    "results 배열 각 행 [A, B]는 A 선수가 B 선수를 이겼다는 의미입니다. <br>\n",
    "모든 경기 결과에는 모순이 없습니다."
   ]
  },
  {
   "cell_type": "markdown",
   "id": "d3663ce7",
   "metadata": {},
   "source": [
    "# 입출력 예"
   ]
  },
  {
   "cell_type": "markdown",
   "id": "763263a2",
   "metadata": {},
   "source": [
    "<pre>\n",
    "n\t              results\t                 return\n",
    "5\t[[4, 3], [4, 2], [3, 2], [1, 2], [2, 5]]\t2\n",
    "\n",
    "</pre>"
   ]
  },
  {
   "cell_type": "markdown",
   "id": "a932e2af",
   "metadata": {},
   "source": [
    "## 입출력 예 설명"
   ]
  },
  {
   "cell_type": "markdown",
   "id": "c85539a1",
   "metadata": {},
   "source": [
    "2번 선수는 [1, 3, 4] 선수에게 패배했고 5번 선수에게 승리했기 때문에 4위입니다. <Br>\n",
    "5번 선수는 4위인 2번 선수에게 패배했기 때문에 5위입니다."
   ]
  },
  {
   "cell_type": "markdown",
   "id": "beb00a49",
   "metadata": {},
   "source": [
    "# 1차 코드"
   ]
  },
  {
   "cell_type": "code",
   "execution_count": null,
   "id": "32097ed2",
   "metadata": {},
   "outputs": [],
   "source": []
  },
  {
   "cell_type": "code",
   "execution_count": null,
   "id": "56ebc134",
   "metadata": {},
   "outputs": [],
   "source": []
  }
 ],
 "metadata": {
  "kernelspec": {
   "display_name": "Python 3 (ipykernel)",
   "language": "python",
   "name": "python3"
  },
  "language_info": {
   "codemirror_mode": {
    "name": "ipython",
    "version": 3
   },
   "file_extension": ".py",
   "mimetype": "text/x-python",
   "name": "python",
   "nbconvert_exporter": "python",
   "pygments_lexer": "ipython3",
   "version": "3.9.12"
  }
 },
 "nbformat": 4,
 "nbformat_minor": 5
}
