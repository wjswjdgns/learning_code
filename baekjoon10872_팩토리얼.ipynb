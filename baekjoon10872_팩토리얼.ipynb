{
 "cells": [
  {
   "cell_type": "markdown",
   "id": "5093eb3d",
   "metadata": {},
   "source": [
    "### 문제"
   ]
  },
  {
   "cell_type": "markdown",
   "id": "51a66b4d",
   "metadata": {},
   "source": [
    "0보다 크거나 같은 정수 N이 주어진다. 이때, N!을 출력하는 프로그램을 작성하시오."
   ]
  },
  {
   "cell_type": "markdown",
   "id": "3346a4c6",
   "metadata": {},
   "source": [
    "### 입력"
   ]
  },
  {
   "cell_type": "markdown",
   "id": "faa162fe",
   "metadata": {},
   "source": [
    "첫째 줄에 정수 N(0 ≤ N ≤ 12)이 주어진다.\n",
    "\n"
   ]
  },
  {
   "cell_type": "markdown",
   "id": "8f7cada0",
   "metadata": {},
   "source": [
    "### 출력\n"
   ]
  },
  {
   "cell_type": "markdown",
   "id": "6c013813",
   "metadata": {},
   "source": [
    "첫째 줄에 N!을 출력한다.\n",
    "\n"
   ]
  },
  {
   "cell_type": "markdown",
   "id": "980525ed",
   "metadata": {},
   "source": [
    "<pre>\n",
    "예제 입력\n",
    "10\n",
    "0\n",
    "</pre>\n",
    "<pre>\n",
    "예제 출력\n",
    "3628800\n",
    "1\n",
    "</pre>"
   ]
  },
  {
   "cell_type": "markdown",
   "id": "e2a29362",
   "metadata": {},
   "source": [
    "### 코드\n",
    "- 성공"
   ]
  },
  {
   "cell_type": "code",
   "execution_count": null,
   "id": "0fb78506",
   "metadata": {},
   "outputs": [],
   "source": [
    "# 팩도리얼 만들기\n",
    "\n",
    "def solution(base):\n",
    "    if base <= 1:\n",
    "        return 1\n",
    "    return base * solution(base-1)\n",
    "\n",
    "N = int(input())\n",
    "print(solution(N))"
   ]
  },
  {
   "cell_type": "code",
   "execution_count": null,
   "id": "f8070dbf",
   "metadata": {},
   "outputs": [],
   "source": []
  }
 ],
 "metadata": {
  "kernelspec": {
   "display_name": "Python 3 (ipykernel)",
   "language": "python",
   "name": "python3"
  },
  "language_info": {
   "codemirror_mode": {
    "name": "ipython",
    "version": 3
   },
   "file_extension": ".py",
   "mimetype": "text/x-python",
   "name": "python",
   "nbconvert_exporter": "python",
   "pygments_lexer": "ipython3",
   "version": "3.9.12"
  }
 },
 "nbformat": 4,
 "nbformat_minor": 5
}
