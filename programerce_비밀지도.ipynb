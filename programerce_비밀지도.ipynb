{
 "cells": [
  {
   "cell_type": "markdown",
   "id": "21360b63",
   "metadata": {},
   "source": [
    "https://school.programmers.co.kr/learn/courses/30/lessons/17681"
   ]
  },
  {
   "cell_type": "code",
   "execution_count": null,
   "id": "7b34932f",
   "metadata": {},
   "outputs": [],
   "source": [
    "def cal(n,num1,num2):\n",
    "    result = ''\n",
    "    value01 = []\n",
    "    value02 = []\n",
    "    for i in range(n): #2진수 확인\n",
    "        value01.insert(0,str(num1%2))\n",
    "        num1 = num1//2\n",
    "\n",
    "        value02.insert(0,str(num2%2))\n",
    "        num2 = num2//2\n",
    "    \n",
    "    for i in range(n): #  #둘다 공백인 경우 공백 나머지는 벽\n",
    "        if value01[i] == '0' and value02[i] =='0':\n",
    "            result += ' '\n",
    "        else:\n",
    "            result += '#'  \n",
    "    return result\n",
    "\n",
    "def solution(n, arr1, arr2):\n",
    "    answer = []\n",
    "    for arr1_num,arr2_num in zip(arr1,arr2):\n",
    "        answer.append(cal(n,arr1_num,arr2_num))\n",
    "    return answer"
   ]
  }
 ],
 "metadata": {
  "kernelspec": {
   "display_name": "Python 3 (ipykernel)",
   "language": "python",
   "name": "python3"
  },
  "language_info": {
   "codemirror_mode": {
    "name": "ipython",
    "version": 3
   },
   "file_extension": ".py",
   "mimetype": "text/x-python",
   "name": "python",
   "nbconvert_exporter": "python",
   "pygments_lexer": "ipython3",
   "version": "3.9.12"
  }
 },
 "nbformat": 4,
 "nbformat_minor": 5
}
