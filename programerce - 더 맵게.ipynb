{
 "cells": [
  {
   "cell_type": "markdown",
   "id": "b7fb7ac6",
   "metadata": {},
   "source": [
    "# 문제 설명"
   ]
  },
  {
   "cell_type": "markdown",
   "id": "822ad4a0",
   "metadata": {},
   "source": [
    "매운 것을 좋아하는 Leo는 모든 음식의 스코빌 지수를 K 이상으로 만들고 싶습니다. 모든 음식의 스코빌 지수를 K 이상으로 만들기 위해 Leo는 스코빌 지수가 가장 낮은 두 개의 음식을 아래와 같이 특별한 방법으로 섞어 새로운 음식을 만듭니다."
   ]
  },
  {
   "cell_type": "markdown",
   "id": "335d7a9d",
   "metadata": {},
   "source": [
    "```\n",
    "섞은 음식의 스코빌 지수 = 가장 맵지 않은 음식의 스코빌 지수 + (두 번째로 맵지 않은 음식의 스코빌 지수 * 2)\n",
    "\n",
    "```"
   ]
  },
  {
   "cell_type": "markdown",
   "id": "0f39589d",
   "metadata": {},
   "source": [
    "Leo는 모든 음식의 스코빌 지수가 K 이상이 될 때까지 반복하여 섞습니다.\n",
    "Leo가 가진 음식의 스코빌 지수를 담은 배열 scoville과 원하는 스코빌 지수 K가 주어질 때, 모든 음식의 스코빌 지수를 K 이상으로 만들기 위해 섞어야 하는 최소 횟수를 return 하도록 solution 함수를 작성해주세요."
   ]
  },
  {
   "cell_type": "markdown",
   "id": "b1a11c6d",
   "metadata": {},
   "source": [
    "# 제한사항"
   ]
  },
  {
   "cell_type": "markdown",
   "id": "bbb7fe24",
   "metadata": {},
   "source": [
    "- scoville의 길이는 2 이상 1,000,000 이하입니다.\n",
    "- K는 0 이상 1,000,000,000 이하입니다.\n",
    "- scoville의 원소는 각각 0 이상 1,000,000 이하입니다.\n",
    "- 모든 음식의 스코빌 지수를 K 이상으로 만들 수 없는 경우에는 -1을 return 합니다."
   ]
  },
  {
   "cell_type": "markdown",
   "id": "994c0a3d",
   "metadata": {},
   "source": [
    "# 입출력 예"
   ]
  },
  {
   "cell_type": "markdown",
   "id": "da36b30d",
   "metadata": {},
   "source": [
    "```\n",
    "scoville\tK\treturn\n",
    "[1, 2, 3, 9, 10, 12]\t7\t2\n",
    "```"
   ]
  },
  {
   "cell_type": "markdown",
   "id": "2600fdc2",
   "metadata": {},
   "source": [
    "#입출력 예 설명"
   ]
  },
  {
   "cell_type": "markdown",
   "id": "f11f4ff4",
   "metadata": {},
   "source": [
    "```\n",
    "스코빌 지수가 1인 음식과 2인 음식을 섞으면 음식의 스코빌 지수가 아래와 같이 됩니다.\n",
    "새로운 음식의 스코빌 지수 = 1 + (2 * 2) = 5\n",
    "가진 음식의 스코빌 지수 = [5, 3, 9, 10, 12]\n",
    "\n",
    "스코빌 지수가 3인 음식과 5인 음식을 섞으면 음식의 스코빌 지수가 아래와 같이 됩니다.\n",
    "새로운 음식의 스코빌 지수 = 3 + (5 * 2) = 13\n",
    "가진 음식의 스코빌 지수 = [13, 9, 10, 12]\n",
    "```"
   ]
  },
  {
   "cell_type": "markdown",
   "id": "1275d4f3",
   "metadata": {},
   "source": [
    "모든 음식의 스코빌 지수가 7 이상이 되었고 이때 섞은 횟수는 2회입니다."
   ]
  },
  {
   "cell_type": "markdown",
   "id": "f3e2a5f6",
   "metadata": {},
   "source": [
    "# 코드"
   ]
  },
  {
   "cell_type": "code",
   "execution_count": 2,
   "id": "c8768c13",
   "metadata": {},
   "outputs": [],
   "source": [
    "scoville = [1,2,3,9,10,12]\n",
    "K = 7"
   ]
  },
  {
   "cell_type": "code",
   "execution_count": 3,
   "id": "078170f6",
   "metadata": {},
   "outputs": [],
   "source": [
    "import heapq\n",
    "def solution(scoville, k):\n",
    "    answer = 0\n",
    "    heapq.heapify(scoville) # 주어진 리스트를 힙 구조로 변경\n",
    "    \n",
    "    while scoville[0] < k and len(scoville) != 1:\n",
    "        min_one = heapq.heappop(scoville)\n",
    "        min_two = heapq.heappop(scoville)\n",
    "\n",
    "        # 계산진행\n",
    "        new_scov = min_one + (min_two * 2)\n",
    "        heapq.heappush(scoville, new_scov) #추가\n",
    "\n",
    "        answer +=1\n",
    "    \n",
    "    if scoville[0] < k:\n",
    "        return -1\n",
    "    else:\n",
    "        return answer"
   ]
  },
  {
   "cell_type": "code",
   "execution_count": 4,
   "id": "d20d01a0",
   "metadata": {},
   "outputs": [
    {
     "name": "stdout",
     "output_type": "stream",
     "text": [
      "2\n"
     ]
    }
   ],
   "source": [
    "print(solution(scoville,K))"
   ]
  },
  {
   "cell_type": "code",
   "execution_count": null,
   "id": "87f14267",
   "metadata": {},
   "outputs": [],
   "source": []
  }
 ],
 "metadata": {
  "kernelspec": {
   "display_name": "Python 3 (ipykernel)",
   "language": "python",
   "name": "python3"
  },
  "language_info": {
   "codemirror_mode": {
    "name": "ipython",
    "version": 3
   },
   "file_extension": ".py",
   "mimetype": "text/x-python",
   "name": "python",
   "nbconvert_exporter": "python",
   "pygments_lexer": "ipython3",
   "version": "3.9.13"
  }
 },
 "nbformat": 4,
 "nbformat_minor": 5
}
