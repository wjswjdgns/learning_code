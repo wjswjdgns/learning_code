{
 "cells": [
  {
   "cell_type": "markdown",
   "id": "b10d4026",
   "metadata": {},
   "source": [
    "# 문제"
   ]
  },
  {
   "cell_type": "markdown",
   "id": "90383bb0",
   "metadata": {},
   "source": [
    "지민이는 자신의 저택에서 MN개의 단위 정사각형으로 나누어져 있는 M×N 크기의 보드를 찾았다. 어떤 정사각형은 검은색으로 칠해져 있고, 나머지는 흰색으로 칠해져 있다. 지민이는 이 보드를 잘라서 8×8 크기의 체스판으로 만들려고 한다.\n",
    "\n",
    "체스판은 검은색과 흰색이 번갈아서 칠해져 있어야 한다. 구체적으로, 각 칸이 검은색과 흰색 중 하나로 색칠되어 있고, 변을 공유하는 두 개의 사각형은 다른 색으로 칠해져 있어야 한다. 따라서 이 정의를 따르면 체스판을 색칠하는 경우는 두 가지뿐이다. 하나는 맨 왼쪽 위 칸이 흰색인 경우, 하나는 검은색인 경우이다.\n",
    "\n",
    "보드가 체스판처럼 칠해져 있다는 보장이 없어서, 지민이는 8×8 크기의 체스판으로 잘라낸 후에 몇 개의 정사각형을 다시 칠해야겠다고 생각했다. 당연히 8*8 크기는 아무데서나 골라도 된다. 지민이가 다시 칠해야 하는 정사각형의 최소 개수를 구하는 프로그램을 작성하시오."
   ]
  },
  {
   "cell_type": "markdown",
   "id": "328f2747",
   "metadata": {},
   "source": [
    "## 입력"
   ]
  },
  {
   "cell_type": "markdown",
   "id": "39b71042",
   "metadata": {},
   "source": [
    "첫째 줄에 N과 M이 주어진다. N과 M은 8보다 크거나 같고, 50보다 작거나 같은 자연수이다. 둘째 줄부터 N개의 줄에는 보드의 각 행의 상태가 주어진다. B는 \n",
    "검은색이며, W는 흰색이다."
   ]
  },
  {
   "cell_type": "markdown",
   "id": "857f2eb3",
   "metadata": {},
   "source": [
    "## 출력"
   ]
  },
  {
   "cell_type": "markdown",
   "id": "908f53d2",
   "metadata": {},
   "source": [
    "첫째 줄에 지민이가 다시 칠해야 하는 정사각형 개수의 최솟값을 출력한다.\n",
    "\n"
   ]
  },
  {
   "cell_type": "code",
   "execution_count": 6,
   "id": "ba2f4b28",
   "metadata": {},
   "outputs": [
    {
     "name": "stdout",
     "output_type": "stream",
     "text": [
      "10 13\n",
      "BBBBBBBBWBWBW\n",
      "BBBBBBBBBWBWB\n",
      "BBBBBBBBWBWBW\n",
      "BBBBBBBBBWBWB\n",
      "BBBBBBBBWBWBW\n",
      "BBBBBBBBBWBWB\n",
      "BBBBBBBBWBWBW\n",
      "BBBBBBBBBWBWB\n",
      "WWWWWWWWWWBWB\n",
      "WWWWWWWWWWBWB\n",
      "12\n"
     ]
    }
   ],
   "source": [
    "N,M = map(int, input().split()) # M =행 N= 열\n",
    "value_list = []\n",
    "min_count = 10000\n",
    "for i in range(N):\n",
    "    value_list.append(input())\n",
    "\n",
    "#범위 설정 (모든 경우의 수)\n",
    "for col in range(N-7): #세로 기준\n",
    "    for row in range(M-7): #가로 기준\n",
    "        \n",
    "        b_count = 0 #black기준\n",
    "        w_count = 0 #white기준\n",
    "        \n",
    "        for c in range(8): #기준에 맞게 8*8 생성 (세로)\n",
    "            for r in range(8):  #기준에 맞게 8*8 생성 (가로)\n",
    "                \n",
    "                if ((c+col)+(r+row)) %2 == 0: \n",
    "                    if value_list[c+col][r+row] != 'B': #처음 시작이 블랙인 경우\n",
    "                        w_count += 1\n",
    "                    if value_list[c+col][r+row] != 'W': #처음 시작이 화이트인 경우\n",
    "                        b_count += 1\n",
    "                        \n",
    "                else:\n",
    "                    if value_list[c+col][r+row] != 'W': #두번째가 화이트인 경우 (처음 시작이 블랙인 경우)\n",
    "                        w_count += 1\n",
    "                    if value_list[c+col][r+row] != 'B': #두번째가 블랙인 경우 (처음 시작이 화이트인 경우)\n",
    "                        b_count += 1\n",
    "                        \n",
    "        min_count = min(min_count, w_count, b_count)\n",
    "            \n",
    "\n",
    "print(min_count)\n",
    "#해당 범위 안에 고쳐야 할 수 확인 (흰색, 검은색)"
   ]
  },
  {
   "cell_type": "code",
   "execution_count": null,
   "id": "aabda458",
   "metadata": {},
   "outputs": [],
   "source": []
  },
  {
   "cell_type": "code",
   "execution_count": null,
   "id": "439afdc5",
   "metadata": {},
   "outputs": [],
   "source": []
  },
  {
   "cell_type": "code",
   "execution_count": null,
   "id": "02121ba3",
   "metadata": {},
   "outputs": [],
   "source": []
  },
  {
   "cell_type": "code",
   "execution_count": null,
   "id": "77db526c",
   "metadata": {},
   "outputs": [],
   "source": []
  }
 ],
 "metadata": {
  "kernelspec": {
   "display_name": "Python 3 (ipykernel)",
   "language": "python",
   "name": "python3"
  },
  "language_info": {
   "codemirror_mode": {
    "name": "ipython",
    "version": 3
   },
   "file_extension": ".py",
   "mimetype": "text/x-python",
   "name": "python",
   "nbconvert_exporter": "python",
   "pygments_lexer": "ipython3",
   "version": "3.9.12"
  }
 },
 "nbformat": 4,
 "nbformat_minor": 5
}
