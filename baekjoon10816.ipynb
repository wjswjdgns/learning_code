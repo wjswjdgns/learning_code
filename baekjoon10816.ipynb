{
 "cells": [
  {
   "cell_type": "markdown",
   "id": "807504aa",
   "metadata": {},
   "source": [
    "# 문제"
   ]
  },
  {
   "cell_type": "markdown",
   "id": "6fd022f8",
   "metadata": {},
   "source": [
    "숫자 카드는 정수 하나가 적혀져 있는 카드이다. 상근이는 숫자 카드 N개를 가지고 있다. 정수 M개가 주어졌을 때, 이 수가 적혀있는 숫자 카드를 상근이가 몇 개 가지고 있는지 구하는 프로그램을 작성하시오."
   ]
  },
  {
   "cell_type": "markdown",
   "id": "c451881c",
   "metadata": {},
   "source": [
    "# 입력"
   ]
  },
  {
   "cell_type": "markdown",
   "id": "beb90f1d",
   "metadata": {},
   "source": [
    "첫째 줄에 상근이가 가지고 있는 숫자 카드의 개수 N(1 ≤ N ≤ 500,000)이 주어진다. 둘째 줄에는 숫자 카드에 적혀있는 정수가 주어진다. 숫자 카드에 적혀있는 수는 -10,000,000보다 크거나 같고, 10,000,000보다 작거나 같다.\n",
    "\n",
    "셋째 줄에는 M(1 ≤ M ≤ 500,000)이 주어진다. 넷째 줄에는 상근이가 몇 개 가지고 있는 숫자 카드인지 구해야 할 M개의 정수가 주어지며, 이 수는 공백으로 구분되어져 있다. 이 수도 -10,000,000보다 크거나 같고, 10,000,000보다 작거나 같다."
   ]
  },
  {
   "cell_type": "markdown",
   "id": "a26a3930",
   "metadata": {},
   "source": [
    "# 출력"
   ]
  },
  {
   "cell_type": "markdown",
   "id": "27655b71",
   "metadata": {},
   "source": [
    "첫째 줄에 입력으로 주어진 M개의 수에 대해서, 각 수가 적힌 숫자 카드를 상근이가 몇 개 가지고 있는지를 공백으로 구분해 출력한다."
   ]
  },
  {
   "cell_type": "markdown",
   "id": "7cde6921",
   "metadata": {},
   "source": [
    "<hr>"
   ]
  },
  {
   "cell_type": "markdown",
   "id": "b41f0aeb",
   "metadata": {},
   "source": [
    "## 고려해야 할 점"
   ]
  },
  {
   "cell_type": "markdown",
   "id": "e8ff4516",
   "metadata": {},
   "source": [
    "1. 시간제한 1초\n",
    "2. N(1 ≤ N ≤ 500,000),  -10,000,000보다 크거나 같고, 10,000,000보다 작거나 같다.\n",
    "3. M(1 ≤ M ≤ 500,000),  -10,000,000보다 크거나 같고, 10,000,000보다 작거나 같다."
   ]
  },
  {
   "cell_type": "markdown",
   "id": "d438f093",
   "metadata": {},
   "source": [
    "* 일반적으로 반복을 통해 찾았을 경우 시간초과가 날 것으로 생각되어 이분탐색으로 진행"
   ]
  },
  {
   "cell_type": "markdown",
   "id": "d069bc6b",
   "metadata": {},
   "source": [
    "### :: 테스트 입력값"
   ]
  },
  {
   "cell_type": "markdown",
   "id": "6c136f0e",
   "metadata": {},
   "source": [
    "10 <br>\n",
    "6 3 2 10 10 10 -10 -10 7 3 <br>\n",
    "8 <br>\n",
    "10 9 -5 2 3 4 5 -10"
   ]
  },
  {
   "cell_type": "markdown",
   "id": "f2b5d7cd",
   "metadata": {},
   "source": [
    "### :: 테스트 출력값"
   ]
  },
  {
   "cell_type": "markdown",
   "id": "2a0156f3",
   "metadata": {},
   "source": [
    "3 0 0 1 2 0 0 2"
   ]
  },
  {
   "cell_type": "code",
   "execution_count": null,
   "id": "3c182bfb",
   "metadata": {},
   "outputs": [],
   "source": [
    "##임시 테스트 변수\n",
    "N = 10\n",
    "M = 8\n",
    "user_card = [6,3,2,10,10,10,-10,-10,7,3]\n",
    "check_card = [10,9,-5,2,3,4,5,-10]"
   ]
  },
  {
   "cell_type": "markdown",
   "id": "8cf49bf9",
   "metadata": {},
   "source": [
    "# 1차 코드 (이분탐색 활용)\n",
    "- 시간초과"
   ]
  },
  {
   "cell_type": "code",
   "execution_count": 4,
   "id": "fe06e46a",
   "metadata": {},
   "outputs": [
    {
     "name": "stdout",
     "output_type": "stream",
     "text": [
      "3 0 0 1 2 0 0 2 "
     ]
    }
   ],
   "source": [
    "### 분류 작업 함수\n",
    "def soultion(arr,idx):\n",
    "    # 값을 못찾을 경우 \n",
    "    if len(arr) == 0:\n",
    "        print(0, end=\" \")\n",
    "        return\n",
    "    \n",
    "    global check_card\n",
    "    pivot = len(arr)//2 # 중앙 기준 값\n",
    "\n",
    "    if arr[pivot] == check_card[idx]: #user_card의 중앙값과 check_card의 값과 동일 했을 때\n",
    "        print(arr.count(arr[pivot]), end=\" \")\n",
    "        return \n",
    "    \n",
    "    elif arr[pivot] > check_card[idx]:\n",
    "        soultion(arr[:pivot], idx) # [0 ~ 중앙값 이전]까지 가져온다 \n",
    "    elif arr[pivot] < check_card[idx]:\n",
    "        soultion(arr[pivot+1:], idx) # [중앙값 이후 ~ 끝] 까지 범위 설정\n",
    "\n",
    "### 입력 값 ---------\n",
    "N = int(input())\n",
    "user_card = list(map(int, input().split())) #상근이가 들고 있는 카드\n",
    "\n",
    "M = int(input())\n",
    "check_card = list(map(int,input().split())) #확인해야 하는 카드\n",
    "\n",
    "### 필요 변수 ---------\n",
    "end = len(check_card)\n",
    "user_card.sort() #정렬 (이분 탐색에 필요)\n",
    "\n",
    "### 체크 및 결과 노출\n",
    "for i in range(end): #check_card의 인덱스 값으로 i를 활용\n",
    "    soultion(user_card,i)"
   ]
  },
  {
   "cell_type": "markdown",
   "id": "7a0a9427",
   "metadata": {},
   "source": [
    "# 2차 코드 (이분탐색 + sys.stdin.readline() 활용)\n",
    "- 코드 정리\n",
    "- 시간초과"
   ]
  },
  {
   "cell_type": "code",
   "execution_count": null,
   "id": "87cd7d15",
   "metadata": {},
   "outputs": [],
   "source": [
    "import sys\n",
    "### 분류 작업 함수\n",
    "def soultion(arr, target, start, end):\n",
    "    # 값을 못찾을 경우 \n",
    "    if start > end:\n",
    "        return 0\n",
    "    \n",
    "    pivot = (start+end)//2 # 중앙 기준 값\n",
    "    \n",
    "    if arr[pivot] == target: #user_card의 중앙값과 check_card의 값과 동일 했을 때\n",
    "        return arr.count(target)\n",
    "    \n",
    "    elif arr[pivot] > target:\n",
    "        return soultion(arr, target, start, pivot-1)\n",
    "    else:\n",
    "        return soultion(arr, target, pivot+1, end)\n",
    "\n",
    "\n",
    "### 입력 값 ---------\n",
    "N = int(sys.stdin.readline())\n",
    "user_card = sorted(map(int, sys.stdin.readline().split())) #상근이가 들고 있는 카드 (정렬 진행)\n",
    "\n",
    "M = int(sys.stdin.readline())\n",
    "check_card = list(map(int, sys.stdin.readline().split())) #확인해야 하는 카드\n",
    "\n",
    "### 필요 변수 ---------\n",
    "roop = len(check_card)\n",
    "end = len(user_card)-1\n",
    "\n",
    "### 체크 및 결과 노출\n",
    "for i in range(roop):\n",
    "    print(soultion(user_card, check_card[i], 0, end), end=' ') # user_card = 상근이 카드 목록 // check_card[i] = 확인 값 // 처음 인덱스 // 끝 인덱스"
   ]
  },
  {
   "cell_type": "markdown",
   "id": "6cea4a2b",
   "metadata": {},
   "source": [
    "# 3차 코드 (이분탐색 + count 사용 대신 dic에서 가져옴)\n",
    "- 성공\n",
    "- 리스트에서 count는  시간복잡도 O(n)"
   ]
  },
  {
   "cell_type": "code",
   "execution_count": null,
   "id": "ce2cb128",
   "metadata": {},
   "outputs": [],
   "source": [
    "import sys\n",
    "### 분류 작업 함수\n",
    "def soultion(arr, target, start, end):\n",
    "   \n",
    "    # 값을 못찾을 경우 \n",
    "    if start > end:\n",
    "        return 0\n",
    "    \n",
    "    pivot = (start+end)//2 # 중앙 기준 값\n",
    "    \n",
    "    if arr[pivot] == target: #user_card의 중앙값과 check_card의 값과 동일 했을 때\n",
    "        return user_dic[target]\n",
    "    \n",
    "    elif arr[pivot] > target:\n",
    "        return soultion(arr, target, start, pivot-1)\n",
    "    else:\n",
    "        return soultion(arr, target, pivot+1, end)\n",
    "\n",
    "\n",
    "### 입력 값 ---------\n",
    "N = int(sys.stdin.readline())\n",
    "user_card = sorted(map(int, sys.stdin.readline().split())) #상근이가 들고 있는 카드\n",
    "\n",
    "M = int(sys.stdin.readline())\n",
    "check_card = list(map(int, sys.stdin.readline().split())) #확인해야 하는 카드\n",
    "\n",
    "### 필요 변수 ---------\n",
    "end = len(user_card)-1\n",
    "\n",
    "### 상근이가 들고 있는 카드들 갯수들 등록\n",
    "user_dic = {}\n",
    "for card in user_card:\n",
    "    if card in user_dic:\n",
    "        user_dic[card] += 1\n",
    "    else:\n",
    "        user_dic[card] = 1\n",
    "\n",
    "### 체크 및 결과 노출\n",
    "for i in check_card: \n",
    "   print(soultion(user_card, i, 0, end), end=' ')"
   ]
  },
  {
   "cell_type": "markdown",
   "id": "53753e57",
   "metadata": {},
   "source": [
    "# 기타 코드 (딕셔너리로 선형탐색 진행)\n",
    "- 성공\n",
    "- 해당 문제의 테스트입력 값은 이분탐색이 의미가 없는 것 같음 "
   ]
  },
  {
   "cell_type": "code",
   "execution_count": 5,
   "id": "0b0f1509",
   "metadata": {},
   "outputs": [],
   "source": [
    "# 딕셔너리 선형탐색\n",
    "import sys\n",
    "N = int(sys.stdin.readline())\n",
    "user_card = sorted(map(int, sys.stdin.readline().split())) #상근이가 들고 있는 카드\n",
    "\n",
    "M = int(sys.stdin.readline())\n",
    "check_card = list(map(int, sys.stdin.readline().split())) #확인해야 하는 카드\n",
    "\n",
    "### 상근이가 들고 있는 카드들 갯수들 등록\n",
    "user_dic = {}\n",
    "for card in user_card:\n",
    "    if card in user_dic:\n",
    "        user_dic[card] += 1\n",
    "    else:\n",
    "        user_dic[card] = 1\n",
    "        \n",
    "### 체크해야 하는 카드들을 선형형태로 확인\n",
    "for target in check_card:\n",
    "    if target in user_dic:\n",
    "        print(user_dic[target], end= \" \")\n",
    "    else:\n",
    "        print(0, end=\" \")"
   ]
  }
 ],
 "metadata": {
  "kernelspec": {
   "display_name": "Python 3.10.6 ('crolling': venv)",
   "language": "python",
   "name": "python3"
  },
  "language_info": {
   "codemirror_mode": {
    "name": "ipython",
    "version": 3
   },
   "file_extension": ".py",
   "mimetype": "text/x-python",
   "name": "python",
   "nbconvert_exporter": "python",
   "pygments_lexer": "ipython3",
   "version": "3.10.6"
  },
  "vscode": {
   "interpreter": {
    "hash": "59aee6c7ff0c99865ab0138826e5eaae7f7531709688aced78df2ebdf31c5fa8"
   }
  }
 },
 "nbformat": 4,
 "nbformat_minor": 5
}
