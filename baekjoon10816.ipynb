{
 "cells": [
  {
   "cell_type": "markdown",
   "id": "807504aa",
   "metadata": {},
   "source": [
    "# 문제"
   ]
  },
  {
   "cell_type": "markdown",
   "id": "6fd022f8",
   "metadata": {},
   "source": [
    "숫자 카드는 정수 하나가 적혀져 있는 카드이다. 상근이는 숫자 카드 N개를 가지고 있다. 정수 M개가 주어졌을 때, 이 수가 적혀있는 숫자 카드를 상근이가 몇 개 가지고 있는지 구하는 프로그램을 작성하시오."
   ]
  },
  {
   "cell_type": "markdown",
   "id": "c451881c",
   "metadata": {},
   "source": [
    "# 입력"
   ]
  },
  {
   "cell_type": "markdown",
   "id": "beb90f1d",
   "metadata": {},
   "source": [
    "첫째 줄에 상근이가 가지고 있는 숫자 카드의 개수 N(1 ≤ N ≤ 500,000)이 주어진다. 둘째 줄에는 숫자 카드에 적혀있는 정수가 주어진다. 숫자 카드에 적혀있는 수는 -10,000,000보다 크거나 같고, 10,000,000보다 작거나 같다.\n",
    "\n",
    "셋째 줄에는 M(1 ≤ M ≤ 500,000)이 주어진다. 넷째 줄에는 상근이가 몇 개 가지고 있는 숫자 카드인지 구해야 할 M개의 정수가 주어지며, 이 수는 공백으로 구분되어져 있다. 이 수도 -10,000,000보다 크거나 같고, 10,000,000보다 작거나 같다."
   ]
  },
  {
   "cell_type": "markdown",
   "id": "a26a3930",
   "metadata": {},
   "source": [
    "# 출력"
   ]
  },
  {
   "cell_type": "markdown",
   "id": "27655b71",
   "metadata": {},
   "source": [
    "첫째 줄에 입력으로 주어진 M개의 수에 대해서, 각 수가 적힌 숫자 카드를 상근이가 몇 개 가지고 있는지를 공백으로 구분해 출력한다."
   ]
  },
  {
   "cell_type": "markdown",
   "id": "7cde6921",
   "metadata": {},
   "source": [
    "<hr>"
   ]
  },
  {
   "cell_type": "markdown",
   "id": "b41f0aeb",
   "metadata": {},
   "source": [
    "## 고려해야 할 점"
   ]
  },
  {
   "cell_type": "markdown",
   "id": "e8ff4516",
   "metadata": {},
   "source": [
    "1. 시간제한 1초\n",
    "2. N(1 ≤ N ≤ 500,000),  -10,000,000보다 크거나 같고, 10,000,000보다 작거나 같다.\n",
    "3. M(1 ≤ M ≤ 500,000),  -10,000,000보다 크거나 같고, 10,000,000보다 작거나 같다."
   ]
  },
  {
   "cell_type": "markdown",
   "id": "d438f093",
   "metadata": {},
   "source": [
    "* 일반적으로 반복을 통해 찾았을 경우 시간초과가 날 것으로 생각되어 이분탐색으로 진행"
   ]
  },
  {
   "cell_type": "markdown",
   "id": "d069bc6b",
   "metadata": {},
   "source": [
    "### :: 테스트 입력값"
   ]
  },
  {
   "cell_type": "markdown",
   "id": "6c136f0e",
   "metadata": {},
   "source": [
    "10 <br>\n",
    "6 3 2 10 10 10 -10 -10 7 3 <br>\n",
    "8 <br>\n",
    "10 9 -5 2 3 4 5 -10"
   ]
  },
  {
   "cell_type": "markdown",
   "id": "f2b5d7cd",
   "metadata": {},
   "source": [
    "### :: 테스트 출력값"
   ]
  },
  {
   "cell_type": "markdown",
   "id": "2a0156f3",
   "metadata": {},
   "source": [
    "3 0 0 1 2 0 0 2"
   ]
  },
  {
   "cell_type": "markdown",
   "id": "8cf49bf9",
   "metadata": {},
   "source": [
    "# 코드"
   ]
  },
  {
   "cell_type": "code",
   "execution_count": 12,
   "id": "fe06e46a",
   "metadata": {},
   "outputs": [
    {
     "name": "stdout",
     "output_type": "stream",
     "text": [
      "[-10, -10, 2, 3, 3, 6, 7, 10, 10, 10]\n",
      "None None None None None None None None "
     ]
    }
   ],
   "source": [
    "### 분류 작업 함수\n",
    "\n",
    "def soultion(arr,idx):\n",
    "    \n",
    "    # 값을 못찾을 경우 \n",
    "    if len(arr) == 0:\n",
    "        return 0\n",
    "    \n",
    "    global check_card\n",
    "    pivot = len(arr)//2 # 중앙 기준 값\n",
    "\n",
    "    if arr[pivot] == check_card[idx]: #user_card의 중앙값과 check_card의 값과 동일 했을 때\n",
    "        return arr.count(arr[pivot])\n",
    "    \n",
    "    elif arr[pivot] > check_card[idx]:\n",
    "        soultion(arr[:pivot], idx)\n",
    "    elif arr[pivot] < check_card[idx]:\n",
    "        soultion(arr[pivot+1:], idx)\n",
    "\n",
    "\n",
    "\n",
    "### 입력 값 ---------\n",
    "\"\"\"\n",
    "N = int(input())\n",
    "user_card = list(map(int, input().split())) #상근이가 들고 있는 카드\n",
    "\n",
    "M = int(input())\n",
    "check_card = list(map(int,input().split())) #확인해야 하는 카드\n",
    "\"\"\"\n",
    "\n",
    "##임시 테스트 변수\n",
    "N = 10\n",
    "M = 8\n",
    "user_card = [6,3,2,10,10,10,-10,-10,7,3]\n",
    "check_card = [10,9,-5,2,3,4,5,-10]\n",
    "\n",
    "### 필요 변수 ---------\n",
    "end = len(check_card)\n",
    "user_card.sort() #정렬\n",
    "\n",
    "print(user_card)\n",
    "\n",
    "### 체크 및 결과 노출\n",
    "for i in range(end):\n",
    "    print(soultion(user_card,i), end=\" \")\n",
    "\n",
    "\n"
   ]
  },
  {
   "cell_type": "code",
   "execution_count": null,
   "id": "7a0a9427",
   "metadata": {},
   "outputs": [],
   "source": []
  }
 ],
 "metadata": {
  "kernelspec": {
   "display_name": "Python 3 (ipykernel)",
   "language": "python",
   "name": "python3"
  },
  "language_info": {
   "codemirror_mode": {
    "name": "ipython",
    "version": 3
   },
   "file_extension": ".py",
   "mimetype": "text/x-python",
   "name": "python",
   "nbconvert_exporter": "python",
   "pygments_lexer": "ipython3",
   "version": "3.9.12"
  }
 },
 "nbformat": 4,
 "nbformat_minor": 5
}
